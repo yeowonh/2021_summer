{
  "nbformat": 4,
  "nbformat_minor": 0,
  "metadata": {
    "colab": {
      "name": "신용카드_예측_new.ipynb",
      "provenance": [],
      "collapsed_sections": [],
      "toc_visible": true,
      "authorship_tag": "ABX9TyPPSNA60Ws/5bvj5TtXwURt",
      "include_colab_link": true
    },
    "kernelspec": {
      "name": "python3",
      "display_name": "Python 3"
    },
    "language_info": {
      "name": "python"
    }
  },
  "cells": [
    {
      "cell_type": "markdown",
      "metadata": {
        "id": "view-in-github",
        "colab_type": "text"
      },
      "source": [
        "<a href=\"https://colab.research.google.com/github/yeowonh/2021_summer/blob/main/Dacon_%EC%8B%A0%EC%9A%A9%EC%B9%B4%EB%93%9C%20%EC%98%88%EC%B8%A1.ipynb\" target=\"_parent\"><img src=\"https://colab.research.google.com/assets/colab-badge.svg\" alt=\"Open In Colab\"/></a>"
      ]
    },
    {
      "cell_type": "markdown",
      "metadata": {
        "id": "qlHPBVmQUeRR"
      },
      "source": [
        "# 라이브러리 및 데이터"
      ]
    },
    {
      "cell_type": "code",
      "metadata": {
        "colab": {
          "base_uri": "https://localhost:8080/"
        },
        "id": "1VWxQ3j0Udy4",
        "outputId": "5424326e-1aaa-4b0b-e25a-ca276ecae6f4"
      },
      "source": [
        "# 드라이브 마운트\n",
        "from google.colab import drive\n",
        "\n",
        "drive.mount('/content/gdrive')"
      ],
      "execution_count": null,
      "outputs": [
        {
          "output_type": "stream",
          "text": [
            "Mounted at /content/gdrive\n"
          ],
          "name": "stdout"
        }
      ]
    },
    {
      "cell_type": "code",
      "metadata": {
        "colab": {
          "base_uri": "https://localhost:8080/"
        },
        "id": "6Wr4-FWZUfcK",
        "outputId": "cf42d91e-aec7-48a0-a73e-5457951d1b46"
      },
      "source": [
        "# 라이브러리 불러오기\n",
        "import pandas as pd\n",
        "import numpy as np\n",
        "import seaborn as sns\n",
        "import matplotlib.pyplot as plt\n",
        "from sklearn import preprocessing\n",
        "from sklearn.ensemble import RandomForestClassifier\n",
        "from sklearn.model_selection import train_test_split, StratifiedKFold\n",
        "from sklearn.metrics import log_loss\n",
        "from collections import Counter\n",
        "from imblearn.over_sampling import SMOTE\n",
        "from sklearn.linear_model import LogisticRegression\n",
        "from lightgbm import LGBMClassifier\n",
        "from xgboost import XGBClassifier\n",
        "import warnings\n",
        "warnings.simplefilter(action='ignore', category=FutureWarning)"
      ],
      "execution_count": null,
      "outputs": [
        {
          "output_type": "stream",
          "text": [
            "/usr/local/lib/python3.7/dist-packages/sklearn/externals/six.py:31: FutureWarning: The module is deprecated in version 0.21 and will be removed in version 0.23 since we've dropped support for Python 2.7. Please rely on the official version of six (https://pypi.org/project/six/).\n",
            "  \"(https://pypi.org/project/six/).\", FutureWarning)\n",
            "/usr/local/lib/python3.7/dist-packages/sklearn/utils/deprecation.py:144: FutureWarning: The sklearn.neighbors.base module is  deprecated in version 0.22 and will be removed in version 0.24. The corresponding classes / functions should instead be imported from sklearn.neighbors. Anything that cannot be imported from sklearn.neighbors is now part of the private API.\n",
            "  warnings.warn(message, FutureWarning)\n"
          ],
          "name": "stderr"
        }
      ]
    },
    {
      "cell_type": "code",
      "metadata": {
        "id": "jw7fewkBUieS"
      },
      "source": [
        "# 데이터 불러오기\n",
        "train = pd.read_csv(\"/content/gdrive/My Drive/Colab Notebooks/credit/train.csv\")\n",
        "test = pd.read_csv(\"/content/gdrive/My Drive/Colab Notebooks/credit/test.csv\")\n",
        "sample_submission = pd.read_csv(\"/content/gdrive/My Drive/Colab Notebooks/credit/sample_submission.csv\")"
      ],
      "execution_count": null,
      "outputs": []
    },
    {
      "cell_type": "markdown",
      "metadata": {
        "id": "aHaE-OGwUjvk"
      },
      "source": [
        "# 데이터 통계 분석"
      ]
    },
    {
      "cell_type": "markdown",
      "metadata": {
        "id": "d_jxRzx4VJpZ"
      },
      "source": [
        "## 데이터 크기 & 결측치"
      ]
    },
    {
      "cell_type": "code",
      "metadata": {
        "colab": {
          "base_uri": "https://localhost:8080/"
        },
        "id": "pKEP41LtUsDo",
        "outputId": "cb0e36e5-b9d9-4848-9877-a882145cf293"
      },
      "source": [
        "# 데이터 크기\n",
        "train.shape"
      ],
      "execution_count": null,
      "outputs": [
        {
          "output_type": "execute_result",
          "data": {
            "text/plain": [
              "(26457, 20)"
            ]
          },
          "metadata": {
            "tags": []
          },
          "execution_count": 4
        }
      ]
    },
    {
      "cell_type": "code",
      "metadata": {
        "colab": {
          "base_uri": "https://localhost:8080/",
          "height": 374
        },
        "id": "GM2fF8caUtp7",
        "outputId": "2a28f170-013a-49d1-f4a8-7675a8dc024a"
      },
      "source": [
        "# 상위 5개 데이터 출력\n",
        "train.head()"
      ],
      "execution_count": null,
      "outputs": [
        {
          "output_type": "execute_result",
          "data": {
            "text/html": [
              "<div>\n",
              "<style scoped>\n",
              "    .dataframe tbody tr th:only-of-type {\n",
              "        vertical-align: middle;\n",
              "    }\n",
              "\n",
              "    .dataframe tbody tr th {\n",
              "        vertical-align: top;\n",
              "    }\n",
              "\n",
              "    .dataframe thead th {\n",
              "        text-align: right;\n",
              "    }\n",
              "</style>\n",
              "<table border=\"1\" class=\"dataframe\">\n",
              "  <thead>\n",
              "    <tr style=\"text-align: right;\">\n",
              "      <th></th>\n",
              "      <th>index</th>\n",
              "      <th>gender</th>\n",
              "      <th>car</th>\n",
              "      <th>reality</th>\n",
              "      <th>child_num</th>\n",
              "      <th>income_total</th>\n",
              "      <th>income_type</th>\n",
              "      <th>edu_type</th>\n",
              "      <th>family_type</th>\n",
              "      <th>house_type</th>\n",
              "      <th>DAYS_BIRTH</th>\n",
              "      <th>DAYS_EMPLOYED</th>\n",
              "      <th>FLAG_MOBIL</th>\n",
              "      <th>work_phone</th>\n",
              "      <th>phone</th>\n",
              "      <th>email</th>\n",
              "      <th>occyp_type</th>\n",
              "      <th>family_size</th>\n",
              "      <th>begin_month</th>\n",
              "      <th>credit</th>\n",
              "    </tr>\n",
              "  </thead>\n",
              "  <tbody>\n",
              "    <tr>\n",
              "      <th>0</th>\n",
              "      <td>0</td>\n",
              "      <td>F</td>\n",
              "      <td>N</td>\n",
              "      <td>N</td>\n",
              "      <td>0</td>\n",
              "      <td>202500.0</td>\n",
              "      <td>Commercial associate</td>\n",
              "      <td>Higher education</td>\n",
              "      <td>Married</td>\n",
              "      <td>Municipal apartment</td>\n",
              "      <td>-13899</td>\n",
              "      <td>-4709</td>\n",
              "      <td>1</td>\n",
              "      <td>0</td>\n",
              "      <td>0</td>\n",
              "      <td>0</td>\n",
              "      <td>NaN</td>\n",
              "      <td>2</td>\n",
              "      <td>-6</td>\n",
              "      <td>1</td>\n",
              "    </tr>\n",
              "    <tr>\n",
              "      <th>1</th>\n",
              "      <td>1</td>\n",
              "      <td>F</td>\n",
              "      <td>N</td>\n",
              "      <td>Y</td>\n",
              "      <td>1</td>\n",
              "      <td>247500.0</td>\n",
              "      <td>Commercial associate</td>\n",
              "      <td>Secondary / secondary special</td>\n",
              "      <td>Civil marriage</td>\n",
              "      <td>House / apartment</td>\n",
              "      <td>-11380</td>\n",
              "      <td>-1540</td>\n",
              "      <td>1</td>\n",
              "      <td>0</td>\n",
              "      <td>0</td>\n",
              "      <td>1</td>\n",
              "      <td>Laborers</td>\n",
              "      <td>3</td>\n",
              "      <td>-5</td>\n",
              "      <td>1</td>\n",
              "    </tr>\n",
              "    <tr>\n",
              "      <th>2</th>\n",
              "      <td>2</td>\n",
              "      <td>M</td>\n",
              "      <td>Y</td>\n",
              "      <td>Y</td>\n",
              "      <td>0</td>\n",
              "      <td>450000.0</td>\n",
              "      <td>Working</td>\n",
              "      <td>Higher education</td>\n",
              "      <td>Married</td>\n",
              "      <td>House / apartment</td>\n",
              "      <td>-19087</td>\n",
              "      <td>-4434</td>\n",
              "      <td>1</td>\n",
              "      <td>0</td>\n",
              "      <td>1</td>\n",
              "      <td>0</td>\n",
              "      <td>Managers</td>\n",
              "      <td>2</td>\n",
              "      <td>-22</td>\n",
              "      <td>2</td>\n",
              "    </tr>\n",
              "    <tr>\n",
              "      <th>3</th>\n",
              "      <td>3</td>\n",
              "      <td>F</td>\n",
              "      <td>N</td>\n",
              "      <td>Y</td>\n",
              "      <td>0</td>\n",
              "      <td>202500.0</td>\n",
              "      <td>Commercial associate</td>\n",
              "      <td>Secondary / secondary special</td>\n",
              "      <td>Married</td>\n",
              "      <td>House / apartment</td>\n",
              "      <td>-15088</td>\n",
              "      <td>-2092</td>\n",
              "      <td>1</td>\n",
              "      <td>0</td>\n",
              "      <td>1</td>\n",
              "      <td>0</td>\n",
              "      <td>Sales staff</td>\n",
              "      <td>2</td>\n",
              "      <td>-37</td>\n",
              "      <td>0</td>\n",
              "    </tr>\n",
              "    <tr>\n",
              "      <th>4</th>\n",
              "      <td>4</td>\n",
              "      <td>F</td>\n",
              "      <td>Y</td>\n",
              "      <td>Y</td>\n",
              "      <td>0</td>\n",
              "      <td>157500.0</td>\n",
              "      <td>State servant</td>\n",
              "      <td>Higher education</td>\n",
              "      <td>Married</td>\n",
              "      <td>House / apartment</td>\n",
              "      <td>-15037</td>\n",
              "      <td>-2105</td>\n",
              "      <td>1</td>\n",
              "      <td>0</td>\n",
              "      <td>0</td>\n",
              "      <td>0</td>\n",
              "      <td>Managers</td>\n",
              "      <td>2</td>\n",
              "      <td>-26</td>\n",
              "      <td>2</td>\n",
              "    </tr>\n",
              "  </tbody>\n",
              "</table>\n",
              "</div>"
            ],
            "text/plain": [
              "   index gender car reality  ...   occyp_type  family_size begin_month credit\n",
              "0      0      F   N       N  ...          NaN            2          -6      1\n",
              "1      1      F   N       Y  ...     Laborers            3          -5      1\n",
              "2      2      M   Y       Y  ...     Managers            2         -22      2\n",
              "3      3      F   N       Y  ...  Sales staff            2         -37      0\n",
              "4      4      F   Y       Y  ...     Managers            2         -26      2\n",
              "\n",
              "[5 rows x 20 columns]"
            ]
          },
          "metadata": {
            "tags": []
          },
          "execution_count": 5
        }
      ]
    },
    {
      "cell_type": "code",
      "metadata": {
        "colab": {
          "base_uri": "https://localhost:8080/"
        },
        "id": "qh8oIq5JUvBL",
        "outputId": "875bb348-569f-47e1-eac4-8009413d83cf"
      },
      "source": [
        "# 자료형 및 null 개수\n",
        "train.info()"
      ],
      "execution_count": null,
      "outputs": [
        {
          "output_type": "stream",
          "text": [
            "<class 'pandas.core.frame.DataFrame'>\n",
            "RangeIndex: 26457 entries, 0 to 26456\n",
            "Data columns (total 20 columns):\n",
            " #   Column         Non-Null Count  Dtype  \n",
            "---  ------         --------------  -----  \n",
            " 0   index          26457 non-null  int64  \n",
            " 1   gender         26457 non-null  object \n",
            " 2   car            26457 non-null  object \n",
            " 3   reality        26457 non-null  object \n",
            " 4   child_num      26457 non-null  int64  \n",
            " 5   income_total   26457 non-null  float64\n",
            " 6   income_type    26457 non-null  object \n",
            " 7   edu_type       26457 non-null  object \n",
            " 8   family_type    26457 non-null  object \n",
            " 9   house_type     26457 non-null  object \n",
            " 10  DAYS_BIRTH     26457 non-null  int64  \n",
            " 11  DAYS_EMPLOYED  26457 non-null  int64  \n",
            " 12  FLAG_MOBIL     26457 non-null  int64  \n",
            " 13  work_phone     26457 non-null  int64  \n",
            " 14  phone          26457 non-null  int64  \n",
            " 15  email          26457 non-null  int64  \n",
            " 16  occyp_type     18286 non-null  object \n",
            " 17  family_size    26457 non-null  int64  \n",
            " 18  begin_month    26457 non-null  int64  \n",
            " 19  credit         26457 non-null  int64  \n",
            "dtypes: float64(1), int64(11), object(8)\n",
            "memory usage: 4.0+ MB\n"
          ],
          "name": "stdout"
        }
      ]
    },
    {
      "cell_type": "code",
      "metadata": {
        "colab": {
          "base_uri": "https://localhost:8080/"
        },
        "id": "FWORcTFMUwOR",
        "outputId": "0f7f8bca-5ca7-458e-9f1c-d0f7d7083c95"
      },
      "source": [
        "# 결측치 확인\n",
        "train.isnull().sum()"
      ],
      "execution_count": null,
      "outputs": [
        {
          "output_type": "execute_result",
          "data": {
            "text/plain": [
              "index               0\n",
              "gender              0\n",
              "car                 0\n",
              "reality             0\n",
              "child_num           0\n",
              "income_total        0\n",
              "income_type         0\n",
              "edu_type            0\n",
              "family_type         0\n",
              "house_type          0\n",
              "DAYS_BIRTH          0\n",
              "DAYS_EMPLOYED       0\n",
              "FLAG_MOBIL          0\n",
              "work_phone          0\n",
              "phone               0\n",
              "email               0\n",
              "occyp_type       8171\n",
              "family_size         0\n",
              "begin_month         0\n",
              "credit              0\n",
              "dtype: int64"
            ]
          },
          "metadata": {
            "tags": []
          },
          "execution_count": 7
        }
      ]
    },
    {
      "cell_type": "code",
      "metadata": {
        "colab": {
          "base_uri": "https://localhost:8080/"
        },
        "id": "rLNxtl8CUyM_",
        "outputId": "f86bc030-99f7-4c83-b495-cba8359d22f5"
      },
      "source": [
        "test.isnull().sum()"
      ],
      "execution_count": null,
      "outputs": [
        {
          "output_type": "execute_result",
          "data": {
            "text/plain": [
              "index               0\n",
              "gender              0\n",
              "car                 0\n",
              "reality             0\n",
              "child_num           0\n",
              "income_total        0\n",
              "income_type         0\n",
              "edu_type            0\n",
              "family_type         0\n",
              "house_type          0\n",
              "DAYS_BIRTH          0\n",
              "DAYS_EMPLOYED       0\n",
              "FLAG_MOBIL          0\n",
              "work_phone          0\n",
              "phone               0\n",
              "email               0\n",
              "occyp_type       3152\n",
              "family_size         0\n",
              "begin_month         0\n",
              "dtype: int64"
            ]
          },
          "metadata": {
            "tags": []
          },
          "execution_count": 8
        }
      ]
    },
    {
      "cell_type": "markdown",
      "metadata": {
        "id": "UMjDn7LNU1rr"
      },
      "source": [
        "'occyp type' feature에 대한 null 처리 필요"
      ]
    },
    {
      "cell_type": "markdown",
      "metadata": {
        "id": "Qev_mK_uVORn"
      },
      "source": [
        "## 수치형 데이터"
      ]
    },
    {
      "cell_type": "code",
      "metadata": {
        "colab": {
          "base_uri": "https://localhost:8080/",
          "height": 308
        },
        "id": "8dGhatKVU0IC",
        "outputId": "df98c31d-7b13-4968-9d0f-d87ec7ca7ff2"
      },
      "source": [
        "# 수치형 데이터 통계 수치 확인\n",
        "num_cols = [col for col in train.columns if train[col].dtype in ['int64', 'float64']]\n",
        "train[num_cols].describe()"
      ],
      "execution_count": null,
      "outputs": [
        {
          "output_type": "execute_result",
          "data": {
            "text/html": [
              "<div>\n",
              "<style scoped>\n",
              "    .dataframe tbody tr th:only-of-type {\n",
              "        vertical-align: middle;\n",
              "    }\n",
              "\n",
              "    .dataframe tbody tr th {\n",
              "        vertical-align: top;\n",
              "    }\n",
              "\n",
              "    .dataframe thead th {\n",
              "        text-align: right;\n",
              "    }\n",
              "</style>\n",
              "<table border=\"1\" class=\"dataframe\">\n",
              "  <thead>\n",
              "    <tr style=\"text-align: right;\">\n",
              "      <th></th>\n",
              "      <th>index</th>\n",
              "      <th>child_num</th>\n",
              "      <th>income_total</th>\n",
              "      <th>DAYS_BIRTH</th>\n",
              "      <th>DAYS_EMPLOYED</th>\n",
              "      <th>FLAG_MOBIL</th>\n",
              "      <th>work_phone</th>\n",
              "      <th>phone</th>\n",
              "      <th>email</th>\n",
              "      <th>family_size</th>\n",
              "      <th>begin_month</th>\n",
              "      <th>credit</th>\n",
              "    </tr>\n",
              "  </thead>\n",
              "  <tbody>\n",
              "    <tr>\n",
              "      <th>count</th>\n",
              "      <td>26457.000000</td>\n",
              "      <td>26457.000000</td>\n",
              "      <td>2.645700e+04</td>\n",
              "      <td>26457.000000</td>\n",
              "      <td>26457.000000</td>\n",
              "      <td>26457.0</td>\n",
              "      <td>26457.000000</td>\n",
              "      <td>26457.000000</td>\n",
              "      <td>26457.000000</td>\n",
              "      <td>26457.000000</td>\n",
              "      <td>26457.000000</td>\n",
              "      <td>26457.000000</td>\n",
              "    </tr>\n",
              "    <tr>\n",
              "      <th>mean</th>\n",
              "      <td>13228.000000</td>\n",
              "      <td>0.428658</td>\n",
              "      <td>1.873065e+05</td>\n",
              "      <td>-15958.053899</td>\n",
              "      <td>59068.750728</td>\n",
              "      <td>1.0</td>\n",
              "      <td>0.224742</td>\n",
              "      <td>0.294251</td>\n",
              "      <td>0.091280</td>\n",
              "      <td>2.196848</td>\n",
              "      <td>-26.123294</td>\n",
              "      <td>1.519560</td>\n",
              "    </tr>\n",
              "    <tr>\n",
              "      <th>std</th>\n",
              "      <td>7637.622372</td>\n",
              "      <td>0.747326</td>\n",
              "      <td>1.018784e+05</td>\n",
              "      <td>4201.589022</td>\n",
              "      <td>137475.427503</td>\n",
              "      <td>0.0</td>\n",
              "      <td>0.417420</td>\n",
              "      <td>0.455714</td>\n",
              "      <td>0.288013</td>\n",
              "      <td>0.916717</td>\n",
              "      <td>16.559550</td>\n",
              "      <td>0.702283</td>\n",
              "    </tr>\n",
              "    <tr>\n",
              "      <th>min</th>\n",
              "      <td>0.000000</td>\n",
              "      <td>0.000000</td>\n",
              "      <td>2.700000e+04</td>\n",
              "      <td>-25152.000000</td>\n",
              "      <td>-15713.000000</td>\n",
              "      <td>1.0</td>\n",
              "      <td>0.000000</td>\n",
              "      <td>0.000000</td>\n",
              "      <td>0.000000</td>\n",
              "      <td>1.000000</td>\n",
              "      <td>-60.000000</td>\n",
              "      <td>0.000000</td>\n",
              "    </tr>\n",
              "    <tr>\n",
              "      <th>25%</th>\n",
              "      <td>6614.000000</td>\n",
              "      <td>0.000000</td>\n",
              "      <td>1.215000e+05</td>\n",
              "      <td>-19431.000000</td>\n",
              "      <td>-3153.000000</td>\n",
              "      <td>1.0</td>\n",
              "      <td>0.000000</td>\n",
              "      <td>0.000000</td>\n",
              "      <td>0.000000</td>\n",
              "      <td>2.000000</td>\n",
              "      <td>-39.000000</td>\n",
              "      <td>1.000000</td>\n",
              "    </tr>\n",
              "    <tr>\n",
              "      <th>50%</th>\n",
              "      <td>13228.000000</td>\n",
              "      <td>0.000000</td>\n",
              "      <td>1.575000e+05</td>\n",
              "      <td>-15547.000000</td>\n",
              "      <td>-1539.000000</td>\n",
              "      <td>1.0</td>\n",
              "      <td>0.000000</td>\n",
              "      <td>0.000000</td>\n",
              "      <td>0.000000</td>\n",
              "      <td>2.000000</td>\n",
              "      <td>-24.000000</td>\n",
              "      <td>2.000000</td>\n",
              "    </tr>\n",
              "    <tr>\n",
              "      <th>75%</th>\n",
              "      <td>19842.000000</td>\n",
              "      <td>1.000000</td>\n",
              "      <td>2.250000e+05</td>\n",
              "      <td>-12446.000000</td>\n",
              "      <td>-407.000000</td>\n",
              "      <td>1.0</td>\n",
              "      <td>0.000000</td>\n",
              "      <td>1.000000</td>\n",
              "      <td>0.000000</td>\n",
              "      <td>3.000000</td>\n",
              "      <td>-12.000000</td>\n",
              "      <td>2.000000</td>\n",
              "    </tr>\n",
              "    <tr>\n",
              "      <th>max</th>\n",
              "      <td>26456.000000</td>\n",
              "      <td>19.000000</td>\n",
              "      <td>1.575000e+06</td>\n",
              "      <td>-7705.000000</td>\n",
              "      <td>365243.000000</td>\n",
              "      <td>1.0</td>\n",
              "      <td>1.000000</td>\n",
              "      <td>1.000000</td>\n",
              "      <td>1.000000</td>\n",
              "      <td>20.000000</td>\n",
              "      <td>0.000000</td>\n",
              "      <td>2.000000</td>\n",
              "    </tr>\n",
              "  </tbody>\n",
              "</table>\n",
              "</div>"
            ],
            "text/plain": [
              "              index     child_num  ...   begin_month        credit\n",
              "count  26457.000000  26457.000000  ...  26457.000000  26457.000000\n",
              "mean   13228.000000      0.428658  ...    -26.123294      1.519560\n",
              "std     7637.622372      0.747326  ...     16.559550      0.702283\n",
              "min        0.000000      0.000000  ...    -60.000000      0.000000\n",
              "25%     6614.000000      0.000000  ...    -39.000000      1.000000\n",
              "50%    13228.000000      0.000000  ...    -24.000000      2.000000\n",
              "75%    19842.000000      1.000000  ...    -12.000000      2.000000\n",
              "max    26456.000000     19.000000  ...      0.000000      2.000000\n",
              "\n",
              "[8 rows x 12 columns]"
            ]
          },
          "metadata": {
            "tags": []
          },
          "execution_count": 9
        }
      ]
    },
    {
      "cell_type": "code",
      "metadata": {
        "colab": {
          "base_uri": "https://localhost:8080/",
          "height": 308
        },
        "id": "Q9-lzbxGU-0d",
        "outputId": "2aa31053-6417-41ef-8aba-a8085d9a1d41"
      },
      "source": [
        "num_cols.remove('credit')\n",
        "test[num_cols].describe()"
      ],
      "execution_count": null,
      "outputs": [
        {
          "output_type": "execute_result",
          "data": {
            "text/html": [
              "<div>\n",
              "<style scoped>\n",
              "    .dataframe tbody tr th:only-of-type {\n",
              "        vertical-align: middle;\n",
              "    }\n",
              "\n",
              "    .dataframe tbody tr th {\n",
              "        vertical-align: top;\n",
              "    }\n",
              "\n",
              "    .dataframe thead th {\n",
              "        text-align: right;\n",
              "    }\n",
              "</style>\n",
              "<table border=\"1\" class=\"dataframe\">\n",
              "  <thead>\n",
              "    <tr style=\"text-align: right;\">\n",
              "      <th></th>\n",
              "      <th>index</th>\n",
              "      <th>child_num</th>\n",
              "      <th>income_total</th>\n",
              "      <th>DAYS_BIRTH</th>\n",
              "      <th>DAYS_EMPLOYED</th>\n",
              "      <th>FLAG_MOBIL</th>\n",
              "      <th>work_phone</th>\n",
              "      <th>phone</th>\n",
              "      <th>email</th>\n",
              "      <th>family_size</th>\n",
              "      <th>begin_month</th>\n",
              "    </tr>\n",
              "  </thead>\n",
              "  <tbody>\n",
              "    <tr>\n",
              "      <th>count</th>\n",
              "      <td>10000.00000</td>\n",
              "      <td>10000.000000</td>\n",
              "      <td>1.000000e+04</td>\n",
              "      <td>10000.000000</td>\n",
              "      <td>10000.000000</td>\n",
              "      <td>10000.0</td>\n",
              "      <td>10000.000000</td>\n",
              "      <td>10000.000000</td>\n",
              "      <td>10000.000000</td>\n",
              "      <td>10000.000000</td>\n",
              "      <td>10000.000000</td>\n",
              "    </tr>\n",
              "    <tr>\n",
              "      <th>mean</th>\n",
              "      <td>31456.50000</td>\n",
              "      <td>0.434700</td>\n",
              "      <td>1.850433e+05</td>\n",
              "      <td>-16020.466400</td>\n",
              "      <td>59776.690400</td>\n",
              "      <td>1.0</td>\n",
              "      <td>0.227600</td>\n",
              "      <td>0.296300</td>\n",
              "      <td>0.085600</td>\n",
              "      <td>2.202700</td>\n",
              "      <td>-26.272400</td>\n",
              "    </tr>\n",
              "    <tr>\n",
              "      <th>std</th>\n",
              "      <td>2886.89568</td>\n",
              "      <td>0.729102</td>\n",
              "      <td>1.015398e+05</td>\n",
              "      <td>4197.672887</td>\n",
              "      <td>138121.224504</td>\n",
              "      <td>0.0</td>\n",
              "      <td>0.419304</td>\n",
              "      <td>0.456648</td>\n",
              "      <td>0.279786</td>\n",
              "      <td>0.898272</td>\n",
              "      <td>16.348557</td>\n",
              "    </tr>\n",
              "    <tr>\n",
              "      <th>min</th>\n",
              "      <td>26457.00000</td>\n",
              "      <td>0.000000</td>\n",
              "      <td>2.700000e+04</td>\n",
              "      <td>-25152.000000</td>\n",
              "      <td>-15661.000000</td>\n",
              "      <td>1.0</td>\n",
              "      <td>0.000000</td>\n",
              "      <td>0.000000</td>\n",
              "      <td>0.000000</td>\n",
              "      <td>1.000000</td>\n",
              "      <td>-60.000000</td>\n",
              "    </tr>\n",
              "    <tr>\n",
              "      <th>25%</th>\n",
              "      <td>28956.75000</td>\n",
              "      <td>0.000000</td>\n",
              "      <td>1.215000e+05</td>\n",
              "      <td>-19483.250000</td>\n",
              "      <td>-3153.000000</td>\n",
              "      <td>1.0</td>\n",
              "      <td>0.000000</td>\n",
              "      <td>0.000000</td>\n",
              "      <td>0.000000</td>\n",
              "      <td>2.000000</td>\n",
              "      <td>-39.000000</td>\n",
              "    </tr>\n",
              "    <tr>\n",
              "      <th>50%</th>\n",
              "      <td>31456.50000</td>\n",
              "      <td>0.000000</td>\n",
              "      <td>1.575000e+05</td>\n",
              "      <td>-15606.000000</td>\n",
              "      <td>-1577.000000</td>\n",
              "      <td>1.0</td>\n",
              "      <td>0.000000</td>\n",
              "      <td>0.000000</td>\n",
              "      <td>0.000000</td>\n",
              "      <td>2.000000</td>\n",
              "      <td>-25.000000</td>\n",
              "    </tr>\n",
              "    <tr>\n",
              "      <th>75%</th>\n",
              "      <td>33956.25000</td>\n",
              "      <td>1.000000</td>\n",
              "      <td>2.250000e+05</td>\n",
              "      <td>-12539.000000</td>\n",
              "      <td>-410.000000</td>\n",
              "      <td>1.0</td>\n",
              "      <td>0.000000</td>\n",
              "      <td>1.000000</td>\n",
              "      <td>0.000000</td>\n",
              "      <td>3.000000</td>\n",
              "      <td>-12.000000</td>\n",
              "    </tr>\n",
              "    <tr>\n",
              "      <th>max</th>\n",
              "      <td>36456.00000</td>\n",
              "      <td>5.000000</td>\n",
              "      <td>1.575000e+06</td>\n",
              "      <td>-7489.000000</td>\n",
              "      <td>365243.000000</td>\n",
              "      <td>1.0</td>\n",
              "      <td>1.000000</td>\n",
              "      <td>1.000000</td>\n",
              "      <td>1.000000</td>\n",
              "      <td>7.000000</td>\n",
              "      <td>0.000000</td>\n",
              "    </tr>\n",
              "  </tbody>\n",
              "</table>\n",
              "</div>"
            ],
            "text/plain": [
              "             index     child_num  ...   family_size   begin_month\n",
              "count  10000.00000  10000.000000  ...  10000.000000  10000.000000\n",
              "mean   31456.50000      0.434700  ...      2.202700    -26.272400\n",
              "std     2886.89568      0.729102  ...      0.898272     16.348557\n",
              "min    26457.00000      0.000000  ...      1.000000    -60.000000\n",
              "25%    28956.75000      0.000000  ...      2.000000    -39.000000\n",
              "50%    31456.50000      0.000000  ...      2.000000    -25.000000\n",
              "75%    33956.25000      1.000000  ...      3.000000    -12.000000\n",
              "max    36456.00000      5.000000  ...      7.000000      0.000000\n",
              "\n",
              "[8 rows x 11 columns]"
            ]
          },
          "metadata": {
            "tags": []
          },
          "execution_count": 10
        }
      ]
    },
    {
      "cell_type": "markdown",
      "metadata": {
        "id": "FFNh-cipVEHd"
      },
      "source": [
        "DAYS_EMPLOYED 양수값(=이상치)에 대한 처리 필요<br>\n",
        "-> 0으로 채우기"
      ]
    },
    {
      "cell_type": "code",
      "metadata": {
        "id": "PG3kzEAAYB1z"
      },
      "source": [
        "train['DAYS_EMPLOYED'] = train['DAYS_EMPLOYED'].replace(365243, 0)\n",
        "test['DAYS_EMPLOYED'] = test['DAYS_EMPLOYED'].replace(365243, 0)"
      ],
      "execution_count": null,
      "outputs": []
    },
    {
      "cell_type": "markdown",
      "metadata": {
        "id": "AKsIFvtyVQEZ"
      },
      "source": [
        "## 범주형 데이터"
      ]
    },
    {
      "cell_type": "code",
      "metadata": {
        "colab": {
          "base_uri": "https://localhost:8080/"
        },
        "id": "qEC16EDnVB1J",
        "outputId": "15703aa1-da2b-4a3f-bb2e-6d5e298206ff"
      },
      "source": [
        "# 범주형 데이터 unique 값 확인\n",
        "cat_cols = [col for col in train.columns if train[col].dtype in ['O']]\n",
        "bin_cols = []\n",
        "mul_cols = []\n",
        "for col in cat_cols:\n",
        "  print('name : {0}, unique_num : {1}\\nunique_value : {2}\\n'.format(col, len(train[col].unique()), train[col].unique()))"
      ],
      "execution_count": null,
      "outputs": [
        {
          "output_type": "stream",
          "text": [
            "name : gender, unique_num : 2\n",
            "unique_value : ['F' 'M']\n",
            "\n",
            "name : car, unique_num : 2\n",
            "unique_value : ['N' 'Y']\n",
            "\n",
            "name : reality, unique_num : 2\n",
            "unique_value : ['N' 'Y']\n",
            "\n",
            "name : income_type, unique_num : 5\n",
            "unique_value : ['Commercial associate' 'Working' 'State servant' 'Pensioner' 'Student']\n",
            "\n",
            "name : edu_type, unique_num : 5\n",
            "unique_value : ['Higher education' 'Secondary / secondary special' 'Incomplete higher'\n",
            " 'Lower secondary' 'Academic degree']\n",
            "\n",
            "name : family_type, unique_num : 5\n",
            "unique_value : ['Married' 'Civil marriage' 'Separated' 'Single / not married' 'Widow']\n",
            "\n",
            "name : house_type, unique_num : 6\n",
            "unique_value : ['Municipal apartment' 'House / apartment' 'With parents'\n",
            " 'Co-op apartment' 'Rented apartment' 'Office apartment']\n",
            "\n",
            "name : occyp_type, unique_num : 19\n",
            "unique_value : [nan 'Laborers' 'Managers' 'Sales staff' 'High skill tech staff'\n",
            " 'Core staff' 'Drivers' 'Medicine staff' 'Accountants' 'Realty agents'\n",
            " 'Security staff' 'Cleaning staff' 'Private service staff' 'Cooking staff'\n",
            " 'Secretaries' 'HR staff' 'IT staff' 'Low-skill Laborers'\n",
            " 'Waiters/barmen staff']\n",
            "\n"
          ],
          "name": "stdout"
        }
      ]
    },
    {
      "cell_type": "code",
      "metadata": {
        "colab": {
          "base_uri": "https://localhost:8080/"
        },
        "id": "SoOJR1AiVH9W",
        "outputId": "e7a00e98-fb1c-4478-b2e4-e02335e5e830"
      },
      "source": [
        "for col in cat_cols:\n",
        "  print('name : {0}, unique_num : {1}\\nunique_value : {2}\\n'.format(col, len(test[col].unique()), test[col].unique()))"
      ],
      "execution_count": null,
      "outputs": [
        {
          "output_type": "stream",
          "text": [
            "name : gender, unique_num : 2\n",
            "unique_value : ['M' 'F']\n",
            "\n",
            "name : car, unique_num : 2\n",
            "unique_value : ['Y' 'N']\n",
            "\n",
            "name : reality, unique_num : 2\n",
            "unique_value : ['N' 'Y']\n",
            "\n",
            "name : income_type, unique_num : 5\n",
            "unique_value : ['Pensioner' 'State servant' 'Working' 'Commercial associate' 'Student']\n",
            "\n",
            "name : edu_type, unique_num : 5\n",
            "unique_value : ['Secondary / secondary special' 'Higher education' 'Lower secondary'\n",
            " 'Incomplete higher' 'Academic degree']\n",
            "\n",
            "name : family_type, unique_num : 5\n",
            "unique_value : ['Civil marriage' 'Married' 'Single / not married' 'Widow' 'Separated']\n",
            "\n",
            "name : house_type, unique_num : 6\n",
            "unique_value : ['House / apartment' 'With parents' 'Rented apartment'\n",
            " 'Municipal apartment' 'Office apartment' 'Co-op apartment']\n",
            "\n",
            "name : occyp_type, unique_num : 19\n",
            "unique_value : [nan 'Core staff' 'Laborers' 'Drivers' 'Managers' 'Sales staff'\n",
            " 'Cleaning staff' 'Accountants' 'Cooking staff' 'Medicine staff'\n",
            " 'Realty agents' 'Waiters/barmen staff' 'Private service staff'\n",
            " 'High skill tech staff' 'Low-skill Laborers' 'Security staff'\n",
            " 'Secretaries' 'HR staff' 'IT staff']\n",
            "\n"
          ],
          "name": "stdout"
        }
      ]
    },
    {
      "cell_type": "markdown",
      "metadata": {
        "id": "C5R8WFoLVaEv"
      },
      "source": [
        "train, test값 모두 unique 값 동일. <br>\n",
        "이중분류 : gender, car, reality <br>\n",
        "다중분류 : income_type, edu_type, family_type, house_type, occyp_type"
      ]
    },
    {
      "cell_type": "markdown",
      "metadata": {
        "id": "MDQ-Yn03VrEW"
      },
      "source": [
        "# target 분리"
      ]
    },
    {
      "cell_type": "code",
      "metadata": {
        "id": "1kIYPeVvVtyk"
      },
      "source": [
        "train_y = train['credit']\n",
        "train_X = train.drop(['credit', 'index'], axis=1)\n",
        "test_X = test.drop('index', axis=1)"
      ],
      "execution_count": null,
      "outputs": []
    },
    {
      "cell_type": "markdown",
      "metadata": {
        "id": "lyG_oHG_VxNn"
      },
      "source": [
        "# 이진분류 범주형 변환"
      ]
    },
    {
      "cell_type": "code",
      "metadata": {
        "id": "7pqgr1WmVu1-"
      },
      "source": [
        "# 이진분류 범주형 데이터 -> 수치형으로 변환\n",
        "train_X['gender'] = train_X['gender'].replace(['F','M'], [0,  1])\n",
        "test_X['gender'] = test['gender'].replace(['F','M'], [0,  1])\n",
        "\n",
        "for col in ['car', 'reality']:\n",
        "  train_X[col] = train_X[col].replace(['N','Y'], [0,  1])\n",
        "  test_X[col] = test_X[col].replace(['N','Y'], [0,  1])"
      ],
      "execution_count": null,
      "outputs": []
    },
    {
      "cell_type": "markdown",
      "metadata": {
        "id": "r-AaXmCAWBmB"
      },
      "source": [
        "# 시각화"
      ]
    },
    {
      "cell_type": "markdown",
      "metadata": {
        "id": "OhxJy4_FWDv1"
      },
      "source": [
        "## target 시각화"
      ]
    },
    {
      "cell_type": "code",
      "metadata": {
        "colab": {
          "base_uri": "https://localhost:8080/",
          "height": 297
        },
        "id": "mpn3PD_UWCoo",
        "outputId": "70bceb70-e1e2-44f1-82bf-1a4dbd1553fc"
      },
      "source": [
        "sns.countplot(x='credit', data=train)"
      ],
      "execution_count": null,
      "outputs": [
        {
          "output_type": "execute_result",
          "data": {
            "text/plain": [
              "<matplotlib.axes._subplots.AxesSubplot at 0x7f06992c89d0>"
            ]
          },
          "metadata": {
            "tags": []
          },
          "execution_count": 16
        },
        {
          "output_type": "display_data",
          "data": {
            "image/png": "[encoded data removed]",
            "text/plain": [
              "<Figure size 432x288 with 1 Axes>"
            ]
          },
          "metadata": {
            "tags": [],
            "needs_background": "light"
          }
        }
      ]
    },
    {
      "cell_type": "markdown",
      "metadata": {
        "id": "LR62m52LWF-o"
      },
      "source": [
        "타깃의 불균형 확인. SMOTE나 다른 기법 사용"
      ]
    },
    {
      "cell_type": "markdown",
      "metadata": {
        "id": "FotILz5nWKM8"
      },
      "source": [
        "## 이산형 변수 시각화"
      ]
    },
    {
      "cell_type": "code",
      "metadata": {
        "colab": {
          "base_uri": "https://localhost:8080/",
          "height": 1000
        },
        "id": "xCdBmasbWFUm",
        "outputId": "18b9e8a9-83ad-46a3-ee60-71c7e7d71cb3"
      },
      "source": [
        "for col in train_X.columns:\n",
        "  # 수치형 변수 제외 countplot\n",
        "  if col in ['income_total', 'DAYS_BIRTH', 'DAYS_EMPLOYED', 'begin_month']:\n",
        "    continue\n",
        "  fig, ax = plt.subplots(figsize=(20,15))\n",
        "  sns.countplot(x=col, data=train)\n",
        "  plt.show()"
      ],
      "execution_count": null,
      "outputs": [
        {
          "output_type": "display_data",
          "data": {
            "image/png": "[encoded data removed]",
            "text/plain": [
              "<Figure size 1440x1080 with 1 Axes>"
            ]
          },
          "metadata": {
            "tags": [],
            "needs_background": "light"
          }
        },
        {
          "output_type": "display_data",
          "data": {
            "image/png": "[encoded data removed]",
            "text/plain": [
              "<Figure size 1440x1080 with 1 Axes>"
            ]
          },
          "metadata": {
            "tags": [],
            "needs_background": "light"
          }
        },
        {
          "output_type": "display_data",
          "data": {
            "image/png": "[encoded data removed]",
            "text/plain": [
              "<Figure size 1440x1080 with 1 Axes>"
            ]
          },
          "metadata": {
            "tags": [],
            "needs_background": "light"
          }
        },
        {
          "output_type": "display_data",
          "data": {
            "image/png": "[encoded data removed]",
            "text/plain": [
              "<Figure size 1440x1080 with 1 Axes>"
            ]
          },
          "metadata": {
            "tags": [],
            "needs_background": "light"
          }
        },
        {
          "output_type": "display_data",
          "data": {
            "image/png": "[encoded data removed]",
            "text/plain": [
              "<Figure size 1440x1080 with 1 Axes>"
            ]
          },
          "metadata": {
            "tags": [],
            "needs_background": "light"
          }
        },
        {
          "output_type": "display_data",
          "data": {
            "image/png": "[encoded data removed]",
            "text/plain": [
              "<Figure size 1440x1080 with 1 Axes>"
            ]
          },
          "metadata": {
            "tags": [],
            "needs_background": "light"
          }
        },
        {
          "output_type": "display_data",
          "data": {
            "image/png": "[encoded data removed]",
            "text/plain": [
              "<Figure size 1440x1080 with 1 Axes>"
            ]
          },
          "metadata": {
            "tags": [],
            "needs_background": "light"
          }
        },
        {
          "output_type": "display_data",
          "data": {
            "image/png": "[encoded data removed]",
            "text/plain": [
              "<Figure size 1440x1080 with 1 Axes>"
            ]
          },
          "metadata": {
            "tags": [],
            "needs_background": "light"
          }
        },
        {
          "output_type": "display_data",
          "data": {
            "image/png": "[encoded data removed]",
            "text/plain": [
              "<Figure size 1440x1080 with 1 Axes>"
            ]
          },
          "metadata": {
            "tags": [],
            "needs_background": "light"
          }
        },
        {
          "output_type": "display_data",
          "data": {
            "image/png": "[encoded data removed]",
            "text/plain": [
              "<Figure size 1440x1080 with 1 Axes>"
            ]
          },
          "metadata": {
            "tags": [],
            "needs_background": "light"
          }
        },
        {
          "output_type": "display_data",
          "data": {
            "image/png": "[encoded data removed]",
            "text/plain": [
              "<Figure size 1440x1080 with 1 Axes>"
            ]
          },
          "metadata": {
            "tags": [],
            "needs_background": "light"
          }
        },
        {
          "output_type": "display_data",
          "data": {
            "image/png": "[encoded data removed]",
            "text/plain": [
              "<Figure size 1440x1080 with 1 Axes>"
            ]
          },
          "metadata": {
            "tags": [],
            "needs_background": "light"
          }
        },
        {
          "output_type": "display_data",
          "data": {
            "image/png": "[encoded data removed]",
            "text/plain": [
              "<Figure size 1440x1080 with 1 Axes>"
            ]
          },
          "metadata": {
            "tags": [],
            "needs_background": "light"
          }
        },
        {
          "output_type": "display_data",
          "data": {
            "image/png": "[encoded data removed]",
            "text/plain": [
              "<Figure size 1440x1080 with 1 Axes>"
            ]
          },
          "metadata": {
            "tags": [],
            "needs_background": "light"
          }
        }
      ]
    },
    {
      "cell_type": "markdown",
      "metadata": {
        "id": "D5DObOCMXZR_"
      },
      "source": [
        "child num에서는 3이상의 row 거의 없음<br>\n",
        "\n",
        "family size에서는 5 이상의 row 거의 없음<br>\n",
        "\n",
        "income_type, family type,house type에서는 분류 많으나 분포 불균형하므로 one-hot 사용 좋지 않음<br>\n",
        "\n",
        "edu_type에서도 higher education, secondary 이외의 값 매우 적음<br>\n",
        "\n",
        "FLAG_MOBIL 값 하나 -> 삭제"
      ]
    },
    {
      "cell_type": "code",
      "metadata": {
        "id": "EYCnM-BHWp-g"
      },
      "source": [
        "train_X.drop('FLAG_MOBIL', axis=1, inplace=True)\n",
        "test_X.drop('FLAG_MOBIL', axis=1, inplace=True)"
      ],
      "execution_count": null,
      "outputs": []
    },
    {
      "cell_type": "markdown",
      "metadata": {
        "id": "SIDyJWRbXoWK"
      },
      "source": [
        "## 연속형 변수 시각화"
      ]
    },
    {
      "cell_type": "code",
      "metadata": {
        "colab": {
          "base_uri": "https://localhost:8080/",
          "height": 1000
        },
        "id": "q-iYLh9dXmYY",
        "outputId": "f334b30c-99c8-48ab-b997-c8eda7aee669"
      },
      "source": [
        "cols = ['income_total', 'DAYS_BIRTH', 'DAYS_EMPLOYED', 'begin_month']\n",
        "\n",
        "for col in cols:\n",
        " fig, ax = plt.subplots(figsize=(10,10))\n",
        " sns.distplot(train_X[col])\n",
        " plt.show()"
      ],
      "execution_count": null,
      "outputs": [
        {
          "output_type": "display_data",
          "data": {
            "image/png": "[encoded data removed]",
            "text/plain": [
              "<Figure size 720x720 with 1 Axes>"
            ]
          },
          "metadata": {
            "tags": [],
            "needs_background": "light"
          }
        },
        {
          "output_type": "display_data",
          "data": {
            "image/png": "[encoded data removed]",
            "text/plain": [
              "<Figure size 720x720 with 1 Axes>"
            ]
          },
          "metadata": {
            "tags": [],
            "needs_background": "light"
          }
        },
        {
          "output_type": "display_data",
          "data": {
            "image/png": "[encoded data removed]",
            "text/plain": [
              "<Figure size 720x720 with 1 Axes>"
            ]
          },
          "metadata": {
            "tags": [],
            "needs_background": "light"
          }
        },
        {
          "output_type": "display_data",
          "data": {
            "image/png": "[encoded data removed]",
            "text/plain": [
              "<Figure size 720x720 with 1 Axes>"
            ]
          },
          "metadata": {
            "tags": [],
            "needs_background": "light"
          }
        }
      ]
    },
    {
      "cell_type": "markdown",
      "metadata": {
        "id": "vEr-yfj9Xvv-"
      },
      "source": [
        "income_type에서는 정규분포와 거리가 먼 곡선 나타남<br>\n",
        "days_employed 는 결측치를 0으로 채워서 0에서만 압도적으로 높은 수치 나타남<br>\n",
        "begin_month는 10 간격으로 분포구간<br>\n",
        "<br>\n",
        "days_employed, days_birth, begin_month 음수값"
      ]
    },
    {
      "cell_type": "markdown",
      "metadata": {
        "id": "rWLJsdiSZA97"
      },
      "source": [
        "# 데이터 전처리"
      ]
    },
    {
      "cell_type": "markdown",
      "metadata": {
        "id": "ZMTEGFDrZEXn"
      },
      "source": [
        "## income type"
      ]
    },
    {
      "cell_type": "markdown",
      "metadata": {
        "id": "Cj-qF7DFZSfN"
      },
      "source": [
        "대부분이 0인 column인 student는 제외"
      ]
    },
    {
      "cell_type": "code",
      "metadata": {
        "colab": {
          "base_uri": "https://localhost:8080/",
          "height": 391
        },
        "id": "VHag-YLTXsEb",
        "outputId": "f32c2097-2c8a-450e-9e31-94f4290426ca"
      },
      "source": [
        "income_type_oh = pd.get_dummies(train_X['income_type'])\n",
        "income_type_oh.drop('Student', axis=1, inplace=True)\n",
        "train_X = pd.concat([train_X, income_type_oh], axis=1)\n",
        "train_X.drop('income_type', axis=1, inplace=True)\n",
        "train_X.head()"
      ],
      "execution_count": null,
      "outputs": [
        {
          "output_type": "execute_result",
          "data": {
            "text/html": [
              "<div>\n",
              "<style scoped>\n",
              "    .dataframe tbody tr th:only-of-type {\n",
              "        vertical-align: middle;\n",
              "    }\n",
              "\n",
              "    .dataframe tbody tr th {\n",
              "        vertical-align: top;\n",
              "    }\n",
              "\n",
              "    .dataframe thead th {\n",
              "        text-align: right;\n",
              "    }\n",
              "</style>\n",
              "<table border=\"1\" class=\"dataframe\">\n",
              "  <thead>\n",
              "    <tr style=\"text-align: right;\">\n",
              "      <th></th>\n",
              "      <th>gender</th>\n",
              "      <th>car</th>\n",
              "      <th>reality</th>\n",
              "      <th>child_num</th>\n",
              "      <th>income_total</th>\n",
              "      <th>edu_type</th>\n",
              "      <th>family_type</th>\n",
              "      <th>house_type</th>\n",
              "      <th>DAYS_BIRTH</th>\n",
              "      <th>DAYS_EMPLOYED</th>\n",
              "      <th>work_phone</th>\n",
              "      <th>phone</th>\n",
              "      <th>email</th>\n",
              "      <th>occyp_type</th>\n",
              "      <th>family_size</th>\n",
              "      <th>begin_month</th>\n",
              "      <th>Commercial associate</th>\n",
              "      <th>Pensioner</th>\n",
              "      <th>State servant</th>\n",
              "      <th>Working</th>\n",
              "    </tr>\n",
              "  </thead>\n",
              "  <tbody>\n",
              "    <tr>\n",
              "      <th>0</th>\n",
              "      <td>0</td>\n",
              "      <td>0</td>\n",
              "      <td>0</td>\n",
              "      <td>0</td>\n",
              "      <td>202500.0</td>\n",
              "      <td>Higher education</td>\n",
              "      <td>Married</td>\n",
              "      <td>Municipal apartment</td>\n",
              "      <td>-13899</td>\n",
              "      <td>-4709</td>\n",
              "      <td>0</td>\n",
              "      <td>0</td>\n",
              "      <td>0</td>\n",
              "      <td>NaN</td>\n",
              "      <td>2</td>\n",
              "      <td>-6</td>\n",
              "      <td>1</td>\n",
              "      <td>0</td>\n",
              "      <td>0</td>\n",
              "      <td>0</td>\n",
              "    </tr>\n",
              "    <tr>\n",
              "      <th>1</th>\n",
              "      <td>0</td>\n",
              "      <td>0</td>\n",
              "      <td>1</td>\n",
              "      <td>1</td>\n",
              "      <td>247500.0</td>\n",
              "      <td>Secondary / secondary special</td>\n",
              "      <td>Civil marriage</td>\n",
              "      <td>House / apartment</td>\n",
              "      <td>-11380</td>\n",
              "      <td>-1540</td>\n",
              "      <td>0</td>\n",
              "      <td>0</td>\n",
              "      <td>1</td>\n",
              "      <td>Laborers</td>\n",
              "      <td>3</td>\n",
              "      <td>-5</td>\n",
              "      <td>1</td>\n",
              "      <td>0</td>\n",
              "      <td>0</td>\n",
              "      <td>0</td>\n",
              "    </tr>\n",
              "    <tr>\n",
              "      <th>2</th>\n",
              "      <td>1</td>\n",
              "      <td>1</td>\n",
              "      <td>1</td>\n",
              "      <td>0</td>\n",
              "      <td>450000.0</td>\n",
              "      <td>Higher education</td>\n",
              "      <td>Married</td>\n",
              "      <td>House / apartment</td>\n",
              "      <td>-19087</td>\n",
              "      <td>-4434</td>\n",
              "      <td>0</td>\n",
              "      <td>1</td>\n",
              "      <td>0</td>\n",
              "      <td>Managers</td>\n",
              "      <td>2</td>\n",
              "      <td>-22</td>\n",
              "      <td>0</td>\n",
              "      <td>0</td>\n",
              "      <td>0</td>\n",
              "      <td>1</td>\n",
              "    </tr>\n",
              "    <tr>\n",
              "      <th>3</th>\n",
              "      <td>0</td>\n",
              "      <td>0</td>\n",
              "      <td>1</td>\n",
              "      <td>0</td>\n",
              "      <td>202500.0</td>\n",
              "      <td>Secondary / secondary special</td>\n",
              "      <td>Married</td>\n",
              "      <td>House / apartment</td>\n",
              "      <td>-15088</td>\n",
              "      <td>-2092</td>\n",
              "      <td>0</td>\n",
              "      <td>1</td>\n",
              "      <td>0</td>\n",
              "      <td>Sales staff</td>\n",
              "      <td>2</td>\n",
              "      <td>-37</td>\n",
              "      <td>1</td>\n",
              "      <td>0</td>\n",
              "      <td>0</td>\n",
              "      <td>0</td>\n",
              "    </tr>\n",
              "    <tr>\n",
              "      <th>4</th>\n",
              "      <td>0</td>\n",
              "      <td>1</td>\n",
              "      <td>1</td>\n",
              "      <td>0</td>\n",
              "      <td>157500.0</td>\n",
              "      <td>Higher education</td>\n",
              "      <td>Married</td>\n",
              "      <td>House / apartment</td>\n",
              "      <td>-15037</td>\n",
              "      <td>-2105</td>\n",
              "      <td>0</td>\n",
              "      <td>0</td>\n",
              "      <td>0</td>\n",
              "      <td>Managers</td>\n",
              "      <td>2</td>\n",
              "      <td>-26</td>\n",
              "      <td>0</td>\n",
              "      <td>0</td>\n",
              "      <td>1</td>\n",
              "      <td>0</td>\n",
              "    </tr>\n",
              "  </tbody>\n",
              "</table>\n",
              "</div>"
            ],
            "text/plain": [
              "   gender  car  reality  ...  Pensioner  State servant Working\n",
              "0       0    0        0  ...          0              0       0\n",
              "1       0    0        1  ...          0              0       0\n",
              "2       1    1        1  ...          0              0       1\n",
              "3       0    0        1  ...          0              0       0\n",
              "4       0    1        1  ...          0              1       0\n",
              "\n",
              "[5 rows x 20 columns]"
            ]
          },
          "metadata": {
            "tags": []
          },
          "execution_count": 20
        }
      ]
    },
    {
      "cell_type": "code",
      "metadata": {
        "colab": {
          "base_uri": "https://localhost:8080/",
          "height": 425
        },
        "id": "1KHK_1JZZw_j",
        "outputId": "583fab46-fc0e-4a81-f3f9-d474f7a83c46"
      },
      "source": [
        "income_type_oh = pd.get_dummies(test_X['income_type'])\n",
        "income_type_oh.drop('Student', axis=1, inplace=True)\n",
        "test_X = pd.concat([test_X, income_type_oh], axis=1)\n",
        "test_X.drop('income_type', axis=1, inplace=True)\n",
        "test_X.head()"
      ],
      "execution_count": null,
      "outputs": [
        {
          "output_type": "execute_result",
          "data": {
            "text/html": [
              "<div>\n",
              "<style scoped>\n",
              "    .dataframe tbody tr th:only-of-type {\n",
              "        vertical-align: middle;\n",
              "    }\n",
              "\n",
              "    .dataframe tbody tr th {\n",
              "        vertical-align: top;\n",
              "    }\n",
              "\n",
              "    .dataframe thead th {\n",
              "        text-align: right;\n",
              "    }\n",
              "</style>\n",
              "<table border=\"1\" class=\"dataframe\">\n",
              "  <thead>\n",
              "    <tr style=\"text-align: right;\">\n",
              "      <th></th>\n",
              "      <th>gender</th>\n",
              "      <th>car</th>\n",
              "      <th>reality</th>\n",
              "      <th>child_num</th>\n",
              "      <th>income_total</th>\n",
              "      <th>edu_type</th>\n",
              "      <th>family_type</th>\n",
              "      <th>house_type</th>\n",
              "      <th>DAYS_BIRTH</th>\n",
              "      <th>DAYS_EMPLOYED</th>\n",
              "      <th>work_phone</th>\n",
              "      <th>phone</th>\n",
              "      <th>email</th>\n",
              "      <th>occyp_type</th>\n",
              "      <th>family_size</th>\n",
              "      <th>begin_month</th>\n",
              "      <th>Commercial associate</th>\n",
              "      <th>Pensioner</th>\n",
              "      <th>State servant</th>\n",
              "      <th>Working</th>\n",
              "    </tr>\n",
              "  </thead>\n",
              "  <tbody>\n",
              "    <tr>\n",
              "      <th>0</th>\n",
              "      <td>1</td>\n",
              "      <td>1</td>\n",
              "      <td>0</td>\n",
              "      <td>0</td>\n",
              "      <td>112500.0</td>\n",
              "      <td>Secondary / secondary special</td>\n",
              "      <td>Civil marriage</td>\n",
              "      <td>House / apartment</td>\n",
              "      <td>-21990</td>\n",
              "      <td>0</td>\n",
              "      <td>0</td>\n",
              "      <td>1</td>\n",
              "      <td>0</td>\n",
              "      <td>NaN</td>\n",
              "      <td>2.0</td>\n",
              "      <td>-60.0</td>\n",
              "      <td>0</td>\n",
              "      <td>1</td>\n",
              "      <td>0</td>\n",
              "      <td>0</td>\n",
              "    </tr>\n",
              "    <tr>\n",
              "      <th>1</th>\n",
              "      <td>0</td>\n",
              "      <td>0</td>\n",
              "      <td>1</td>\n",
              "      <td>0</td>\n",
              "      <td>135000.0</td>\n",
              "      <td>Higher education</td>\n",
              "      <td>Married</td>\n",
              "      <td>House / apartment</td>\n",
              "      <td>-18964</td>\n",
              "      <td>-8671</td>\n",
              "      <td>0</td>\n",
              "      <td>1</td>\n",
              "      <td>0</td>\n",
              "      <td>Core staff</td>\n",
              "      <td>2.0</td>\n",
              "      <td>-36.0</td>\n",
              "      <td>0</td>\n",
              "      <td>0</td>\n",
              "      <td>1</td>\n",
              "      <td>0</td>\n",
              "    </tr>\n",
              "    <tr>\n",
              "      <th>2</th>\n",
              "      <td>0</td>\n",
              "      <td>0</td>\n",
              "      <td>1</td>\n",
              "      <td>0</td>\n",
              "      <td>69372.0</td>\n",
              "      <td>Secondary / secondary special</td>\n",
              "      <td>Married</td>\n",
              "      <td>House / apartment</td>\n",
              "      <td>-15887</td>\n",
              "      <td>-217</td>\n",
              "      <td>1</td>\n",
              "      <td>1</td>\n",
              "      <td>0</td>\n",
              "      <td>Laborers</td>\n",
              "      <td>2.0</td>\n",
              "      <td>-40.0</td>\n",
              "      <td>0</td>\n",
              "      <td>0</td>\n",
              "      <td>0</td>\n",
              "      <td>1</td>\n",
              "    </tr>\n",
              "    <tr>\n",
              "      <th>3</th>\n",
              "      <td>1</td>\n",
              "      <td>1</td>\n",
              "      <td>0</td>\n",
              "      <td>0</td>\n",
              "      <td>112500.0</td>\n",
              "      <td>Secondary / secondary special</td>\n",
              "      <td>Married</td>\n",
              "      <td>House / apartment</td>\n",
              "      <td>-19270</td>\n",
              "      <td>-2531</td>\n",
              "      <td>1</td>\n",
              "      <td>0</td>\n",
              "      <td>0</td>\n",
              "      <td>Drivers</td>\n",
              "      <td>2.0</td>\n",
              "      <td>-41.0</td>\n",
              "      <td>1</td>\n",
              "      <td>0</td>\n",
              "      <td>0</td>\n",
              "      <td>0</td>\n",
              "    </tr>\n",
              "    <tr>\n",
              "      <th>4</th>\n",
              "      <td>0</td>\n",
              "      <td>1</td>\n",
              "      <td>1</td>\n",
              "      <td>0</td>\n",
              "      <td>225000.0</td>\n",
              "      <td>Higher education</td>\n",
              "      <td>Married</td>\n",
              "      <td>House / apartment</td>\n",
              "      <td>-17822</td>\n",
              "      <td>-9385</td>\n",
              "      <td>1</td>\n",
              "      <td>0</td>\n",
              "      <td>0</td>\n",
              "      <td>Managers</td>\n",
              "      <td>2.0</td>\n",
              "      <td>-8.0</td>\n",
              "      <td>0</td>\n",
              "      <td>0</td>\n",
              "      <td>1</td>\n",
              "      <td>0</td>\n",
              "    </tr>\n",
              "  </tbody>\n",
              "</table>\n",
              "</div>"
            ],
            "text/plain": [
              "   gender  car  reality  ...  Pensioner  State servant Working\n",
              "0       1    1        0  ...          1              0       0\n",
              "1       0    0        1  ...          0              1       0\n",
              "2       0    0        1  ...          0              0       1\n",
              "3       1    1        0  ...          0              0       0\n",
              "4       0    1        1  ...          0              1       0\n",
              "\n",
              "[5 rows x 20 columns]"
            ]
          },
          "metadata": {
            "tags": []
          },
          "execution_count": 21
        }
      ]
    },
    {
      "cell_type": "markdown",
      "metadata": {
        "id": "7bxlsN8nd1Bm"
      },
      "source": [
        "## edu_type"
      ]
    },
    {
      "cell_type": "code",
      "metadata": {
        "colab": {
          "base_uri": "https://localhost:8080/"
        },
        "id": "oGlwMRgfZ4qI",
        "outputId": "836fcea0-70ba-4ff6-e39d-f95bc358a67b"
      },
      "source": [
        "train_X['edu_type_num'] = 0\n",
        "test_X['edu_type_num'] = 0\n",
        "\n",
        "for idx, row in enumerate(train_X['edu_type']):\n",
        "  if train_X['edu_type'][idx] == 'Academic degree':\n",
        "    train_X['edu_type_num'][idx] = 5\n",
        "  elif train_X['edu_type'][idx] == 'Higher education':\n",
        "    train_X['edu_type_num'][idx] = 4\n",
        "  elif train_X['edu_type'][idx] == 'Secondary / secondary special':\n",
        "    train_X['edu_type_num'][idx] = 3\n",
        "  elif train_X['edu_type'][idx] == 'Incomplete higher':\n",
        "    train_X['edu_type_num'][idx] = 2\n",
        "  else:\n",
        "    train_X['edu_type_num'][idx] = 1\n",
        "\n",
        "for idx, row in enumerate(test_X['edu_type']):\n",
        "  if test_X['edu_type'][idx] == 'Academic degree':\n",
        "    test_X['edu_type_num'][idx] = 5\n",
        "  elif test_X['edu_type'][idx] == 'Higher education':\n",
        "    test_X['edu_type_num'][idx] = 4\n",
        "  elif test_X['edu_type'][idx] == 'Secondary / secondary special':\n",
        "    test_X['edu_type_num'][idx] = 3\n",
        "  elif test_X['edu_type'][idx] == 'Incomplete higher':\n",
        "    test_X['edu_type_num'][idx] = 2\n",
        "  else:\n",
        "    test_X['edu_type_num'][idx] = 1"
      ],
      "execution_count": null,
      "outputs": [
        {
          "output_type": "stream",
          "text": [
            "/usr/local/lib/python3.7/dist-packages/ipykernel_launcher.py:8: SettingWithCopyWarning: \n",
            "A value is trying to be set on a copy of a slice from a DataFrame\n",
            "\n",
            "See the caveats in the documentation: https://pandas.pydata.org/pandas-docs/stable/user_guide/indexing.html#returning-a-view-versus-a-copy\n",
            "  \n",
            "/usr/local/lib/python3.7/dist-packages/ipykernel_launcher.py:10: SettingWithCopyWarning: \n",
            "A value is trying to be set on a copy of a slice from a DataFrame\n",
            "\n",
            "See the caveats in the documentation: https://pandas.pydata.org/pandas-docs/stable/user_guide/indexing.html#returning-a-view-versus-a-copy\n",
            "  # Remove the CWD from sys.path while we load stuff.\n",
            "/usr/local/lib/python3.7/dist-packages/ipykernel_launcher.py:12: SettingWithCopyWarning: \n",
            "A value is trying to be set on a copy of a slice from a DataFrame\n",
            "\n",
            "See the caveats in the documentation: https://pandas.pydata.org/pandas-docs/stable/user_guide/indexing.html#returning-a-view-versus-a-copy\n",
            "  if sys.path[0] == '':\n",
            "/usr/local/lib/python3.7/dist-packages/ipykernel_launcher.py:14: SettingWithCopyWarning: \n",
            "A value is trying to be set on a copy of a slice from a DataFrame\n",
            "\n",
            "See the caveats in the documentation: https://pandas.pydata.org/pandas-docs/stable/user_guide/indexing.html#returning-a-view-versus-a-copy\n",
            "  \n",
            "/usr/local/lib/python3.7/dist-packages/ipykernel_launcher.py:6: SettingWithCopyWarning: \n",
            "A value is trying to be set on a copy of a slice from a DataFrame\n",
            "\n",
            "See the caveats in the documentation: https://pandas.pydata.org/pandas-docs/stable/user_guide/indexing.html#returning-a-view-versus-a-copy\n",
            "  \n",
            "/usr/local/lib/python3.7/dist-packages/ipykernel_launcher.py:22: SettingWithCopyWarning: \n",
            "A value is trying to be set on a copy of a slice from a DataFrame\n",
            "\n",
            "See the caveats in the documentation: https://pandas.pydata.org/pandas-docs/stable/user_guide/indexing.html#returning-a-view-versus-a-copy\n",
            "/usr/local/lib/python3.7/dist-packages/ipykernel_launcher.py:20: SettingWithCopyWarning: \n",
            "A value is trying to be set on a copy of a slice from a DataFrame\n",
            "\n",
            "See the caveats in the documentation: https://pandas.pydata.org/pandas-docs/stable/user_guide/indexing.html#returning-a-view-versus-a-copy\n",
            "/usr/local/lib/python3.7/dist-packages/ipykernel_launcher.py:26: SettingWithCopyWarning: \n",
            "A value is trying to be set on a copy of a slice from a DataFrame\n",
            "\n",
            "See the caveats in the documentation: https://pandas.pydata.org/pandas-docs/stable/user_guide/indexing.html#returning-a-view-versus-a-copy\n",
            "/usr/local/lib/python3.7/dist-packages/ipykernel_launcher.py:24: SettingWithCopyWarning: \n",
            "A value is trying to be set on a copy of a slice from a DataFrame\n",
            "\n",
            "See the caveats in the documentation: https://pandas.pydata.org/pandas-docs/stable/user_guide/indexing.html#returning-a-view-versus-a-copy\n",
            "/usr/local/lib/python3.7/dist-packages/ipykernel_launcher.py:18: SettingWithCopyWarning: \n",
            "A value is trying to be set on a copy of a slice from a DataFrame\n",
            "\n",
            "See the caveats in the documentation: https://pandas.pydata.org/pandas-docs/stable/user_guide/indexing.html#returning-a-view-versus-a-copy\n"
          ],
          "name": "stderr"
        }
      ]
    },
    {
      "cell_type": "code",
      "metadata": {
        "colab": {
          "base_uri": "https://localhost:8080/",
          "height": 391
        },
        "id": "LH7IjdgyathH",
        "outputId": "24b20409-2a9c-462a-c255-dce32d8f9f7a"
      },
      "source": [
        "train_X.head()"
      ],
      "execution_count": null,
      "outputs": [
        {
          "output_type": "execute_result",
          "data": {
            "text/html": [
              "<div>\n",
              "<style scoped>\n",
              "    .dataframe tbody tr th:only-of-type {\n",
              "        vertical-align: middle;\n",
              "    }\n",
              "\n",
              "    .dataframe tbody tr th {\n",
              "        vertical-align: top;\n",
              "    }\n",
              "\n",
              "    .dataframe thead th {\n",
              "        text-align: right;\n",
              "    }\n",
              "</style>\n",
              "<table border=\"1\" class=\"dataframe\">\n",
              "  <thead>\n",
              "    <tr style=\"text-align: right;\">\n",
              "      <th></th>\n",
              "      <th>gender</th>\n",
              "      <th>car</th>\n",
              "      <th>reality</th>\n",
              "      <th>child_num</th>\n",
              "      <th>income_total</th>\n",
              "      <th>edu_type</th>\n",
              "      <th>family_type</th>\n",
              "      <th>house_type</th>\n",
              "      <th>DAYS_BIRTH</th>\n",
              "      <th>DAYS_EMPLOYED</th>\n",
              "      <th>work_phone</th>\n",
              "      <th>phone</th>\n",
              "      <th>email</th>\n",
              "      <th>occyp_type</th>\n",
              "      <th>family_size</th>\n",
              "      <th>begin_month</th>\n",
              "      <th>Commercial associate</th>\n",
              "      <th>Pensioner</th>\n",
              "      <th>State servant</th>\n",
              "      <th>Working</th>\n",
              "      <th>edu_type_num</th>\n",
              "    </tr>\n",
              "  </thead>\n",
              "  <tbody>\n",
              "    <tr>\n",
              "      <th>0</th>\n",
              "      <td>0</td>\n",
              "      <td>0</td>\n",
              "      <td>0</td>\n",
              "      <td>0</td>\n",
              "      <td>202500.0</td>\n",
              "      <td>Higher education</td>\n",
              "      <td>Married</td>\n",
              "      <td>Municipal apartment</td>\n",
              "      <td>-13899</td>\n",
              "      <td>-4709</td>\n",
              "      <td>0</td>\n",
              "      <td>0</td>\n",
              "      <td>0</td>\n",
              "      <td>NaN</td>\n",
              "      <td>2</td>\n",
              "      <td>-6</td>\n",
              "      <td>1</td>\n",
              "      <td>0</td>\n",
              "      <td>0</td>\n",
              "      <td>0</td>\n",
              "      <td>4</td>\n",
              "    </tr>\n",
              "    <tr>\n",
              "      <th>1</th>\n",
              "      <td>0</td>\n",
              "      <td>0</td>\n",
              "      <td>1</td>\n",
              "      <td>1</td>\n",
              "      <td>247500.0</td>\n",
              "      <td>Secondary / secondary special</td>\n",
              "      <td>Civil marriage</td>\n",
              "      <td>House / apartment</td>\n",
              "      <td>-11380</td>\n",
              "      <td>-1540</td>\n",
              "      <td>0</td>\n",
              "      <td>0</td>\n",
              "      <td>1</td>\n",
              "      <td>Laborers</td>\n",
              "      <td>3</td>\n",
              "      <td>-5</td>\n",
              "      <td>1</td>\n",
              "      <td>0</td>\n",
              "      <td>0</td>\n",
              "      <td>0</td>\n",
              "      <td>3</td>\n",
              "    </tr>\n",
              "    <tr>\n",
              "      <th>2</th>\n",
              "      <td>1</td>\n",
              "      <td>1</td>\n",
              "      <td>1</td>\n",
              "      <td>0</td>\n",
              "      <td>450000.0</td>\n",
              "      <td>Higher education</td>\n",
              "      <td>Married</td>\n",
              "      <td>House / apartment</td>\n",
              "      <td>-19087</td>\n",
              "      <td>-4434</td>\n",
              "      <td>0</td>\n",
              "      <td>1</td>\n",
              "      <td>0</td>\n",
              "      <td>Managers</td>\n",
              "      <td>2</td>\n",
              "      <td>-22</td>\n",
              "      <td>0</td>\n",
              "      <td>0</td>\n",
              "      <td>0</td>\n",
              "      <td>1</td>\n",
              "      <td>4</td>\n",
              "    </tr>\n",
              "    <tr>\n",
              "      <th>3</th>\n",
              "      <td>0</td>\n",
              "      <td>0</td>\n",
              "      <td>1</td>\n",
              "      <td>0</td>\n",
              "      <td>202500.0</td>\n",
              "      <td>Secondary / secondary special</td>\n",
              "      <td>Married</td>\n",
              "      <td>House / apartment</td>\n",
              "      <td>-15088</td>\n",
              "      <td>-2092</td>\n",
              "      <td>0</td>\n",
              "      <td>1</td>\n",
              "      <td>0</td>\n",
              "      <td>Sales staff</td>\n",
              "      <td>2</td>\n",
              "      <td>-37</td>\n",
              "      <td>1</td>\n",
              "      <td>0</td>\n",
              "      <td>0</td>\n",
              "      <td>0</td>\n",
              "      <td>3</td>\n",
              "    </tr>\n",
              "    <tr>\n",
              "      <th>4</th>\n",
              "      <td>0</td>\n",
              "      <td>1</td>\n",
              "      <td>1</td>\n",
              "      <td>0</td>\n",
              "      <td>157500.0</td>\n",
              "      <td>Higher education</td>\n",
              "      <td>Married</td>\n",
              "      <td>House / apartment</td>\n",
              "      <td>-15037</td>\n",
              "      <td>-2105</td>\n",
              "      <td>0</td>\n",
              "      <td>0</td>\n",
              "      <td>0</td>\n",
              "      <td>Managers</td>\n",
              "      <td>2</td>\n",
              "      <td>-26</td>\n",
              "      <td>0</td>\n",
              "      <td>0</td>\n",
              "      <td>1</td>\n",
              "      <td>0</td>\n",
              "      <td>4</td>\n",
              "    </tr>\n",
              "  </tbody>\n",
              "</table>\n",
              "</div>"
            ],
            "text/plain": [
              "   gender  car  reality  ...  State servant  Working edu_type_num\n",
              "0       0    0        0  ...              0        0            4\n",
              "1       0    0        1  ...              0        0            3\n",
              "2       1    1        1  ...              0        1            4\n",
              "3       0    0        1  ...              0        0            3\n",
              "4       0    1        1  ...              1        0            4\n",
              "\n",
              "[5 rows x 21 columns]"
            ]
          },
          "metadata": {
            "tags": []
          },
          "execution_count": 23
        }
      ]
    },
    {
      "cell_type": "code",
      "metadata": {
        "colab": {
          "base_uri": "https://localhost:8080/",
          "height": 298
        },
        "id": "vVsrEao1dQQb",
        "outputId": "ac3c8974-c5b2-4118-8ba0-d7272d7635f8"
      },
      "source": [
        "sns.countplot(x='edu_type_num', data=train_X)"
      ],
      "execution_count": null,
      "outputs": [
        {
          "output_type": "execute_result",
          "data": {
            "text/plain": [
              "<matplotlib.axes._subplots.AxesSubplot at 0x7f06a3aa0a90>"
            ]
          },
          "metadata": {
            "tags": []
          },
          "execution_count": 24
        },
        {
          "output_type": "display_data",
          "data": {
            "image/png": "[encoded data removed]",
            "text/plain": [
              "<Figure size 432x288 with 1 Axes>"
            ]
          },
          "metadata": {
            "tags": [],
            "needs_background": "light"
          }
        }
      ]
    },
    {
      "cell_type": "code",
      "metadata": {
        "colab": {
          "base_uri": "https://localhost:8080/",
          "height": 299
        },
        "id": "OxhnrDQmbIzQ",
        "outputId": "61d7c9a3-e741-40d9-b4e4-90110874e122"
      },
      "source": [
        "sns.countplot(x='edu_type_num', data=test_X)"
      ],
      "execution_count": null,
      "outputs": [
        {
          "output_type": "execute_result",
          "data": {
            "text/plain": [
              "<matplotlib.axes._subplots.AxesSubplot at 0x7f06989bcf50>"
            ]
          },
          "metadata": {
            "tags": []
          },
          "execution_count": 25
        },
        {
          "output_type": "display_data",
          "data": {
            "image/png": "[encoded data removed]",
            "text/plain": [
              "<Figure size 432x288 with 1 Axes>"
            ]
          },
          "metadata": {
            "tags": [],
            "needs_background": "light"
          }
        }
      ]
    },
    {
      "cell_type": "code",
      "metadata": {
        "id": "ycPHlsq6hnw-"
      },
      "source": [
        "train_X.drop('edu_type', axis=1, inplace=True)\n",
        "test_X.drop('edu_type', axis=1, inplace=True)"
      ],
      "execution_count": null,
      "outputs": []
    },
    {
      "cell_type": "markdown",
      "metadata": {
        "id": "aV1RCSuweH1j"
      },
      "source": [
        "## family type"
      ]
    },
    {
      "cell_type": "code",
      "metadata": {
        "colab": {
          "base_uri": "https://localhost:8080/",
          "height": 339
        },
        "id": "6FVEXekeeLZo",
        "outputId": "447460af-6855-4659-d422-73f8450409c1"
      },
      "source": [
        "family_type_oh = pd.get_dummies(train_X['family_type'])\n",
        "train_X = pd.concat([train_X, family_type_oh], axis=1)\n",
        "train_X.drop('family_type', axis=1, inplace=True)\n",
        "train_X.head()"
      ],
      "execution_count": null,
      "outputs": [
        {
          "output_type": "execute_result",
          "data": {
            "text/html": [
              "<div>\n",
              "<style scoped>\n",
              "    .dataframe tbody tr th:only-of-type {\n",
              "        vertical-align: middle;\n",
              "    }\n",
              "\n",
              "    .dataframe tbody tr th {\n",
              "        vertical-align: top;\n",
              "    }\n",
              "\n",
              "    .dataframe thead th {\n",
              "        text-align: right;\n",
              "    }\n",
              "</style>\n",
              "<table border=\"1\" class=\"dataframe\">\n",
              "  <thead>\n",
              "    <tr style=\"text-align: right;\">\n",
              "      <th></th>\n",
              "      <th>gender</th>\n",
              "      <th>car</th>\n",
              "      <th>reality</th>\n",
              "      <th>child_num</th>\n",
              "      <th>income_total</th>\n",
              "      <th>house_type</th>\n",
              "      <th>DAYS_BIRTH</th>\n",
              "      <th>DAYS_EMPLOYED</th>\n",
              "      <th>work_phone</th>\n",
              "      <th>phone</th>\n",
              "      <th>email</th>\n",
              "      <th>occyp_type</th>\n",
              "      <th>family_size</th>\n",
              "      <th>begin_month</th>\n",
              "      <th>Commercial associate</th>\n",
              "      <th>Pensioner</th>\n",
              "      <th>State servant</th>\n",
              "      <th>Working</th>\n",
              "      <th>edu_type_num</th>\n",
              "      <th>Civil marriage</th>\n",
              "      <th>Married</th>\n",
              "      <th>Separated</th>\n",
              "      <th>Single / not married</th>\n",
              "      <th>Widow</th>\n",
              "    </tr>\n",
              "  </thead>\n",
              "  <tbody>\n",
              "    <tr>\n",
              "      <th>0</th>\n",
              "      <td>0</td>\n",
              "      <td>0</td>\n",
              "      <td>0</td>\n",
              "      <td>0</td>\n",
              "      <td>202500.0</td>\n",
              "      <td>Municipal apartment</td>\n",
              "      <td>-13899</td>\n",
              "      <td>-4709</td>\n",
              "      <td>0</td>\n",
              "      <td>0</td>\n",
              "      <td>0</td>\n",
              "      <td>NaN</td>\n",
              "      <td>2</td>\n",
              "      <td>-6</td>\n",
              "      <td>1</td>\n",
              "      <td>0</td>\n",
              "      <td>0</td>\n",
              "      <td>0</td>\n",
              "      <td>4</td>\n",
              "      <td>0</td>\n",
              "      <td>1</td>\n",
              "      <td>0</td>\n",
              "      <td>0</td>\n",
              "      <td>0</td>\n",
              "    </tr>\n",
              "    <tr>\n",
              "      <th>1</th>\n",
              "      <td>0</td>\n",
              "      <td>0</td>\n",
              "      <td>1</td>\n",
              "      <td>1</td>\n",
              "      <td>247500.0</td>\n",
              "      <td>House / apartment</td>\n",
              "      <td>-11380</td>\n",
              "      <td>-1540</td>\n",
              "      <td>0</td>\n",
              "      <td>0</td>\n",
              "      <td>1</td>\n",
              "      <td>Laborers</td>\n",
              "      <td>3</td>\n",
              "      <td>-5</td>\n",
              "      <td>1</td>\n",
              "      <td>0</td>\n",
              "      <td>0</td>\n",
              "      <td>0</td>\n",
              "      <td>3</td>\n",
              "      <td>1</td>\n",
              "      <td>0</td>\n",
              "      <td>0</td>\n",
              "      <td>0</td>\n",
              "      <td>0</td>\n",
              "    </tr>\n",
              "    <tr>\n",
              "      <th>2</th>\n",
              "      <td>1</td>\n",
              "      <td>1</td>\n",
              "      <td>1</td>\n",
              "      <td>0</td>\n",
              "      <td>450000.0</td>\n",
              "      <td>House / apartment</td>\n",
              "      <td>-19087</td>\n",
              "      <td>-4434</td>\n",
              "      <td>0</td>\n",
              "      <td>1</td>\n",
              "      <td>0</td>\n",
              "      <td>Managers</td>\n",
              "      <td>2</td>\n",
              "      <td>-22</td>\n",
              "      <td>0</td>\n",
              "      <td>0</td>\n",
              "      <td>0</td>\n",
              "      <td>1</td>\n",
              "      <td>4</td>\n",
              "      <td>0</td>\n",
              "      <td>1</td>\n",
              "      <td>0</td>\n",
              "      <td>0</td>\n",
              "      <td>0</td>\n",
              "    </tr>\n",
              "    <tr>\n",
              "      <th>3</th>\n",
              "      <td>0</td>\n",
              "      <td>0</td>\n",
              "      <td>1</td>\n",
              "      <td>0</td>\n",
              "      <td>202500.0</td>\n",
              "      <td>House / apartment</td>\n",
              "      <td>-15088</td>\n",
              "      <td>-2092</td>\n",
              "      <td>0</td>\n",
              "      <td>1</td>\n",
              "      <td>0</td>\n",
              "      <td>Sales staff</td>\n",
              "      <td>2</td>\n",
              "      <td>-37</td>\n",
              "      <td>1</td>\n",
              "      <td>0</td>\n",
              "      <td>0</td>\n",
              "      <td>0</td>\n",
              "      <td>3</td>\n",
              "      <td>0</td>\n",
              "      <td>1</td>\n",
              "      <td>0</td>\n",
              "      <td>0</td>\n",
              "      <td>0</td>\n",
              "    </tr>\n",
              "    <tr>\n",
              "      <th>4</th>\n",
              "      <td>0</td>\n",
              "      <td>1</td>\n",
              "      <td>1</td>\n",
              "      <td>0</td>\n",
              "      <td>157500.0</td>\n",
              "      <td>House / apartment</td>\n",
              "      <td>-15037</td>\n",
              "      <td>-2105</td>\n",
              "      <td>0</td>\n",
              "      <td>0</td>\n",
              "      <td>0</td>\n",
              "      <td>Managers</td>\n",
              "      <td>2</td>\n",
              "      <td>-26</td>\n",
              "      <td>0</td>\n",
              "      <td>0</td>\n",
              "      <td>1</td>\n",
              "      <td>0</td>\n",
              "      <td>4</td>\n",
              "      <td>0</td>\n",
              "      <td>1</td>\n",
              "      <td>0</td>\n",
              "      <td>0</td>\n",
              "      <td>0</td>\n",
              "    </tr>\n",
              "  </tbody>\n",
              "</table>\n",
              "</div>"
            ],
            "text/plain": [
              "   gender  car  reality  ...  Separated  Single / not married Widow\n",
              "0       0    0        0  ...          0                     0     0\n",
              "1       0    0        1  ...          0                     0     0\n",
              "2       1    1        1  ...          0                     0     0\n",
              "3       0    0        1  ...          0                     0     0\n",
              "4       0    1        1  ...          0                     0     0\n",
              "\n",
              "[5 rows x 24 columns]"
            ]
          },
          "metadata": {
            "tags": []
          },
          "execution_count": 27
        }
      ]
    },
    {
      "cell_type": "code",
      "metadata": {
        "colab": {
          "base_uri": "https://localhost:8080/",
          "height": 339
        },
        "id": "pXFAnt5ke1Vd",
        "outputId": "69a2f7bc-6174-45cd-d66b-0a644fa67910"
      },
      "source": [
        "family_type_oh = pd.get_dummies(test_X['family_type'])\n",
        "test_X = pd.concat([test_X, family_type_oh], axis=1)\n",
        "test_X.drop('family_type', axis=1, inplace=True)\n",
        "test_X.head()"
      ],
      "execution_count": null,
      "outputs": [
        {
          "output_type": "execute_result",
          "data": {
            "text/html": [
              "<div>\n",
              "<style scoped>\n",
              "    .dataframe tbody tr th:only-of-type {\n",
              "        vertical-align: middle;\n",
              "    }\n",
              "\n",
              "    .dataframe tbody tr th {\n",
              "        vertical-align: top;\n",
              "    }\n",
              "\n",
              "    .dataframe thead th {\n",
              "        text-align: right;\n",
              "    }\n",
              "</style>\n",
              "<table border=\"1\" class=\"dataframe\">\n",
              "  <thead>\n",
              "    <tr style=\"text-align: right;\">\n",
              "      <th></th>\n",
              "      <th>gender</th>\n",
              "      <th>car</th>\n",
              "      <th>reality</th>\n",
              "      <th>child_num</th>\n",
              "      <th>income_total</th>\n",
              "      <th>house_type</th>\n",
              "      <th>DAYS_BIRTH</th>\n",
              "      <th>DAYS_EMPLOYED</th>\n",
              "      <th>work_phone</th>\n",
              "      <th>phone</th>\n",
              "      <th>email</th>\n",
              "      <th>occyp_type</th>\n",
              "      <th>family_size</th>\n",
              "      <th>begin_month</th>\n",
              "      <th>Commercial associate</th>\n",
              "      <th>Pensioner</th>\n",
              "      <th>State servant</th>\n",
              "      <th>Working</th>\n",
              "      <th>edu_type_num</th>\n",
              "      <th>Civil marriage</th>\n",
              "      <th>Married</th>\n",
              "      <th>Separated</th>\n",
              "      <th>Single / not married</th>\n",
              "      <th>Widow</th>\n",
              "    </tr>\n",
              "  </thead>\n",
              "  <tbody>\n",
              "    <tr>\n",
              "      <th>0</th>\n",
              "      <td>1</td>\n",
              "      <td>1</td>\n",
              "      <td>0</td>\n",
              "      <td>0</td>\n",
              "      <td>112500.0</td>\n",
              "      <td>House / apartment</td>\n",
              "      <td>-21990</td>\n",
              "      <td>0</td>\n",
              "      <td>0</td>\n",
              "      <td>1</td>\n",
              "      <td>0</td>\n",
              "      <td>NaN</td>\n",
              "      <td>2.0</td>\n",
              "      <td>-60.0</td>\n",
              "      <td>0</td>\n",
              "      <td>1</td>\n",
              "      <td>0</td>\n",
              "      <td>0</td>\n",
              "      <td>3</td>\n",
              "      <td>1</td>\n",
              "      <td>0</td>\n",
              "      <td>0</td>\n",
              "      <td>0</td>\n",
              "      <td>0</td>\n",
              "    </tr>\n",
              "    <tr>\n",
              "      <th>1</th>\n",
              "      <td>0</td>\n",
              "      <td>0</td>\n",
              "      <td>1</td>\n",
              "      <td>0</td>\n",
              "      <td>135000.0</td>\n",
              "      <td>House / apartment</td>\n",
              "      <td>-18964</td>\n",
              "      <td>-8671</td>\n",
              "      <td>0</td>\n",
              "      <td>1</td>\n",
              "      <td>0</td>\n",
              "      <td>Core staff</td>\n",
              "      <td>2.0</td>\n",
              "      <td>-36.0</td>\n",
              "      <td>0</td>\n",
              "      <td>0</td>\n",
              "      <td>1</td>\n",
              "      <td>0</td>\n",
              "      <td>4</td>\n",
              "      <td>0</td>\n",
              "      <td>1</td>\n",
              "      <td>0</td>\n",
              "      <td>0</td>\n",
              "      <td>0</td>\n",
              "    </tr>\n",
              "    <tr>\n",
              "      <th>2</th>\n",
              "      <td>0</td>\n",
              "      <td>0</td>\n",
              "      <td>1</td>\n",
              "      <td>0</td>\n",
              "      <td>69372.0</td>\n",
              "      <td>House / apartment</td>\n",
              "      <td>-15887</td>\n",
              "      <td>-217</td>\n",
              "      <td>1</td>\n",
              "      <td>1</td>\n",
              "      <td>0</td>\n",
              "      <td>Laborers</td>\n",
              "      <td>2.0</td>\n",
              "      <td>-40.0</td>\n",
              "      <td>0</td>\n",
              "      <td>0</td>\n",
              "      <td>0</td>\n",
              "      <td>1</td>\n",
              "      <td>3</td>\n",
              "      <td>0</td>\n",
              "      <td>1</td>\n",
              "      <td>0</td>\n",
              "      <td>0</td>\n",
              "      <td>0</td>\n",
              "    </tr>\n",
              "    <tr>\n",
              "      <th>3</th>\n",
              "      <td>1</td>\n",
              "      <td>1</td>\n",
              "      <td>0</td>\n",
              "      <td>0</td>\n",
              "      <td>112500.0</td>\n",
              "      <td>House / apartment</td>\n",
              "      <td>-19270</td>\n",
              "      <td>-2531</td>\n",
              "      <td>1</td>\n",
              "      <td>0</td>\n",
              "      <td>0</td>\n",
              "      <td>Drivers</td>\n",
              "      <td>2.0</td>\n",
              "      <td>-41.0</td>\n",
              "      <td>1</td>\n",
              "      <td>0</td>\n",
              "      <td>0</td>\n",
              "      <td>0</td>\n",
              "      <td>3</td>\n",
              "      <td>0</td>\n",
              "      <td>1</td>\n",
              "      <td>0</td>\n",
              "      <td>0</td>\n",
              "      <td>0</td>\n",
              "    </tr>\n",
              "    <tr>\n",
              "      <th>4</th>\n",
              "      <td>0</td>\n",
              "      <td>1</td>\n",
              "      <td>1</td>\n",
              "      <td>0</td>\n",
              "      <td>225000.0</td>\n",
              "      <td>House / apartment</td>\n",
              "      <td>-17822</td>\n",
              "      <td>-9385</td>\n",
              "      <td>1</td>\n",
              "      <td>0</td>\n",
              "      <td>0</td>\n",
              "      <td>Managers</td>\n",
              "      <td>2.0</td>\n",
              "      <td>-8.0</td>\n",
              "      <td>0</td>\n",
              "      <td>0</td>\n",
              "      <td>1</td>\n",
              "      <td>0</td>\n",
              "      <td>4</td>\n",
              "      <td>0</td>\n",
              "      <td>1</td>\n",
              "      <td>0</td>\n",
              "      <td>0</td>\n",
              "      <td>0</td>\n",
              "    </tr>\n",
              "  </tbody>\n",
              "</table>\n",
              "</div>"
            ],
            "text/plain": [
              "   gender  car  reality  ...  Separated  Single / not married Widow\n",
              "0       1    1        0  ...          0                     0     0\n",
              "1       0    0        1  ...          0                     0     0\n",
              "2       0    0        1  ...          0                     0     0\n",
              "3       1    1        0  ...          0                     0     0\n",
              "4       0    1        1  ...          0                     0     0\n",
              "\n",
              "[5 rows x 24 columns]"
            ]
          },
          "metadata": {
            "tags": []
          },
          "execution_count": 28
        }
      ]
    },
    {
      "cell_type": "markdown",
      "metadata": {
        "id": "p1DqfFBKhGJ2"
      },
      "source": [
        "## house_type"
      ]
    },
    {
      "cell_type": "markdown",
      "metadata": {
        "id": "7qnqaWAzhLwf"
      },
      "source": [
        "과하게 불균등 - onehot 애매 + 주요요인 아님<br>\n",
        "열 삭제"
      ]
    },
    {
      "cell_type": "code",
      "metadata": {
        "id": "EIPTaA4Oe8OB"
      },
      "source": [
        "train_X.drop('house_type', axis=1, inplace=True)\n",
        "test_X.drop('house_type', axis=1, inplace=True)"
      ],
      "execution_count": null,
      "outputs": []
    },
    {
      "cell_type": "code",
      "metadata": {
        "colab": {
          "base_uri": "https://localhost:8080/",
          "height": 253
        },
        "id": "Ps0HWP9WhaGc",
        "outputId": "5c779c57-be8e-48fa-89c1-e293e0a2e2d9"
      },
      "source": [
        "train_X.head()"
      ],
      "execution_count": null,
      "outputs": [
        {
          "output_type": "execute_result",
          "data": {
            "text/html": [
              "<div>\n",
              "<style scoped>\n",
              "    .dataframe tbody tr th:only-of-type {\n",
              "        vertical-align: middle;\n",
              "    }\n",
              "\n",
              "    .dataframe tbody tr th {\n",
              "        vertical-align: top;\n",
              "    }\n",
              "\n",
              "    .dataframe thead th {\n",
              "        text-align: right;\n",
              "    }\n",
              "</style>\n",
              "<table border=\"1\" class=\"dataframe\">\n",
              "  <thead>\n",
              "    <tr style=\"text-align: right;\">\n",
              "      <th></th>\n",
              "      <th>gender</th>\n",
              "      <th>car</th>\n",
              "      <th>reality</th>\n",
              "      <th>child_num</th>\n",
              "      <th>income_total</th>\n",
              "      <th>DAYS_BIRTH</th>\n",
              "      <th>DAYS_EMPLOYED</th>\n",
              "      <th>work_phone</th>\n",
              "      <th>phone</th>\n",
              "      <th>email</th>\n",
              "      <th>occyp_type</th>\n",
              "      <th>family_size</th>\n",
              "      <th>begin_month</th>\n",
              "      <th>Commercial associate</th>\n",
              "      <th>Pensioner</th>\n",
              "      <th>State servant</th>\n",
              "      <th>Working</th>\n",
              "      <th>edu_type_num</th>\n",
              "      <th>Civil marriage</th>\n",
              "      <th>Married</th>\n",
              "      <th>Separated</th>\n",
              "      <th>Single / not married</th>\n",
              "      <th>Widow</th>\n",
              "    </tr>\n",
              "  </thead>\n",
              "  <tbody>\n",
              "    <tr>\n",
              "      <th>0</th>\n",
              "      <td>0</td>\n",
              "      <td>0</td>\n",
              "      <td>0</td>\n",
              "      <td>0</td>\n",
              "      <td>202500.0</td>\n",
              "      <td>-13899</td>\n",
              "      <td>-4709</td>\n",
              "      <td>0</td>\n",
              "      <td>0</td>\n",
              "      <td>0</td>\n",
              "      <td>NaN</td>\n",
              "      <td>2</td>\n",
              "      <td>-6</td>\n",
              "      <td>1</td>\n",
              "      <td>0</td>\n",
              "      <td>0</td>\n",
              "      <td>0</td>\n",
              "      <td>4</td>\n",
              "      <td>0</td>\n",
              "      <td>1</td>\n",
              "      <td>0</td>\n",
              "      <td>0</td>\n",
              "      <td>0</td>\n",
              "    </tr>\n",
              "    <tr>\n",
              "      <th>1</th>\n",
              "      <td>0</td>\n",
              "      <td>0</td>\n",
              "      <td>1</td>\n",
              "      <td>1</td>\n",
              "      <td>247500.0</td>\n",
              "      <td>-11380</td>\n",
              "      <td>-1540</td>\n",
              "      <td>0</td>\n",
              "      <td>0</td>\n",
              "      <td>1</td>\n",
              "      <td>Laborers</td>\n",
              "      <td>3</td>\n",
              "      <td>-5</td>\n",
              "      <td>1</td>\n",
              "      <td>0</td>\n",
              "      <td>0</td>\n",
              "      <td>0</td>\n",
              "      <td>3</td>\n",
              "      <td>1</td>\n",
              "      <td>0</td>\n",
              "      <td>0</td>\n",
              "      <td>0</td>\n",
              "      <td>0</td>\n",
              "    </tr>\n",
              "    <tr>\n",
              "      <th>2</th>\n",
              "      <td>1</td>\n",
              "      <td>1</td>\n",
              "      <td>1</td>\n",
              "      <td>0</td>\n",
              "      <td>450000.0</td>\n",
              "      <td>-19087</td>\n",
              "      <td>-4434</td>\n",
              "      <td>0</td>\n",
              "      <td>1</td>\n",
              "      <td>0</td>\n",
              "      <td>Managers</td>\n",
              "      <td>2</td>\n",
              "      <td>-22</td>\n",
              "      <td>0</td>\n",
              "      <td>0</td>\n",
              "      <td>0</td>\n",
              "      <td>1</td>\n",
              "      <td>4</td>\n",
              "      <td>0</td>\n",
              "      <td>1</td>\n",
              "      <td>0</td>\n",
              "      <td>0</td>\n",
              "      <td>0</td>\n",
              "    </tr>\n",
              "    <tr>\n",
              "      <th>3</th>\n",
              "      <td>0</td>\n",
              "      <td>0</td>\n",
              "      <td>1</td>\n",
              "      <td>0</td>\n",
              "      <td>202500.0</td>\n",
              "      <td>-15088</td>\n",
              "      <td>-2092</td>\n",
              "      <td>0</td>\n",
              "      <td>1</td>\n",
              "      <td>0</td>\n",
              "      <td>Sales staff</td>\n",
              "      <td>2</td>\n",
              "      <td>-37</td>\n",
              "      <td>1</td>\n",
              "      <td>0</td>\n",
              "      <td>0</td>\n",
              "      <td>0</td>\n",
              "      <td>3</td>\n",
              "      <td>0</td>\n",
              "      <td>1</td>\n",
              "      <td>0</td>\n",
              "      <td>0</td>\n",
              "      <td>0</td>\n",
              "    </tr>\n",
              "    <tr>\n",
              "      <th>4</th>\n",
              "      <td>0</td>\n",
              "      <td>1</td>\n",
              "      <td>1</td>\n",
              "      <td>0</td>\n",
              "      <td>157500.0</td>\n",
              "      <td>-15037</td>\n",
              "      <td>-2105</td>\n",
              "      <td>0</td>\n",
              "      <td>0</td>\n",
              "      <td>0</td>\n",
              "      <td>Managers</td>\n",
              "      <td>2</td>\n",
              "      <td>-26</td>\n",
              "      <td>0</td>\n",
              "      <td>0</td>\n",
              "      <td>1</td>\n",
              "      <td>0</td>\n",
              "      <td>4</td>\n",
              "      <td>0</td>\n",
              "      <td>1</td>\n",
              "      <td>0</td>\n",
              "      <td>0</td>\n",
              "      <td>0</td>\n",
              "    </tr>\n",
              "  </tbody>\n",
              "</table>\n",
              "</div>"
            ],
            "text/plain": [
              "   gender  car  reality  ...  Separated  Single / not married  Widow\n",
              "0       0    0        0  ...          0                     0      0\n",
              "1       0    0        1  ...          0                     0      0\n",
              "2       1    1        1  ...          0                     0      0\n",
              "3       0    0        1  ...          0                     0      0\n",
              "4       0    1        1  ...          0                     0      0\n",
              "\n",
              "[5 rows x 23 columns]"
            ]
          },
          "metadata": {
            "tags": []
          },
          "execution_count": 30
        }
      ]
    },
    {
      "cell_type": "markdown",
      "metadata": {
        "id": "kS6abZW8h1Yz"
      },
      "source": [
        "## occyp_type"
      ]
    },
    {
      "cell_type": "markdown",
      "metadata": {
        "id": "0c7gtEkMiAyn"
      },
      "source": [
        "결측치가 많고 feature 많아서 one-hot 애매\n",
        "<br>: 열 삭제"
      ]
    },
    {
      "cell_type": "code",
      "metadata": {
        "id": "GjPbwwr9h5M1"
      },
      "source": [
        "train_X.drop('occyp_type', axis=1, inplace=True)\n",
        "test_X.drop('occyp_type', axis=1, inplace=True)"
      ],
      "execution_count": null,
      "outputs": []
    },
    {
      "cell_type": "code",
      "metadata": {
        "colab": {
          "base_uri": "https://localhost:8080/",
          "height": 253
        },
        "id": "K_nzn_fyiOy7",
        "outputId": "da40ece6-6c7b-4fe7-e62f-dfa5721739e4"
      },
      "source": [
        "train_X.head()"
      ],
      "execution_count": null,
      "outputs": [
        {
          "output_type": "execute_result",
          "data": {
            "text/html": [
              "<div>\n",
              "<style scoped>\n",
              "    .dataframe tbody tr th:only-of-type {\n",
              "        vertical-align: middle;\n",
              "    }\n",
              "\n",
              "    .dataframe tbody tr th {\n",
              "        vertical-align: top;\n",
              "    }\n",
              "\n",
              "    .dataframe thead th {\n",
              "        text-align: right;\n",
              "    }\n",
              "</style>\n",
              "<table border=\"1\" class=\"dataframe\">\n",
              "  <thead>\n",
              "    <tr style=\"text-align: right;\">\n",
              "      <th></th>\n",
              "      <th>gender</th>\n",
              "      <th>car</th>\n",
              "      <th>reality</th>\n",
              "      <th>child_num</th>\n",
              "      <th>income_total</th>\n",
              "      <th>DAYS_BIRTH</th>\n",
              "      <th>DAYS_EMPLOYED</th>\n",
              "      <th>work_phone</th>\n",
              "      <th>phone</th>\n",
              "      <th>email</th>\n",
              "      <th>family_size</th>\n",
              "      <th>begin_month</th>\n",
              "      <th>Commercial associate</th>\n",
              "      <th>Pensioner</th>\n",
              "      <th>State servant</th>\n",
              "      <th>Working</th>\n",
              "      <th>edu_type_num</th>\n",
              "      <th>Civil marriage</th>\n",
              "      <th>Married</th>\n",
              "      <th>Separated</th>\n",
              "      <th>Single / not married</th>\n",
              "      <th>Widow</th>\n",
              "    </tr>\n",
              "  </thead>\n",
              "  <tbody>\n",
              "    <tr>\n",
              "      <th>0</th>\n",
              "      <td>0</td>\n",
              "      <td>0</td>\n",
              "      <td>0</td>\n",
              "      <td>0</td>\n",
              "      <td>202500.0</td>\n",
              "      <td>-13899</td>\n",
              "      <td>-4709</td>\n",
              "      <td>0</td>\n",
              "      <td>0</td>\n",
              "      <td>0</td>\n",
              "      <td>2</td>\n",
              "      <td>-6</td>\n",
              "      <td>1</td>\n",
              "      <td>0</td>\n",
              "      <td>0</td>\n",
              "      <td>0</td>\n",
              "      <td>4</td>\n",
              "      <td>0</td>\n",
              "      <td>1</td>\n",
              "      <td>0</td>\n",
              "      <td>0</td>\n",
              "      <td>0</td>\n",
              "    </tr>\n",
              "    <tr>\n",
              "      <th>1</th>\n",
              "      <td>0</td>\n",
              "      <td>0</td>\n",
              "      <td>1</td>\n",
              "      <td>1</td>\n",
              "      <td>247500.0</td>\n",
              "      <td>-11380</td>\n",
              "      <td>-1540</td>\n",
              "      <td>0</td>\n",
              "      <td>0</td>\n",
              "      <td>1</td>\n",
              "      <td>3</td>\n",
              "      <td>-5</td>\n",
              "      <td>1</td>\n",
              "      <td>0</td>\n",
              "      <td>0</td>\n",
              "      <td>0</td>\n",
              "      <td>3</td>\n",
              "      <td>1</td>\n",
              "      <td>0</td>\n",
              "      <td>0</td>\n",
              "      <td>0</td>\n",
              "      <td>0</td>\n",
              "    </tr>\n",
              "    <tr>\n",
              "      <th>2</th>\n",
              "      <td>1</td>\n",
              "      <td>1</td>\n",
              "      <td>1</td>\n",
              "      <td>0</td>\n",
              "      <td>450000.0</td>\n",
              "      <td>-19087</td>\n",
              "      <td>-4434</td>\n",
              "      <td>0</td>\n",
              "      <td>1</td>\n",
              "      <td>0</td>\n",
              "      <td>2</td>\n",
              "      <td>-22</td>\n",
              "      <td>0</td>\n",
              "      <td>0</td>\n",
              "      <td>0</td>\n",
              "      <td>1</td>\n",
              "      <td>4</td>\n",
              "      <td>0</td>\n",
              "      <td>1</td>\n",
              "      <td>0</td>\n",
              "      <td>0</td>\n",
              "      <td>0</td>\n",
              "    </tr>\n",
              "    <tr>\n",
              "      <th>3</th>\n",
              "      <td>0</td>\n",
              "      <td>0</td>\n",
              "      <td>1</td>\n",
              "      <td>0</td>\n",
              "      <td>202500.0</td>\n",
              "      <td>-15088</td>\n",
              "      <td>-2092</td>\n",
              "      <td>0</td>\n",
              "      <td>1</td>\n",
              "      <td>0</td>\n",
              "      <td>2</td>\n",
              "      <td>-37</td>\n",
              "      <td>1</td>\n",
              "      <td>0</td>\n",
              "      <td>0</td>\n",
              "      <td>0</td>\n",
              "      <td>3</td>\n",
              "      <td>0</td>\n",
              "      <td>1</td>\n",
              "      <td>0</td>\n",
              "      <td>0</td>\n",
              "      <td>0</td>\n",
              "    </tr>\n",
              "    <tr>\n",
              "      <th>4</th>\n",
              "      <td>0</td>\n",
              "      <td>1</td>\n",
              "      <td>1</td>\n",
              "      <td>0</td>\n",
              "      <td>157500.0</td>\n",
              "      <td>-15037</td>\n",
              "      <td>-2105</td>\n",
              "      <td>0</td>\n",
              "      <td>0</td>\n",
              "      <td>0</td>\n",
              "      <td>2</td>\n",
              "      <td>-26</td>\n",
              "      <td>0</td>\n",
              "      <td>0</td>\n",
              "      <td>1</td>\n",
              "      <td>0</td>\n",
              "      <td>4</td>\n",
              "      <td>0</td>\n",
              "      <td>1</td>\n",
              "      <td>0</td>\n",
              "      <td>0</td>\n",
              "      <td>0</td>\n",
              "    </tr>\n",
              "  </tbody>\n",
              "</table>\n",
              "</div>"
            ],
            "text/plain": [
              "   gender  car  reality  ...  Separated  Single / not married  Widow\n",
              "0       0    0        0  ...          0                     0      0\n",
              "1       0    0        1  ...          0                     0      0\n",
              "2       1    1        1  ...          0                     0      0\n",
              "3       0    0        1  ...          0                     0      0\n",
              "4       0    1        1  ...          0                     0      0\n",
              "\n",
              "[5 rows x 22 columns]"
            ]
          },
          "metadata": {
            "tags": []
          },
          "execution_count": 32
        }
      ]
    },
    {
      "cell_type": "markdown",
      "metadata": {
        "id": "jJYO6pZLk4hy"
      },
      "source": [
        "# 연속형 변수"
      ]
    },
    {
      "cell_type": "code",
      "metadata": {
        "id": "3NvCAb7Ck8Va"
      },
      "source": [
        "# 복사한 후 스케일링\n",
        "train_scaled = train_X.copy()\n",
        "test_scaled = test_X.copy()"
      ],
      "execution_count": null,
      "outputs": []
    },
    {
      "cell_type": "code",
      "metadata": {
        "id": "iIGZNBR2lA_V"
      },
      "source": [
        "# 음수값 양수로 변환\n",
        "train_scaled['DAYS_EMPLOYED'] = -train_scaled['DAYS_EMPLOYED']\n",
        "train_scaled['DAYS_BIRTH'] = -train_scaled['DAYS_BIRTH']\n",
        "train_scaled['begin_month'] = -train_scaled['begin_month']\n",
        "\n",
        "test_scaled['DAYS_EMPLOYED'] = -test_scaled['DAYS_EMPLOYED']\n",
        "test_scaled['DAYS_BIRTH'] = -test_scaled['DAYS_BIRTH']\n",
        "test_scaled['begin_month'] = -test_scaled['begin_month']"
      ],
      "execution_count": null,
      "outputs": []
    },
    {
      "cell_type": "code",
      "metadata": {
        "colab": {
          "base_uri": "https://localhost:8080/"
        },
        "id": "3EsazheGlEEG",
        "outputId": "f73adb40-164e-4434-aef0-b082dace2b24"
      },
      "source": [
        "# DAYS_EMPLOYED - 양수값, 2년단위, 5000일 이상\n",
        "for idx, row in enumerate(train_scaled['DAYS_EMPLOYED']):\n",
        "  if train_scaled['DAYS_EMPLOYED'][idx] > 5000:\n",
        "    train_scaled['DAYS_EMPLOYED'][idx] = 9\n",
        "  elif train_scaled['DAYS_EMPLOYED'][idx] == 0:\n",
        "    train_scaled['DAYS_EMPLOYED'][idx] = 1\n",
        "  else:\n",
        "    train_scaled['DAYS_EMPLOYED'][idx] = round(train_scaled['DAYS_EMPLOYED'][idx] / 730) + 2\n",
        "\n",
        "for idx, row in enumerate(test_scaled['DAYS_EMPLOYED']):\n",
        "  if test_scaled['DAYS_EMPLOYED'][idx] > 5000:\n",
        "    test_scaled['DAYS_EMPLOYED'][idx] = 9\n",
        "  elif test_scaled['DAYS_EMPLOYED'][idx] == 0:\n",
        "    test_scaled['DAYS_EMPLOYED'][idx] = 1\n",
        "  else:\n",
        "    test_scaled['DAYS_EMPLOYED'][idx] = round(test_scaled['DAYS_EMPLOYED'][idx] / 730) + 2"
      ],
      "execution_count": null,
      "outputs": [
        {
          "output_type": "stream",
          "text": [
            "/usr/local/lib/python3.7/dist-packages/ipykernel_launcher.py:8: SettingWithCopyWarning: \n",
            "A value is trying to be set on a copy of a slice from a DataFrame\n",
            "\n",
            "See the caveats in the documentation: https://pandas.pydata.org/pandas-docs/stable/user_guide/indexing.html#returning-a-view-versus-a-copy\n",
            "  \n",
            "/usr/local/lib/python3.7/dist-packages/ipykernel_launcher.py:4: SettingWithCopyWarning: \n",
            "A value is trying to be set on a copy of a slice from a DataFrame\n",
            "\n",
            "See the caveats in the documentation: https://pandas.pydata.org/pandas-docs/stable/user_guide/indexing.html#returning-a-view-versus-a-copy\n",
            "  after removing the cwd from sys.path.\n",
            "/usr/local/lib/python3.7/dist-packages/ipykernel_launcher.py:6: SettingWithCopyWarning: \n",
            "A value is trying to be set on a copy of a slice from a DataFrame\n",
            "\n",
            "See the caveats in the documentation: https://pandas.pydata.org/pandas-docs/stable/user_guide/indexing.html#returning-a-view-versus-a-copy\n",
            "  \n",
            "/usr/local/lib/python3.7/dist-packages/ipykernel_launcher.py:14: SettingWithCopyWarning: \n",
            "A value is trying to be set on a copy of a slice from a DataFrame\n",
            "\n",
            "See the caveats in the documentation: https://pandas.pydata.org/pandas-docs/stable/user_guide/indexing.html#returning-a-view-versus-a-copy\n",
            "  \n",
            "/usr/local/lib/python3.7/dist-packages/ipykernel_launcher.py:12: SettingWithCopyWarning: \n",
            "A value is trying to be set on a copy of a slice from a DataFrame\n",
            "\n",
            "See the caveats in the documentation: https://pandas.pydata.org/pandas-docs/stable/user_guide/indexing.html#returning-a-view-versus-a-copy\n",
            "  if sys.path[0] == '':\n",
            "/usr/local/lib/python3.7/dist-packages/ipykernel_launcher.py:16: SettingWithCopyWarning: \n",
            "A value is trying to be set on a copy of a slice from a DataFrame\n",
            "\n",
            "See the caveats in the documentation: https://pandas.pydata.org/pandas-docs/stable/user_guide/indexing.html#returning-a-view-versus-a-copy\n",
            "  app.launch_new_instance()\n"
          ],
          "name": "stderr"
        }
      ]
    },
    {
      "cell_type": "code",
      "metadata": {
        "id": "OyA-p3CYlITf"
      },
      "source": [
        "# begin_month - 10개월 단위 cut\n",
        "train_scaled['begin_month'] = train_scaled['begin_month'] / 10\n",
        "test_scaled['begin_month'] = test_scaled['begin_month'] / 10\n",
        "\n",
        "# DAYS_BIRTH - 1년 단위 cut\n",
        "train_scaled['DAYS_BIRTH'] = np.log1p(train_scaled['DAYS_BIRTH'] / 365)\n",
        "test_scaled['DAYS_BIRTH'] = np.log1p(test_scaled['DAYS_BIRTH'] / 365)\n",
        "\n",
        "# income_total - 로그 변환\n",
        "train_scaled['income_total'] = np.log1p(train_scaled['income_total']/1000)\n",
        "test_scaled['income_total'] = np.log1p(test_scaled['income_total']/1000) "
      ],
      "execution_count": null,
      "outputs": []
    },
    {
      "cell_type": "code",
      "metadata": {
        "colab": {
          "base_uri": "https://localhost:8080/",
          "height": 606
        },
        "id": "kmIwHlD-lKfr",
        "outputId": "46392fab-cb97-44f0-8d09-bd561ca15186"
      },
      "source": [
        "fig, ax = plt.subplots(figsize=(10,10))\n",
        "sns.countplot(x='DAYS_EMPLOYED', data=train_scaled)\n",
        "plt.show()"
      ],
      "execution_count": null,
      "outputs": [
        {
          "output_type": "display_data",
          "data": {
            "image/png": "[encoded data removed]",
            "text/plain": [
              "<Figure size 720x720 with 1 Axes>"
            ]
          },
          "metadata": {
            "tags": [],
            "needs_background": "light"
          }
        }
      ]
    },
    {
      "cell_type": "code",
      "metadata": {
        "colab": {
          "base_uri": "https://localhost:8080/",
          "height": 1000
        },
        "id": "PKf8ib0clOmD",
        "outputId": "fd693b8d-ffb1-493f-d15a-49520eb7be44"
      },
      "source": [
        "cols = ['income_total', 'DAYS_BIRTH', 'begin_month']\n",
        "for col in cols:\n",
        "  fig, ax = plt.subplots(figsize=(10,10))\n",
        "  sns.distplot(train_scaled[col])\n",
        "  plt.show()"
      ],
      "execution_count": null,
      "outputs": [
        {
          "output_type": "display_data",
          "data": {
            "image/png": "[encoded data removed]",
            "text/plain": [
              "<Figure size 720x720 with 1 Axes>"
            ]
          },
          "metadata": {
            "tags": [],
            "needs_background": "light"
          }
        },
        {
          "output_type": "display_data",
          "data": {
            "image/png": "[encoded data removed]",
            "text/plain": [
              "<Figure size 720x720 with 1 Axes>"
            ]
          },
          "metadata": {
            "tags": [],
            "needs_background": "light"
          }
        },
        {
          "output_type": "display_data",
          "data": {
            "image/png": "[encoded data removed]",
            "text/plain": [
              "<Figure size 720x720 with 1 Axes>"
            ]
          },
          "metadata": {
            "tags": [],
            "needs_background": "light"
          }
        }
      ]
    },
    {
      "cell_type": "markdown",
      "metadata": {
        "id": "UZfJd-ufiWu8"
      },
      "source": [
        "# PCA 변수 선택"
      ]
    },
    {
      "cell_type": "markdown",
      "metadata": {
        "id": "GH6Al-eEnNk6"
      },
      "source": [
        "## PCA 시각화"
      ]
    },
    {
      "cell_type": "code",
      "metadata": {
        "id": "uoWxAL-EiQRQ"
      },
      "source": [
        "from sklearn.preprocessing import StandardScaler\n",
        "from sklearn.decomposition import PCA\n",
        "from sklearn.metrics import confusion_matrix\n",
        "\n",
        "# 데이터 표준화\n",
        "train_standard = StandardScaler().fit_transform(train_X)\n",
        "test_standard = StandardScaler().fit_transform(test_X)"
      ],
      "execution_count": null,
      "outputs": []
    },
    {
      "cell_type": "code",
      "metadata": {
        "colab": {
          "base_uri": "https://localhost:8080/"
        },
        "id": "IUNKxtlW3EOy",
        "outputId": "5a103ecb-c8b4-4f90-a444-ff0599057dbb"
      },
      "source": [
        "train_X.columns"
      ],
      "execution_count": null,
      "outputs": [
        {
          "output_type": "execute_result",
          "data": {
            "text/plain": [
              "Index(['gender', 'car', 'reality', 'child_num', 'income_total', 'DAYS_BIRTH',\n",
              "       'DAYS_EMPLOYED', 'work_phone', 'phone', 'email', 'family_size',\n",
              "       'begin_month', 'Commercial associate', 'Pensioner', 'State servant',\n",
              "       'Working', 'edu_type_num', 'Civil marriage', 'Married', 'Separated',\n",
              "       'Single / not married', 'Widow'],\n",
              "      dtype='object')"
            ]
          },
          "metadata": {
            "tags": []
          },
          "execution_count": 40
        }
      ]
    },
    {
      "cell_type": "code",
      "metadata": {
        "colab": {
          "base_uri": "https://localhost:8080/"
        },
        "id": "8nyNzP47idVc",
        "outputId": "3169aefe-9ee3-42c0-9f4e-5b5eec35abb7"
      },
      "source": [
        "# pca\n",
        "pca = PCA()\n",
        "principalComponents = pca.fit_transform(train_standard)\n",
        "principalDf = pd.DataFrame(data = principalComponents, columns = ['pc1', 'pc2', 'pc3', 'pc4', 'pc5', 'pc6', 'pc7', 'pc8', 'pc9', 'pc10', 'pc11', 'pc12', 'pc13', 'pc14', 'pc15', 'pc16', 'pc17', 'pc18', 'pc19', 'pc20', 'pc21', 'pc22'])\n",
        "principalDf.var()"
      ],
      "execution_count": null,
      "outputs": [
        {
          "output_type": "execute_result",
          "data": {
            "text/plain": [
              "pc1     3.089025e+00\n",
              "pc2     2.016779e+00\n",
              "pc3     1.736437e+00\n",
              "pc4     1.436213e+00\n",
              "pc5     1.423198e+00\n",
              "pc6     1.297877e+00\n",
              "pc7     1.166025e+00\n",
              "pc8     1.095415e+00\n",
              "pc9     1.052750e+00\n",
              "pc10    1.044261e+00\n",
              "pc11    9.704604e-01\n",
              "pc12    9.489612e-01\n",
              "pc13    9.160291e-01\n",
              "pc14    9.037469e-01\n",
              "pc15    7.599905e-01\n",
              "pc16    6.747805e-01\n",
              "pc17    6.046077e-01\n",
              "pc18    5.870924e-01\n",
              "pc19    2.758075e-01\n",
              "pc20    9.678901e-04\n",
              "pc21    4.099709e-04\n",
              "pc22    3.197226e-31\n",
              "dtype: float64"
            ]
          },
          "metadata": {
            "tags": []
          },
          "execution_count": 41
        }
      ]
    },
    {
      "cell_type": "code",
      "metadata": {
        "id": "HotRivv6ilJg"
      },
      "source": [
        "pca = PCA()\n",
        "pca.fit(train_standard)\n",
        "\n",
        "pcscore = pca.transform(train_standard)"
      ],
      "execution_count": null,
      "outputs": []
    },
    {
      "cell_type": "code",
      "metadata": {
        "colab": {
          "base_uri": "https://localhost:8080/",
          "height": 286
        },
        "id": "hs9ggpohim6W",
        "outputId": "83a99d48-e0ea-45d0-a8f2-bcdcb8ea3bc2"
      },
      "source": [
        "PC_ratio = pca.explained_variance_ratio_\n",
        "PC_ratio_df = pd.DataFrame(PC_ratio)\n",
        "PC_ratio_df.plot(kind='bar')"
      ],
      "execution_count": null,
      "outputs": [
        {
          "output_type": "execute_result",
          "data": {
            "text/plain": [
              "<matplotlib.axes._subplots.AxesSubplot at 0x7f068ca56110>"
            ]
          },
          "metadata": {
            "tags": []
          },
          "execution_count": 43
        },
        {
          "output_type": "display_data",
          "data": {
            "image/png": "[encoded data removed]",
            "text/plain": [
              "<Figure size 432x288 with 1 Axes>"
            ]
          },
          "metadata": {
            "tags": [],
            "needs_background": "light"
          }
        }
      ]
    },
    {
      "cell_type": "code",
      "metadata": {
        "colab": {
          "base_uri": "https://localhost:8080/"
        },
        "id": "KvabwZ9t0TTR",
        "outputId": "c11774de-4f10-4b99-faab-877f2ea55320"
      },
      "source": [
        "sum = 0\n",
        "for i in range(10):\n",
        "  sum += PC_ratio[i]\n",
        "print(sum)"
      ],
      "execution_count": null,
      "outputs": [
        {
          "output_type": "stream",
          "text": [
            "0.6980635032865735\n"
          ],
          "name": "stdout"
        }
      ]
    },
    {
      "cell_type": "markdown",
      "metadata": {
        "id": "qOXHLSxa1Din"
      },
      "source": [
        "설명력 0.7 이상으로 하기 위해 10개 이상의 요인 선택"
      ]
    },
    {
      "cell_type": "markdown",
      "metadata": {
        "id": "Tv4ta01hnQoR"
      },
      "source": [
        "## logloss 체크"
      ]
    },
    {
      "cell_type": "code",
      "metadata": {
        "id": "48sScJeckLzd"
      },
      "source": [
        "from sklearn.metrics import accuracy_score\n",
        "rf_clf = RandomForestClassifier()\n",
        "lr_clf = LogisticRegression()\n",
        "lgbm_clf = LGBMClassifier(n_jobs = -1)\n",
        "xgb_clf = XGBClassifier(n_jobs = -1)"
      ],
      "execution_count": null,
      "outputs": []
    },
    {
      "cell_type": "code",
      "metadata": {
        "id": "pLgOocmSkUl1"
      },
      "source": [
        "def pca_log_loss(clf, feature_num):\n",
        "  train_score = pca.transform(X_train)[:,:feature_num]\n",
        "  test_score = pca.transform(X_test)[:,:feature_num]\n",
        "\n",
        "  clf.fit(train_score, y_train)\n",
        "  pred = clf.predict(test_score[:,:feature_num])\n",
        "  cf = confusion_matrix(y_test, pred)\n",
        "  print(clf.__class__.__name__)\n",
        "  print(\"confusion matrix:\\n\", cf)\n",
        "  print(\"accuracy score : \", accuracy_score(y_test, pred))\n",
        "  y_proba = clf.predict_proba(test_score)\n",
        "  y_val_onehot = pd.get_dummies(y_test)\n",
        "  print(\"log loss: \",log_loss(y_val_onehot, y_proba))"
      ],
      "execution_count": null,
      "outputs": []
    },
    {
      "cell_type": "markdown",
      "metadata": {
        "id": "ceEsh_nQqA4M"
      },
      "source": [
        "### 연속형 변수 scale X"
      ]
    },
    {
      "cell_type": "code",
      "metadata": {
        "id": "XNJgr98Jjgfq"
      },
      "source": [
        "X_train, X_test, y_train, y_test = train_test_split(train_X, train_y, test_size=0.2)"
      ],
      "execution_count": null,
      "outputs": []
    },
    {
      "cell_type": "code",
      "metadata": {
        "colab": {
          "base_uri": "https://localhost:8080/"
        },
        "id": "xUp9pRLykVks",
        "outputId": "ff2a5102-1178-44f3-8a5e-a580430386fc"
      },
      "source": [
        "pca_log_loss(rf_clf, len(train_X.columns))\n",
        "pca_log_loss(lr_clf, len(train_X.columns))\n",
        "pca_log_loss(lgbm_clf, len(train_X.columns))\n",
        "pca_log_loss(xgb_clf, len(train_X.columns))"
      ],
      "execution_count": null,
      "outputs": [
        {
          "output_type": "stream",
          "text": [
            "RandomForestClassifier\n",
            "confusion matrix:\n",
            " [[ 248   91  309]\n",
            " [  95  527  644]\n",
            " [ 234  449 2695]]\n",
            "accuracy score :  0.6557067271352985\n",
            "log loss:  1.6758532492324618\n"
          ],
          "name": "stdout"
        },
        {
          "output_type": "stream",
          "text": [
            "/usr/local/lib/python3.7/dist-packages/sklearn/linear_model/_logistic.py:940: ConvergenceWarning: lbfgs failed to converge (status=1):\n",
            "STOP: TOTAL NO. of ITERATIONS REACHED LIMIT.\n",
            "\n",
            "Increase the number of iterations (max_iter) or scale the data as shown in:\n",
            "    https://scikit-learn.org/stable/modules/preprocessing.html\n",
            "Please also refer to the documentation for alternative solver options:\n",
            "    https://scikit-learn.org/stable/modules/linear_model.html#logistic-regression\n",
            "  extra_warning_msg=_LOGISTIC_SOLVER_CONVERGENCE_MSG)\n"
          ],
          "name": "stderr"
        },
        {
          "output_type": "stream",
          "text": [
            "LogisticRegression\n",
            "confusion matrix:\n",
            " [[   0    0  648]\n",
            " [   0    0 1266]\n",
            " [   0    0 3378]]\n",
            "accuracy score :  0.6383219954648526\n",
            "log loss:  0.8728291847676328\n",
            "LGBMClassifier\n",
            "confusion matrix:\n",
            " [[  21    4  623]\n",
            " [   4   81 1181]\n",
            " [  11   44 3323]]\n",
            "accuracy score :  0.6472033257747544\n",
            "log loss:  0.8304490923458836\n",
            "XGBClassifier\n",
            "confusion matrix:\n",
            " [[   1    0  647]\n",
            " [   0   13 1253]\n",
            " [   0    6 3372]]\n",
            "accuracy score :  0.6398337112622827\n",
            "log loss:  0.8677814238629419\n"
          ],
          "name": "stdout"
        }
      ]
    },
    {
      "cell_type": "markdown",
      "metadata": {
        "id": "VDRJhB7VqDon"
      },
      "source": [
        "### 연속형 변수 scaled"
      ]
    },
    {
      "cell_type": "code",
      "metadata": {
        "id": "2UAt9b7dkbQZ"
      },
      "source": [
        "X_train, X_test, y_train, y_test = train_test_split(train_scaled, train_y, test_size=0.2)"
      ],
      "execution_count": null,
      "outputs": []
    },
    {
      "cell_type": "code",
      "metadata": {
        "colab": {
          "base_uri": "https://localhost:8080/"
        },
        "id": "Qh86yfralW2H",
        "outputId": "f9b022a2-fcc1-43b0-e18c-698967fadaff"
      },
      "source": [
        "pca_log_loss(rf_clf, 10)\n",
        "pca_log_loss(lr_clf, 10)\n",
        "pca_log_loss(lgbm_clf, 10)\n",
        "pca_log_loss(xgb_clf, 10)"
      ],
      "execution_count": null,
      "outputs": [
        {
          "output_type": "stream",
          "text": [
            "RandomForestClassifier\n",
            "confusion matrix:\n",
            " [[ 118   89  429]\n",
            " [  45  393  796]\n",
            " [  95  282 3045]]\n",
            "accuracy score :  0.671957671957672\n",
            "log loss:  0.8693688055326972\n"
          ],
          "name": "stdout"
        },
        {
          "output_type": "stream",
          "text": [
            "/usr/local/lib/python3.7/dist-packages/sklearn/linear_model/_logistic.py:940: ConvergenceWarning: lbfgs failed to converge (status=1):\n",
            "STOP: TOTAL NO. of ITERATIONS REACHED LIMIT.\n",
            "\n",
            "Increase the number of iterations (max_iter) or scale the data as shown in:\n",
            "    https://scikit-learn.org/stable/modules/preprocessing.html\n",
            "Please also refer to the documentation for alternative solver options:\n",
            "    https://scikit-learn.org/stable/modules/linear_model.html#logistic-regression\n",
            "  extra_warning_msg=_LOGISTIC_SOLVER_CONVERGENCE_MSG)\n"
          ],
          "name": "stderr"
        },
        {
          "output_type": "stream",
          "text": [
            "LogisticRegression\n",
            "confusion matrix:\n",
            " [[   0    1  635]\n",
            " [   0    5 1229]\n",
            " [   0    1 3421]]\n",
            "accuracy score :  0.6473922902494331\n",
            "log loss:  0.8609534938703636\n",
            "LGBMClassifier\n",
            "confusion matrix:\n",
            " [[  11   70  555]\n",
            " [   5  184 1045]\n",
            " [   4   92 3326]]\n",
            "accuracy score :  0.6653439153439153\n",
            "log loss:  0.8193329423619288\n",
            "XGBClassifier\n",
            "confusion matrix:\n",
            " [[   2   30  604]\n",
            " [   2   82 1150]\n",
            " [   1   40 3381]]\n",
            "accuracy score :  0.6547619047619048\n",
            "log loss:  0.8475783965687633\n"
          ],
          "name": "stdout"
        }
      ]
    },
    {
      "cell_type": "markdown",
      "metadata": {
        "id": "-5Vb6QTOnWj7"
      },
      "source": [
        "## 상관계수 분석"
      ]
    },
    {
      "cell_type": "code",
      "metadata": {
        "colab": {
          "base_uri": "https://localhost:8080/",
          "height": 659
        },
        "id": "oHW3K2LXlYMl",
        "outputId": "8979a640-4298-4cf7-d744-461cec3088a3"
      },
      "source": [
        "import seaborn as sns\n",
        "\n",
        "plt.figure(figsize=(9,9))\n",
        "corr = train_scaled.corr()\n",
        "sns.heatmap(corr, cmap='RdBu')"
      ],
      "execution_count": null,
      "outputs": [
        {
          "output_type": "execute_result",
          "data": {
            "text/plain": [
              "<matplotlib.axes._subplots.AxesSubplot at 0x7f06989def50>"
            ]
          },
          "metadata": {
            "tags": []
          },
          "execution_count": 51
        },
        {
          "output_type": "display_data",
          "data": {
            "image/png": "[encoded data removed]",
            "text/plain": [
              "<Figure size 648x648 with 2 Axes>"
            ]
          },
          "metadata": {
            "tags": [],
            "needs_background": "light"
          }
        }
      ]
    },
    {
      "cell_type": "code",
      "metadata": {
        "id": "5Mrf9_Nqlei9"
      },
      "source": [
        "# family_type - Married, Separated, Single / Not Married, Widow\n",
        "# family num, child_num과 상관계수 높게 나타남. 중요도 떨어짐.\n",
        "train_scaled.drop(['Married', 'Separated', 'Single / not married', 'Widow'], axis=1, inplace=True)\n",
        "test_scaled.drop(['Married', 'Separated', 'Single / not married', 'Widow'], axis=1, inplace=True)"
      ],
      "execution_count": null,
      "outputs": []
    },
    {
      "cell_type": "code",
      "metadata": {
        "id": "IJLbmmXxl0u1"
      },
      "source": [
        "# family num과 상관계수 높게 나타남. 정보 포함됨\n",
        "train_scaled.drop('child_num', axis=1, inplace=True)\n",
        "test_scaled.drop('child_num', axis=1, inplace=True)"
      ],
      "execution_count": null,
      "outputs": []
    },
    {
      "cell_type": "markdown",
      "metadata": {
        "id": "aY5k9SJDnYeH"
      },
      "source": [
        "### logloss 체크"
      ]
    },
    {
      "cell_type": "code",
      "metadata": {
        "colab": {
          "base_uri": "https://localhost:8080/"
        },
        "id": "Nuhp9Vwsmsg3",
        "outputId": "722ac0ed-3952-4c64-aa87-daed1b6b4ce0"
      },
      "source": [
        "pca_log_loss(rf_clf, 10)\n",
        "pca_log_loss(lr_clf, 10)\n",
        "pca_log_loss(lgbm_clf, 10)\n",
        "pca_log_loss(xgb_clf, 10)"
      ],
      "execution_count": null,
      "outputs": [
        {
          "output_type": "stream",
          "text": [
            "RandomForestClassifier\n",
            "confusion matrix:\n",
            " [[ 115   94  427]\n",
            " [  42  394  798]\n",
            " [  93  299 3030]]\n",
            "accuracy score :  0.668745275888133\n",
            "log loss:  0.8710928879573197\n"
          ],
          "name": "stdout"
        },
        {
          "output_type": "stream",
          "text": [
            "/usr/local/lib/python3.7/dist-packages/sklearn/linear_model/_logistic.py:940: ConvergenceWarning: lbfgs failed to converge (status=1):\n",
            "STOP: TOTAL NO. of ITERATIONS REACHED LIMIT.\n",
            "\n",
            "Increase the number of iterations (max_iter) or scale the data as shown in:\n",
            "    https://scikit-learn.org/stable/modules/preprocessing.html\n",
            "Please also refer to the documentation for alternative solver options:\n",
            "    https://scikit-learn.org/stable/modules/linear_model.html#logistic-regression\n",
            "  extra_warning_msg=_LOGISTIC_SOLVER_CONVERGENCE_MSG)\n"
          ],
          "name": "stderr"
        },
        {
          "output_type": "stream",
          "text": [
            "LogisticRegression\n",
            "confusion matrix:\n",
            " [[   0    1  635]\n",
            " [   0    5 1229]\n",
            " [   0    1 3421]]\n",
            "accuracy score :  0.6473922902494331\n",
            "log loss:  0.8609534938703636\n",
            "LGBMClassifier\n",
            "confusion matrix:\n",
            " [[  11   70  555]\n",
            " [   5  184 1045]\n",
            " [   4   92 3326]]\n",
            "accuracy score :  0.6653439153439153\n",
            "log loss:  0.8193329423619288\n",
            "XGBClassifier\n",
            "confusion matrix:\n",
            " [[   2   30  604]\n",
            " [   2   82 1150]\n",
            " [   1   40 3381]]\n",
            "accuracy score :  0.6547619047619048\n",
            "log loss:  0.8475783965687633\n"
          ],
          "name": "stdout"
        }
      ]
    },
    {
      "cell_type": "markdown",
      "metadata": {
        "id": "sOzwul0soB37"
      },
      "source": [
        "# 전진 선택법\n",
        "\n",
        "https://blog.naver.com/962300/222292807454"
      ]
    },
    {
      "cell_type": "code",
      "metadata": {
        "colab": {
          "base_uri": "https://localhost:8080/"
        },
        "id": "dAHkILYInf0B",
        "outputId": "68563acb-bcda-4f1e-f431-f8af8b818ed0"
      },
      "source": [
        "from sklearn import preprocessing\n",
        "import time\n",
        "import itertools\n",
        "import statsmodels.api as sm\n",
        "print(__doc__)\n",
        "import matplotlib.pyplot as plt\n",
        "import numpy as np\n",
        "\n",
        "from sklearn.datasets import fetch_openml\n",
        "from sklearn.ensemble import RandomForestClassifier\n",
        "from sklearn.impute import SimpleImputer\n",
        "from sklearn.inspection import permutation_importance\n",
        "from sklearn.compose import ColumnTransformer\n",
        "from sklearn.model_selection import train_test_split\n",
        "from sklearn.pipeline import Pipeline\n",
        "from sklearn.preprocessing import OneHotEncoder"
      ],
      "execution_count": null,
      "outputs": [
        {
          "output_type": "stream",
          "text": [
            "Automatically created module for IPython interactive environment\n"
          ],
          "name": "stdout"
        }
      ]
    },
    {
      "cell_type": "code",
      "metadata": {
        "id": "ZvaZXFiMn9_2"
      },
      "source": [
        "# 변수선택을 통해 형성한 모델의 AIC를 구하는 함수\n",
        "# AIC가 낮을 수록 모델이 좋다고 평가된다.\n",
        "def processSubset(X,y,feature_set):\n",
        "    model = sm.OLS(y,X[list(feature_set)]) # Modeling\n",
        "    regr = model.fit() # model fitting\n",
        "    \n",
        "    AIC = regr.aic # model's AIC\n",
        "    return {\"model\" : regr, \"AIC\" : AIC}"
      ],
      "execution_count": null,
      "outputs": []
    },
    {
      "cell_type": "code",
      "metadata": {
        "id": "6RfvEBrjoN_g"
      },
      "source": [
        "# getBest : 가장 낮은 AIC를 가지는 모델을 선택하고 저장하는 함수\n",
        "\n",
        "def getBest(X,y,k):\n",
        "    tic = time.time()      # 시작 시간\n",
        "    results = []           # 결과 저장 공간\n",
        "    # for combo in itertools.combinations(X.columns.difference(['const'],k)):\n",
        "    for combo in itertools.combinations(X,k):\n",
        "\n",
        "\t\t# 각 변수 조합을 고려한 경우의수\n",
        "\n",
        "        # combo = (list(combo)+['const'])\n",
        "        combo = (list(combo))\n",
        "        # 상수항을 추가하여 combo를 결성\n",
        "        \n",
        "        results.append(processSubset(X,y,feature_set = combo)) # 모델링된것을 저장\n",
        "        \n",
        "        # 만약 k=2이면 여기서 두가지 변수만 뽑아서 경우의 수를 분석하여\n",
        "        # 저장 후 그 중 AIC가 가장 낮은 모델을 선택하도록 함\n",
        "\t\n",
        "    models = pd.DataFrame(results) # 데이터프레임으로 모델결과 변환\n",
        "    best_model = models.loc[models['AIC'].argmin()] # argmin은 최소값의 인덱스를 뽑는 함수\n",
        "    toc = time.time()       # 종료 시간\n",
        "    print(\"Processed\", models.shape[0], \"models on\", k, \"predictors in\",(toc - tic),\"seconds.\")\n",
        "    \n",
        "    return best_model"
      ],
      "execution_count": null,
      "outputs": []
    },
    {
      "cell_type": "code",
      "metadata": {
        "id": "7G-lw1uOpHYH"
      },
      "source": [
        "def forward(X, y, predictors):\n",
        "    # 데이터 변수들이 미리정의된 predictors에 있는지 없는지 확인 및 분류\n",
        "    remaining_predictors = [p for p in X.columns.difference(['const']) if p not in predictors]\n",
        "    tic = time.time()\n",
        "    results = []\n",
        "    for p in remaining_predictors:\n",
        "        results.append(processSubset(X=X, y= y, feature_set=predictors+[p]+['const']))\n",
        "    # 데이터프레임으로 변환\n",
        "    models = pd.DataFrame(results)\n",
        "\n",
        "    # AIC가 가장 낮은 것을 선택\n",
        "    best_model = models.loc[models['AIC'].argmin()] # index\n",
        "    toc = time.time()\n",
        "    print(\"Processed \", models.shape[0], \"models on\", len(predictors)+1, \"predictors in\", (toc-tic))\n",
        "    print('Selected predictors:',best_model['model'].model.exog_names,' AIC:',best_model[0] )\n",
        "    return best_model"
      ],
      "execution_count": null,
      "outputs": []
    },
    {
      "cell_type": "code",
      "metadata": {
        "id": "iOFtSIhwocvX"
      },
      "source": [
        "#### 전진선택법 모델\n",
        "def forward_model(X,y):\n",
        "    Fmodels = pd.DataFrame(columns=[\"AIC\", \"model\"])\n",
        "    tic = time.time()\n",
        "    # 미리 정의된 데이터 변수\n",
        "    predictors = []\n",
        "    # 변수 1~10개 : 0~9 -> 1~10\n",
        "    for i in range(1, len(X.columns.difference(['const'])) + 1):\n",
        "        Forward_result = forward(X=X,y=y,predictors=predictors)\n",
        "        if i > 1:\n",
        "            if Forward_result['AIC'] > Fmodel_before:\n",
        "                break\n",
        "        Fmodels.loc[i] = Forward_result\n",
        "        predictors = Fmodels.loc[i][\"model\"].model.exog_names\n",
        "        Fmodel_before = Fmodels.loc[i][\"AIC\"]\n",
        "        predictors = [ k for k in predictors if k != 'const']\n",
        "    toc = time.time()\n",
        "    print(\"Total elapsed time:\", (toc - tic), \"seconds.\")\n",
        "\n",
        "    return(Fmodels['model'][len(Fmodels['model'])])"
      ],
      "execution_count": null,
      "outputs": []
    },
    {
      "cell_type": "code",
      "metadata": {
        "id": "Trm5dp4wodv3"
      },
      "source": [
        "def forward_val(X, y):\n",
        "  Forward_best_model = forward_model(X=X, y=y)\n",
        "  print(Forward_best_model.summary())\n",
        "  print(Forward_best_model.aic)\n",
        "  return Forward_best_model"
      ],
      "execution_count": null,
      "outputs": []
    },
    {
      "cell_type": "code",
      "metadata": {
        "id": "8l-GpJA_oEX7"
      },
      "source": [
        "train_scaled['const'] = 0\n",
        "X_train_scaled, X_val_scaled, y_train_scaled, y_val_scaled = train_test_split(train_scaled, train_y,  test_size = 0.25)\n",
        "feature_columns = train_scaled.columns\n",
        "fitted_full_model = processSubset(X=train_scaled, y=train_y, feature_set = feature_columns)"
      ],
      "execution_count": null,
      "outputs": []
    },
    {
      "cell_type": "code",
      "metadata": {
        "colab": {
          "base_uri": "https://localhost:8080/"
        },
        "id": "WfhPLZoKoQiL",
        "outputId": "c2044240-2200-442f-c360-e738bb970398"
      },
      "source": [
        "# AIC 낮을수록 우수\n",
        "print(getBest(X=train_scaled, y = train_y, k=2))"
      ],
      "execution_count": null,
      "outputs": [
        {
          "output_type": "stream",
          "text": [
            "Processed 153 models on 2 predictors in 1.2652392387390137 seconds.\n",
            "model    <statsmodels.regression.linear_model.Regressio...\n",
            "AIC                                                56171.8\n",
            "Name: 67, dtype: object\n"
          ],
          "name": "stdout"
        }
      ]
    },
    {
      "cell_type": "code",
      "metadata": {
        "colab": {
          "base_uri": "https://localhost:8080/"
        },
        "id": "sADxWVdzoTw3",
        "outputId": "0765e9ea-31b8-4868-e935-5a027ff4733c"
      },
      "source": [
        "Forward_best_model = forward_val(train_scaled, train_y)"
      ],
      "execution_count": null,
      "outputs": [
        {
          "output_type": "stream",
          "text": [
            "Processed  17 models on 1 predictors in 0.11842608451843262\n",
            "Selected predictors: ['DAYS_BIRTH', 'const']  AIC: <statsmodels.regression.linear_model.RegressionResultsWrapper object at 0x7f067af5b5d0>\n",
            "Processed  16 models on 2 predictors in 0.14332175254821777\n",
            "Selected predictors: ['DAYS_BIRTH', 'begin_month', 'const']  AIC: <statsmodels.regression.linear_model.RegressionResultsWrapper object at 0x7f067af4d9d0>\n",
            "Processed  15 models on 3 predictors in 0.1628725528717041\n",
            "Selected predictors: ['DAYS_BIRTH', 'begin_month', 'income_total', 'const']  AIC: <statsmodels.regression.linear_model.RegressionResultsWrapper object at 0x7f067af4d4d0>\n",
            "Processed  14 models on 4 predictors in 0.21093273162841797\n",
            "Selected predictors: ['DAYS_BIRTH', 'begin_month', 'income_total', 'Pensioner', 'const']  AIC: <statsmodels.regression.linear_model.RegressionResultsWrapper object at 0x7f067af5b1d0>\n",
            "Processed  13 models on 5 predictors in 0.21482205390930176\n",
            "Selected predictors: ['DAYS_BIRTH', 'begin_month', 'income_total', 'Pensioner', 'family_size', 'const']  AIC: <statsmodels.regression.linear_model.RegressionResultsWrapper object at 0x7f067af3df90>\n",
            "Processed  12 models on 6 predictors in 0.23807311058044434\n",
            "Selected predictors: ['DAYS_BIRTH', 'begin_month', 'income_total', 'Pensioner', 'family_size', 'email', 'const']  AIC: <statsmodels.regression.linear_model.RegressionResultsWrapper object at 0x7f067af5b3d0>\n",
            "Processed  11 models on 7 predictors in 0.22529935836791992\n",
            "Selected predictors: ['DAYS_BIRTH', 'begin_month', 'income_total', 'Pensioner', 'family_size', 'email', 'reality', 'const']  AIC: <statsmodels.regression.linear_model.RegressionResultsWrapper object at 0x7f067af3d250>\n",
            "Processed  10 models on 8 predictors in 0.22913241386413574\n",
            "Selected predictors: ['DAYS_BIRTH', 'begin_month', 'income_total', 'Pensioner', 'family_size', 'email', 'reality', 'Civil marriage', 'const']  AIC: <statsmodels.regression.linear_model.RegressionResultsWrapper object at 0x7f067af3de90>\n",
            "Processed  9 models on 9 predictors in 0.2611384391784668\n",
            "Selected predictors: ['DAYS_BIRTH', 'begin_month', 'income_total', 'Pensioner', 'family_size', 'email', 'reality', 'Civil marriage', 'Commercial associate', 'const']  AIC: <statsmodels.regression.linear_model.RegressionResultsWrapper object at 0x7f067af5bb50>\n",
            "Processed  8 models on 10 predictors in 0.23074650764465332\n",
            "Selected predictors: ['DAYS_BIRTH', 'begin_month', 'income_total', 'Pensioner', 'family_size', 'email', 'reality', 'Civil marriage', 'Commercial associate', 'Working', 'const']  AIC: <statsmodels.regression.linear_model.RegressionResultsWrapper object at 0x7f067afa4dd0>\n",
            "Processed  7 models on 11 predictors in 0.2408127784729004\n",
            "Selected predictors: ['DAYS_BIRTH', 'begin_month', 'income_total', 'Pensioner', 'family_size', 'email', 'reality', 'Civil marriage', 'Commercial associate', 'Working', 'State servant', 'const']  AIC: <statsmodels.regression.linear_model.RegressionResultsWrapper object at 0x7f067afa43d0>\n",
            "Processed  6 models on 12 predictors in 0.2105576992034912\n",
            "Selected predictors: ['DAYS_BIRTH', 'begin_month', 'income_total', 'Pensioner', 'family_size', 'email', 'reality', 'Civil marriage', 'Commercial associate', 'Working', 'State servant', 'edu_type_num', 'const']  AIC: <statsmodels.regression.linear_model.RegressionResultsWrapper object at 0x7f067af94350>\n",
            "Processed  5 models on 13 predictors in 0.19986486434936523\n",
            "Selected predictors: ['DAYS_BIRTH', 'begin_month', 'income_total', 'Pensioner', 'family_size', 'email', 'reality', 'Civil marriage', 'Commercial associate', 'Working', 'State servant', 'edu_type_num', 'DAYS_EMPLOYED', 'const']  AIC: <statsmodels.regression.linear_model.RegressionResultsWrapper object at 0x7f067c8b52d0>\n",
            "Total elapsed time: 2.799879312515259 seconds.\n",
            "                                 OLS Regression Results                                \n",
            "=======================================================================================\n",
            "Dep. Variable:                 credit   R-squared (uncentered):                   0.828\n",
            "Model:                            OLS   Adj. R-squared (uncentered):              0.828\n",
            "Method:                 Least Squares   F-statistic:                          1.061e+04\n",
            "Date:                Wed, 02 Jun 2021   Prob (F-statistic):                        0.00\n",
            "Time:                        06:30:30   Log-Likelihood:                         -27884.\n",
            "No. Observations:               26457   AIC:                                  5.579e+04\n",
            "Df Residuals:                   26445   BIC:                                  5.589e+04\n",
            "Df Model:                          12                                                  \n",
            "Covariance Type:            nonrobust                                                  \n",
            "========================================================================================\n",
            "                           coef    std err          t      P>|t|      [0.025      0.975]\n",
            "----------------------------------------------------------------------------------------\n",
            "DAYS_BIRTH               0.1037      0.019      5.338      0.000       0.066       0.142\n",
            "begin_month              0.0614      0.003     23.698      0.000       0.056       0.066\n",
            "income_total             0.0085      0.009      0.909      0.363      -0.010       0.027\n",
            "Pensioner                0.9582      0.091     10.528      0.000       0.780       1.137\n",
            "family_size              0.0106      0.005      2.182      0.029       0.001       0.020\n",
            "email                    0.0482      0.015      3.207      0.001       0.019       0.078\n",
            "reality                 -0.0192      0.009     -2.085      0.037      -0.037      -0.001\n",
            "Civil marriage          -0.0442      0.016     -2.796      0.005      -0.075      -0.013\n",
            "Commercial associate     1.0056      0.087     11.594      0.000       0.836       1.176\n",
            "Working                  0.9875      0.086     11.497      0.000       0.819       1.156\n",
            "State servant            0.9933      0.088     11.292      0.000       0.821       1.166\n",
            "edu_type_num            -0.0227      0.008     -2.880      0.004      -0.038      -0.007\n",
            "const                         0          0        nan        nan           0           0\n",
            "==============================================================================\n",
            "Omnibus:                     3771.968   Durbin-Watson:                   1.983\n",
            "Prob(Omnibus):                  0.000   Jarque-Bera (JB):             5680.620\n",
            "Skew:                          -1.135   Prob(JB):                         0.00\n",
            "Kurtosis:                       3.029   Cond. No.                          inf\n",
            "==============================================================================\n",
            "\n",
            "Warnings:\n",
            "[1] Standard Errors assume that the covariance matrix of the errors is correctly specified.\n",
            "[2] The smallest eigenvalue is      0. This might indicate that there are\n",
            "strong multicollinearity problems or that the design matrix is singular.\n",
            "55791.95663445856\n"
          ],
          "name": "stdout"
        },
        {
          "output_type": "stream",
          "text": [
            "/usr/local/lib/python3.7/dist-packages/statsmodels/regression/linear_model.py:1755: RuntimeWarning: divide by zero encountered in double_scalars\n",
            "  return np.sqrt(eigvals[0]/eigvals[-1])\n",
            "/usr/local/lib/python3.7/dist-packages/statsmodels/base/model.py:1294: RuntimeWarning: invalid value encountered in true_divide\n",
            "  return self.params / self.bse\n"
          ],
          "name": "stderr"
        }
      ]
    },
    {
      "cell_type": "code",
      "metadata": {
        "colab": {
          "base_uri": "https://localhost:8080/"
        },
        "id": "nU1hnJuIoiBc",
        "outputId": "e328f907-2eb2-4f08-943a-a828ed107f84"
      },
      "source": [
        "Forward_best_model.aic"
      ],
      "execution_count": null,
      "outputs": [
        {
          "output_type": "execute_result",
          "data": {
            "text/plain": [
              "55791.95663445856"
            ]
          },
          "metadata": {
            "tags": []
          },
          "execution_count": 64
        }
      ]
    },
    {
      "cell_type": "code",
      "metadata": {
        "id": "aGDTTz1OCoZd"
      },
      "source": [
        "train_scaled.drop('const', axis=1, inplace=True)"
      ],
      "execution_count": null,
      "outputs": []
    },
    {
      "cell_type": "code",
      "metadata": {
        "id": "MEpZ0Fro1hVp"
      },
      "source": [
        "# logloss 출력\n",
        "def model_func(data_X, data_y, model, test_size=0.2):\n",
        "  X_train, X_val, y_train, y_val = train_test_split(data_X, data_y,\n",
        "                 stratify = train_y, \n",
        "                 test_size = 0.2\n",
        "                 )\n",
        "  model.fit(X_train, y_train)\n",
        "\n",
        "  y_proba = model.predict_proba(X_val)\n",
        "  y_val_onehot = pd.get_dummies(y_val)\n",
        "\n",
        "  print(log_loss(y_val_onehot, y_proba))"
      ],
      "execution_count": null,
      "outputs": []
    },
    {
      "cell_type": "code",
      "metadata": {
        "id": "E_cdTfHbsy8n"
      },
      "source": [
        "from sklearn.model_selection import KFold, StratifiedKFold\n",
        "\n",
        "def run_kfold(clf, train_data, train_y, test_scaled):\n",
        "\n",
        "    folds=StratifiedKFold(n_splits=5, shuffle=True)\n",
        "    outcomes=[]\n",
        "    sub=np.zeros((test_scaled.shape[0], 3))  \n",
        "\n",
        "    for n_fold, (train_index, val_index) in enumerate(folds.split(train_data, train_y)):\n",
        "        X_train, X_val = train_data.iloc[train_index], train_data.iloc[val_index]\n",
        "        y_train, y_val = train_y.iloc[train_index], train_y.iloc[val_index]\n",
        "\n",
        "        clf.fit(X_train, y_train)\n",
        "        \n",
        "        predictions=clf.predict_proba(X_val)\n",
        "\n",
        "        logloss=log_loss(y_val, predictions)\n",
        "        outcomes.append(logloss)\n",
        "        print(f\"FOLD {n_fold} : logloss:{logloss}\")\n",
        "        \n",
        "        sub+=clf.predict_proba(test_scaled)\n",
        "        \n",
        "    mean_outcome=np.mean(outcomes)\n",
        "    \n",
        "    print(\"clf : {0}, Mean:{1}\".format(clf.__class__.__name__, mean_outcome))\n",
        "    return sub/folds.n_splits"
      ],
      "execution_count": null,
      "outputs": []
    },
    {
      "cell_type": "code",
      "metadata": {
        "id": "9iMgToOhw4lB"
      },
      "source": [
        "selc_features = ['DAYS_BIRTH', 'begin_month', 'income_total', 'Pensioner', 'family_size', 'email', 'reality', 'Civil marriage', 'Commercial associate', 'Working', 'State servant', 'edu_type_num', 'DAYS_EMPLOYED']"
      ],
      "execution_count": null,
      "outputs": []
    },
    {
      "cell_type": "code",
      "metadata": {
        "id": "mSJZs-RNyUbH"
      },
      "source": [
        "rf_clf = RandomForestClassifier()\n",
        "lr_clf = LogisticRegression()\n",
        "lgbm_clf = LGBMClassifier(n_jobs = -1)\n",
        "xgb_clf = XGBClassifier(n_jobs = -1)"
      ],
      "execution_count": null,
      "outputs": []
    },
    {
      "cell_type": "code",
      "metadata": {
        "colab": {
          "base_uri": "https://localhost:8080/"
        },
        "id": "S_fmq56wyIye",
        "outputId": "ed18ccfb-ee22-4f07-f1aa-43eb84c4dbae"
      },
      "source": [
        "run_kfold(rf_clf, train_scaled[selc_features], train_y, test_scaled[selc_features])\n",
        "run_kfold(lr_clf, train_scaled[selc_features], train_y, test_scaled[selc_features])\n",
        "run_kfold(lgbm_clf, train_scaled[selc_features], train_y, test_scaled[selc_features])\n",
        "run_kfold(xgb_clf, train_scaled[selc_features], train_y, test_scaled[selc_features])"
      ],
      "execution_count": null,
      "outputs": [
        {
          "output_type": "stream",
          "text": [
            "FOLD 0 : logloss:0.9003213370979791\n",
            "FOLD 1 : logloss:0.9096934827194613\n",
            "FOLD 2 : logloss:0.9137046532919191\n",
            "FOLD 3 : logloss:0.9040112723745318\n",
            "FOLD 4 : logloss:0.9276746980160454\n",
            "clf : RandomForestClassifier, Mean:0.9110810886999874\n"
          ],
          "name": "stdout"
        },
        {
          "output_type": "stream",
          "text": [
            "/usr/local/lib/python3.7/dist-packages/sklearn/linear_model/_logistic.py:940: ConvergenceWarning: lbfgs failed to converge (status=1):\n",
            "STOP: TOTAL NO. of ITERATIONS REACHED LIMIT.\n",
            "\n",
            "Increase the number of iterations (max_iter) or scale the data as shown in:\n",
            "    https://scikit-learn.org/stable/modules/preprocessing.html\n",
            "Please also refer to the documentation for alternative solver options:\n",
            "    https://scikit-learn.org/stable/modules/linear_model.html#logistic-regression\n",
            "  extra_warning_msg=_LOGISTIC_SOLVER_CONVERGENCE_MSG)\n"
          ],
          "name": "stderr"
        },
        {
          "output_type": "stream",
          "text": [
            "FOLD 0 : logloss:0.8639265826434266\n"
          ],
          "name": "stdout"
        },
        {
          "output_type": "stream",
          "text": [
            "/usr/local/lib/python3.7/dist-packages/sklearn/linear_model/_logistic.py:940: ConvergenceWarning: lbfgs failed to converge (status=1):\n",
            "STOP: TOTAL NO. of ITERATIONS REACHED LIMIT.\n",
            "\n",
            "Increase the number of iterations (max_iter) or scale the data as shown in:\n",
            "    https://scikit-learn.org/stable/modules/preprocessing.html\n",
            "Please also refer to the documentation for alternative solver options:\n",
            "    https://scikit-learn.org/stable/modules/linear_model.html#logistic-regression\n",
            "  extra_warning_msg=_LOGISTIC_SOLVER_CONVERGENCE_MSG)\n"
          ],
          "name": "stderr"
        },
        {
          "output_type": "stream",
          "text": [
            "FOLD 1 : logloss:0.8636071102939776\n"
          ],
          "name": "stdout"
        },
        {
          "output_type": "stream",
          "text": [
            "/usr/local/lib/python3.7/dist-packages/sklearn/linear_model/_logistic.py:940: ConvergenceWarning: lbfgs failed to converge (status=1):\n",
            "STOP: TOTAL NO. of ITERATIONS REACHED LIMIT.\n",
            "\n",
            "Increase the number of iterations (max_iter) or scale the data as shown in:\n",
            "    https://scikit-learn.org/stable/modules/preprocessing.html\n",
            "Please also refer to the documentation for alternative solver options:\n",
            "    https://scikit-learn.org/stable/modules/linear_model.html#logistic-regression\n",
            "  extra_warning_msg=_LOGISTIC_SOLVER_CONVERGENCE_MSG)\n"
          ],
          "name": "stderr"
        },
        {
          "output_type": "stream",
          "text": [
            "FOLD 2 : logloss:0.8641467450758109\n"
          ],
          "name": "stdout"
        },
        {
          "output_type": "stream",
          "text": [
            "/usr/local/lib/python3.7/dist-packages/sklearn/linear_model/_logistic.py:940: ConvergenceWarning: lbfgs failed to converge (status=1):\n",
            "STOP: TOTAL NO. of ITERATIONS REACHED LIMIT.\n",
            "\n",
            "Increase the number of iterations (max_iter) or scale the data as shown in:\n",
            "    https://scikit-learn.org/stable/modules/preprocessing.html\n",
            "Please also refer to the documentation for alternative solver options:\n",
            "    https://scikit-learn.org/stable/modules/linear_model.html#logistic-regression\n",
            "  extra_warning_msg=_LOGISTIC_SOLVER_CONVERGENCE_MSG)\n"
          ],
          "name": "stderr"
        },
        {
          "output_type": "stream",
          "text": [
            "FOLD 3 : logloss:0.8598189372237858\n"
          ],
          "name": "stdout"
        },
        {
          "output_type": "stream",
          "text": [
            "/usr/local/lib/python3.7/dist-packages/sklearn/linear_model/_logistic.py:940: ConvergenceWarning: lbfgs failed to converge (status=1):\n",
            "STOP: TOTAL NO. of ITERATIONS REACHED LIMIT.\n",
            "\n",
            "Increase the number of iterations (max_iter) or scale the data as shown in:\n",
            "    https://scikit-learn.org/stable/modules/preprocessing.html\n",
            "Please also refer to the documentation for alternative solver options:\n",
            "    https://scikit-learn.org/stable/modules/linear_model.html#logistic-regression\n",
            "  extra_warning_msg=_LOGISTIC_SOLVER_CONVERGENCE_MSG)\n"
          ],
          "name": "stderr"
        },
        {
          "output_type": "stream",
          "text": [
            "FOLD 4 : logloss:0.8612438602446134\n",
            "clf : LogisticRegression, Mean:0.862548647096323\n",
            "FOLD 0 : logloss:0.7707796441907835\n",
            "FOLD 1 : logloss:0.7761838807776781\n",
            "FOLD 2 : logloss:0.7745460718245687\n",
            "FOLD 3 : logloss:0.7721779850397261\n",
            "FOLD 4 : logloss:0.7767754305351959\n",
            "clf : LGBMClassifier, Mean:0.7740926024735904\n",
            "FOLD 0 : logloss:0.8052450459047825\n",
            "FOLD 1 : logloss:0.7899598890446684\n",
            "FOLD 2 : logloss:0.8070066155659141\n",
            "FOLD 3 : logloss:0.792540367089312\n",
            "FOLD 4 : logloss:0.8018831053695569\n",
            "clf : XGBClassifier, Mean:0.7993270045948468\n"
          ],
          "name": "stdout"
        },
        {
          "output_type": "execute_result",
          "data": {
            "text/plain": [
              "array([[0.10410971, 0.15975572, 0.73613458],\n",
              "       [0.11108175, 0.18349958, 0.70541866],\n",
              "       [0.11345179, 0.18217993, 0.70436827],\n",
              "       ...,\n",
              "       [0.09225013, 0.1531383 , 0.75461156],\n",
              "       [0.09144923, 0.17127306, 0.7372777 ],\n",
              "       [0.11111215, 0.22312209, 0.66576575]])"
            ]
          },
          "metadata": {
            "tags": []
          },
          "execution_count": 70
        }
      ]
    },
    {
      "cell_type": "markdown",
      "metadata": {
        "id": "tvGEF0nk4onH"
      },
      "source": [
        "LGBM, XGB가 우수한 성능을 보임"
      ]
    },
    {
      "cell_type": "markdown",
      "metadata": {
        "id": "HSWvBOQb5E5L"
      },
      "source": [
        "## lgbm 시각화"
      ]
    },
    {
      "cell_type": "code",
      "metadata": {
        "id": "S_snwgDJ0xMw",
        "colab": {
          "base_uri": "https://localhost:8080/",
          "height": 284
        },
        "outputId": "e1eba585-bfed-4a08-827a-d6e67515baaa"
      },
      "source": [
        "plt.barh(np.arange(train_scaled[selc_features].shape[1]), lgbm_clf.feature_importances_, align='center')\n",
        "plt.yticks(np.arange(train_scaled[selc_features].shape[1]), train_scaled[selc_features].columns)\n",
        "plt.ylim(-1, train_scaled[selc_features].shape[1])\n",
        "plt.xlabel('feature importance', size=15)\n",
        "plt.ylabel('feature', size=15)\n",
        "plt.show()"
      ],
      "execution_count": null,
      "outputs": [
        {
          "output_type": "display_data",
          "data": {
            "image/png": "[encoded data removed]",
            "text/plain": [
              "<Figure size 432x288 with 1 Axes>"
            ]
          },
          "metadata": {
            "tags": [],
            "needs_background": "light"
          }
        }
      ]
    },
    {
      "cell_type": "markdown",
      "metadata": {
        "id": "YkKc_kIA5uGy"
      },
      "source": [
        "연속형 변수 네개에 영향을 매우 많이 받음."
      ]
    },
    {
      "cell_type": "markdown",
      "metadata": {
        "id": "oA2i3u8R5XoO"
      },
      "source": [
        "## xgb 시각화"
      ]
    },
    {
      "cell_type": "code",
      "metadata": {
        "colab": {
          "base_uri": "https://localhost:8080/",
          "height": 284
        },
        "id": "eUYE0v6i5OhL",
        "outputId": "fd743446-a5fd-438f-868b-e5ab49b6f08c"
      },
      "source": [
        "plt.barh(np.arange(train_scaled[selc_features].shape[1]), xgb_clf.feature_importances_, align='center')\n",
        "plt.yticks(np.arange(train_scaled[selc_features].shape[1]), train_scaled[selc_features].columns)\n",
        "plt.ylim(-1, train_scaled[selc_features].shape[1])\n",
        "plt.xlabel('feature importance', size=15)\n",
        "plt.ylabel('feature', size=15)\n",
        "plt.show()"
      ],
      "execution_count": null,
      "outputs": [
        {
          "output_type": "display_data",
          "data": {
            "image/png": "[encoded data removed]",
            "text/plain": [
              "<Figure size 432x288 with 1 Axes>"
            ]
          },
          "metadata": {
            "tags": [],
            "needs_background": "light"
          }
        }
      ]
    },
    {
      "cell_type": "markdown",
      "metadata": {
        "id": "8KnP2D-35z0S"
      },
      "source": [
        "begin_month의 영향을 매우 많이 받음."
      ]
    },
    {
      "cell_type": "code",
      "metadata": {
        "id": "X_RJyuxd6Umu"
      },
      "source": [
        "train_scaled_new = train_scaled[selc_features].drop(['State servant', 'Working'], axis=1)\n",
        "test_scaled_new = test_scaled[selc_features].drop(['State servant', 'Working'], axis=1)"
      ],
      "execution_count": null,
      "outputs": []
    },
    {
      "cell_type": "markdown",
      "metadata": {
        "id": "SAv4CPweocnx"
      },
      "source": [
        "# 타겟 개수 확인"
      ]
    },
    {
      "cell_type": "code",
      "metadata": {
        "id": "i7exdFv-oe2E"
      },
      "source": [
        "# target 확인\n",
        "def target_distrib(df):\n",
        "  print('target_0 : ', df[df['0']>0.5].count())\n",
        "  print('target_1 : ', df[df['1']>0.5].count())\n",
        "  print('target_2 : ', df[df['2']>0.5].count())"
      ],
      "execution_count": null,
      "outputs": []
    },
    {
      "cell_type": "markdown",
      "metadata": {
        "id": "-HOnZCIkoUaB"
      },
      "source": [
        "# 제출함수"
      ]
    },
    {
      "cell_type": "code",
      "metadata": {
        "id": "NdmQcBV6oXNQ"
      },
      "source": [
        "def Submission(data):\n",
        "  submission_file = sample_submission.copy()\n",
        "  submission_file.loc[:,1:] = data\n",
        "  submission_file.to_csv('/content/gdrive/My Drive/Colab Notebooks/credit/submission_new.csv', index=False)\n",
        "  return submission_file"
      ],
      "execution_count": null,
      "outputs": []
    },
    {
      "cell_type": "markdown",
      "metadata": {
        "id": "WBrW1XMn54jX"
      },
      "source": [
        "# 파라미터 최적화"
      ]
    },
    {
      "cell_type": "markdown",
      "metadata": {
        "id": "-SoiaMRKjE52"
      },
      "source": [
        "## optuna, 함수 선언"
      ]
    },
    {
      "cell_type": "code",
      "metadata": {
        "colab": {
          "base_uri": "https://localhost:8080/"
        },
        "id": "5OlV8J6K6K_b",
        "outputId": "0c11a485-d7a0-4496-c8c4-f3cbf5adbdc5"
      },
      "source": [
        "# colab 새로 열때마다 실행해야함\n",
        "!pip install optuna"
      ],
      "execution_count": null,
      "outputs": [
        {
          "output_type": "stream",
          "text": [
            "Requirement already satisfied: optuna in /usr/local/lib/python3.7/dist-packages (2.7.0)\n",
            "Requirement already satisfied: scipy!=1.4.0 in /usr/local/lib/python3.7/dist-packages (from optuna) (1.4.1)\n",
            "Requirement already satisfied: numpy in /usr/local/lib/python3.7/dist-packages (from optuna) (1.19.5)\n",
            "Requirement already satisfied: cmaes>=0.8.2 in /usr/local/lib/python3.7/dist-packages (from optuna) (0.8.2)\n",
            "Requirement already satisfied: tqdm in /usr/local/lib/python3.7/dist-packages (from optuna) (4.41.1)\n",
            "Requirement already satisfied: colorlog in /usr/local/lib/python3.7/dist-packages (from optuna) (5.0.1)\n",
            "Requirement already satisfied: cliff in /usr/local/lib/python3.7/dist-packages (from optuna) (3.8.0)\n",
            "Requirement already satisfied: packaging>=20.0 in /usr/local/lib/python3.7/dist-packages (from optuna) (20.9)\n",
            "Requirement already satisfied: sqlalchemy>=1.1.0 in /usr/local/lib/python3.7/dist-packages (from optuna) (1.4.15)\n",
            "Requirement already satisfied: alembic in /usr/local/lib/python3.7/dist-packages (from optuna) (1.6.5)\n",
            "Requirement already satisfied: pyparsing>=2.1.0 in /usr/local/lib/python3.7/dist-packages (from cliff->optuna) (2.4.7)\n",
            "Requirement already satisfied: pbr!=2.1.0,>=2.0.0 in /usr/local/lib/python3.7/dist-packages (from cliff->optuna) (5.6.0)\n",
            "Requirement already satisfied: PrettyTable>=0.7.2 in /usr/local/lib/python3.7/dist-packages (from cliff->optuna) (2.1.0)\n",
            "Requirement already satisfied: PyYAML>=3.12 in /usr/local/lib/python3.7/dist-packages (from cliff->optuna) (3.13)\n",
            "Requirement already satisfied: stevedore>=2.0.1 in /usr/local/lib/python3.7/dist-packages (from cliff->optuna) (3.3.0)\n",
            "Requirement already satisfied: cmd2>=1.0.0 in /usr/local/lib/python3.7/dist-packages (from cliff->optuna) (1.5.0)\n",
            "Requirement already satisfied: importlib-metadata; python_version < \"3.8\" in /usr/local/lib/python3.7/dist-packages (from sqlalchemy>=1.1.0->optuna) (4.0.1)\n",
            "Requirement already satisfied: greenlet!=0.4.17; python_version >= \"3\" in /usr/local/lib/python3.7/dist-packages (from sqlalchemy>=1.1.0->optuna) (1.1.0)\n",
            "Requirement already satisfied: Mako in /usr/local/lib/python3.7/dist-packages (from alembic->optuna) (1.1.4)\n",
            "Requirement already satisfied: python-dateutil in /usr/local/lib/python3.7/dist-packages (from alembic->optuna) (2.8.1)\n",
            "Requirement already satisfied: python-editor>=0.3 in /usr/local/lib/python3.7/dist-packages (from alembic->optuna) (1.0.4)\n",
            "Requirement already satisfied: wcwidth in /usr/local/lib/python3.7/dist-packages (from PrettyTable>=0.7.2->cliff->optuna) (0.2.5)\n",
            "Requirement already satisfied: pyperclip>=1.6 in /usr/local/lib/python3.7/dist-packages (from cmd2>=1.0.0->cliff->optuna) (1.8.2)\n",
            "Requirement already satisfied: colorama>=0.3.7 in /usr/local/lib/python3.7/dist-packages (from cmd2>=1.0.0->cliff->optuna) (0.4.4)\n",
            "Requirement already satisfied: attrs>=16.3.0 in /usr/local/lib/python3.7/dist-packages (from cmd2>=1.0.0->cliff->optuna) (21.2.0)\n",
            "Requirement already satisfied: typing-extensions>=3.6.4; python_version < \"3.8\" in /usr/local/lib/python3.7/dist-packages (from importlib-metadata; python_version < \"3.8\"->sqlalchemy>=1.1.0->optuna) (3.7.4.3)\n",
            "Requirement already satisfied: zipp>=0.5 in /usr/local/lib/python3.7/dist-packages (from importlib-metadata; python_version < \"3.8\"->sqlalchemy>=1.1.0->optuna) (3.4.1)\n",
            "Requirement already satisfied: MarkupSafe>=0.9.2 in /usr/local/lib/python3.7/dist-packages (from Mako->alembic->optuna) (2.0.1)\n",
            "Requirement already satisfied: six>=1.5 in /usr/local/lib/python3.7/dist-packages (from python-dateutil->alembic->optuna) (1.15.0)\n"
          ],
          "name": "stdout"
        }
      ]
    },
    {
      "cell_type": "code",
      "metadata": {
        "id": "lItv4JOa6NbM"
      },
      "source": [
        "import optuna\n",
        "from optuna import Trial\n",
        "from optuna.samplers import TPESampler"
      ],
      "execution_count": null,
      "outputs": []
    },
    {
      "cell_type": "code",
      "metadata": {
        "id": "IHCSXS4FJI1k"
      },
      "source": [
        "X = pd.get_dummies(train_X)\n",
        "X_test = pd.get_dummies(test_X)\n",
        "y = train_y"
      ],
      "execution_count": null,
      "outputs": []
    },
    {
      "cell_type": "code",
      "metadata": {
        "id": "2p1EVece6mT_"
      },
      "source": [
        "def lgbm(trial: Trial) -> float:\n",
        "    params_lgb = {\n",
        "        \"verbosity\": -1,\n",
        "        \"learning_rate\": trial.suggest_float(\"learning_rate\", 0.01, 0.1),\n",
        "        \"n_estimators\": 10000,\n",
        "        \"objective\": \"multiclass\",\n",
        "        \"metric\": \"multi_logloss\",\n",
        "        \"reg_alpha\": trial.suggest_float(\"reg_alpha\", 1e-8, 3e-5),\n",
        "        \"reg_lambda\": trial.suggest_float(\"reg_lambda\", 1e-8, 9e-2),\n",
        "        \"max_depth\": trial.suggest_int(\"max_depth\", 1, 20),\n",
        "        \"num_leaves\": trial.suggest_int(\"num_leaves\", 2, 256),\n",
        "        \"colsample_bytree\": trial.suggest_float(\"colsample_bytree\", 0.4, 1.0),\n",
        "        \"subsample\": trial.suggest_float(\"subsample\", 0.3, 1.0),\n",
        "        \"subsample_freq\": trial.suggest_int(\"subsample_freq\", 1, 10),\n",
        "        \"min_child_samples\": trial.suggest_int(\"min_child_samples\", 5, 100),\n",
        "        \"max_bin\": trial.suggest_int(\"max_bin\", 200, 500),\n",
        "    }\n",
        "    \n",
        "    X_train, X_valid, y_train, y_valid = train_test_split(X, y, test_size=0.2)\n",
        "\n",
        "    model = LGBMClassifier(**params_lgb)\n",
        "    model.fit(\n",
        "        X_train,\n",
        "        y_train,\n",
        "        eval_set=[(X_train, y_train), (X_valid, y_valid)],\n",
        "        early_stopping_rounds=100,\n",
        "        verbose=False,\n",
        "    )\n",
        "\n",
        "    lgb_pred = model.predict_proba(X_valid)\n",
        "    log_score = log_loss(y_valid, lgb_pred)\n",
        "    \n",
        "    return log_score"
      ],
      "execution_count": null,
      "outputs": []
    },
    {
      "cell_type": "code",
      "metadata": {
        "id": "wsA8ccPu6sDP"
      },
      "source": [
        "def xgb(trial: Trial) -> float:\n",
        "    params_xgb = {\n",
        "        \"learning_rate\": trial.suggest_float(\"learning_rate\", 0.01, 0.1),\n",
        "        \"n_estimators\": 10000,\n",
        "        \"objective\": \"multiclass\",\n",
        "        \"metric\": \"multi_logloss\",\n",
        "        \"reg_alpha\": trial.suggest_float(\"reg_alpha\", 1e-8, 3e-5),\n",
        "        \"reg_lambda\": trial.suggest_float(\"reg_lambda\", 1e-8, 9e-2),\n",
        "        \"max_depth\": trial.suggest_int(\"max_depth\", 1, 20),\n",
        "        \"num_leaves\": trial.suggest_int(\"num_leaves\", 2, 256),\n",
        "        \"colsample_bytree\": trial.suggest_float(\"colsample_bytree\", 0.4, 1.0),\n",
        "        \"subsample\": trial.suggest_float(\"subsample\", 0.3, 1.0),\n",
        "        \"subsample_freq\": trial.suggest_int(\"subsample_freq\", 1, 10),\n",
        "        \"min_child_samples\": trial.suggest_int(\"min_child_samples\", 5, 100),\n",
        "        \"max_bin\": trial.suggest_int(\"max_bin\", 200, 500),\n",
        "    }\n",
        "    \n",
        "    X_train, X_valid, y_train, y_valid = train_test_split(X, y, test_size=0.2)\n",
        "\n",
        "    model = XGBClassifier(**params_xgb)\n",
        "    model.fit(\n",
        "        X_train,\n",
        "        y_train,\n",
        "        eval_set=[(X_train, y_train), (X_valid, y_valid)],\n",
        "        early_stopping_rounds=100,\n",
        "        verbose=False,\n",
        "    )\n",
        "\n",
        "    xgb_pred = model.predict_proba(X_valid)\n",
        "    log_score = log_loss(y_valid, xgb_pred)\n",
        "    \n",
        "    return log_score"
      ],
      "execution_count": null,
      "outputs": []
    },
    {
      "cell_type": "markdown",
      "metadata": {
        "id": "Wu_Bxs4kjIkd"
      },
      "source": [
        "## train_X"
      ]
    },
    {
      "cell_type": "code",
      "metadata": {
        "colab": {
          "base_uri": "https://localhost:8080/"
        },
        "id": "exxA7ULP6nvK",
        "outputId": "fd0f6e19-0800-4495-a0cc-c59aff77700e"
      },
      "source": [
        "sampler = TPESampler()\n",
        "study_1 = optuna.create_study(\n",
        "    study_name=\"lgbm_parameter_opt\",\n",
        "    direction=\"minimize\",\n",
        "    sampler=sampler,\n",
        ")\n",
        "study_1.optimize(lgbm, n_trials=15)\n",
        "print(\"Best Score:\", study_1.best_value)\n",
        "print(\"Best trial:\", study_1.best_trial.params)"
      ],
      "execution_count": null,
      "outputs": [
        {
          "output_type": "stream",
          "text": [
            "\u001b[32m[I 2021-06-02 07:35:31,703]\u001b[0m A new study created in memory with name: lgbm_parameter_opt\u001b[0m\n",
            "\u001b[32m[I 2021-06-02 07:35:45,207]\u001b[0m Trial 0 finished with value: 0.7642623003592702 and parameters: {'learning_rate': 0.06541577464385229, 'reg_alpha': 1.1596476792984697e-05, 'reg_lambda': 0.04918222861117641, 'max_depth': 4, 'num_leaves': 139, 'colsample_bytree': 0.4456386923510978, 'subsample': 0.3811430900898158, 'subsample_freq': 2, 'min_child_samples': 44, 'max_bin': 340}. Best is trial 0 with value: 0.7642623003592702.\u001b[0m\n",
            "\u001b[32m[I 2021-06-02 07:36:02,599]\u001b[0m Trial 1 finished with value: 0.7295132953198206 and parameters: {'learning_rate': 0.07487174070493187, 'reg_alpha': 2.2206698975839614e-05, 'reg_lambda': 0.0550777495681372, 'max_depth': 5, 'num_leaves': 87, 'colsample_bytree': 0.7059737740780426, 'subsample': 0.96416952935545, 'subsample_freq': 5, 'min_child_samples': 18, 'max_bin': 427}. Best is trial 1 with value: 0.7295132953198206.\u001b[0m\n",
            "\u001b[32m[I 2021-06-02 07:36:27,427]\u001b[0m Trial 2 finished with value: 0.749541030455703 and parameters: {'learning_rate': 0.0444724618870602, 'reg_alpha': 1.4877318650532564e-05, 'reg_lambda': 0.07561480316444617, 'max_depth': 9, 'num_leaves': 114, 'colsample_bytree': 0.5375817335446768, 'subsample': 0.6629430335865346, 'subsample_freq': 6, 'min_child_samples': 88, 'max_bin': 406}. Best is trial 1 with value: 0.7295132953198206.\u001b[0m\n",
            "\u001b[32m[I 2021-06-02 07:36:46,705]\u001b[0m Trial 3 finished with value: 0.7784377375701063 and parameters: {'learning_rate': 0.03980311340119486, 'reg_alpha': 1.729689784741806e-05, 'reg_lambda': 0.08628872000656562, 'max_depth': 5, 'num_leaves': 44, 'colsample_bytree': 0.846683497671181, 'subsample': 0.37762303746970455, 'subsample_freq': 8, 'min_child_samples': 56, 'max_bin': 373}. Best is trial 1 with value: 0.7295132953198206.\u001b[0m\n",
            "\u001b[32m[I 2021-06-02 07:38:27,159]\u001b[0m Trial 4 finished with value: 0.7271797395843679 and parameters: {'learning_rate': 0.016776944114767513, 'reg_alpha': 1.6285080140408738e-06, 'reg_lambda': 0.06982361854619268, 'max_depth': 19, 'num_leaves': 7, 'colsample_bytree': 0.49894191743641964, 'subsample': 0.9944622954653368, 'subsample_freq': 1, 'min_child_samples': 12, 'max_bin': 388}. Best is trial 4 with value: 0.7271797395843679.\u001b[0m\n",
            "\u001b[32m[I 2021-06-02 07:38:37,502]\u001b[0m Trial 5 finished with value: 0.7214998672988443 and parameters: {'learning_rate': 0.07939028799292865, 'reg_alpha': 2.9200629582060786e-05, 'reg_lambda': 0.06003581663140305, 'max_depth': 20, 'num_leaves': 67, 'colsample_bytree': 0.41084931404123226, 'subsample': 0.5370709741397256, 'subsample_freq': 8, 'min_child_samples': 49, 'max_bin': 270}. Best is trial 5 with value: 0.7214998672988443.\u001b[0m\n",
            "\u001b[32m[I 2021-06-02 07:38:47,789]\u001b[0m Trial 6 finished with value: 0.7317553785997822 and parameters: {'learning_rate': 0.06953457907037071, 'reg_alpha': 1.0520198900229594e-05, 'reg_lambda': 0.045479738332432795, 'max_depth': 13, 'num_leaves': 196, 'colsample_bytree': 0.4001326252243814, 'subsample': 0.7517398691825716, 'subsample_freq': 1, 'min_child_samples': 68, 'max_bin': 415}. Best is trial 5 with value: 0.7214998672988443.\u001b[0m\n",
            "\u001b[32m[I 2021-06-02 07:39:01,081]\u001b[0m Trial 7 finished with value: 0.7724504583845293 and parameters: {'learning_rate': 0.06721666343615545, 'reg_alpha': 2.166469207237583e-05, 'reg_lambda': 0.07849767426331537, 'max_depth': 6, 'num_leaves': 51, 'colsample_bytree': 0.9611298210048329, 'subsample': 0.6429381045867057, 'subsample_freq': 1, 'min_child_samples': 31, 'max_bin': 293}. Best is trial 5 with value: 0.7214998672988443.\u001b[0m\n",
            "\u001b[32m[I 2021-06-02 07:39:09,143]\u001b[0m Trial 8 finished with value: 0.7592763741074213 and parameters: {'learning_rate': 0.07707160320220857, 'reg_alpha': 9.749505713541616e-06, 'reg_lambda': 0.07641250273740371, 'max_depth': 15, 'num_leaves': 96, 'colsample_bytree': 0.7396575225612745, 'subsample': 0.8714871984112582, 'subsample_freq': 5, 'min_child_samples': 37, 'max_bin': 267}. Best is trial 5 with value: 0.7214998672988443.\u001b[0m\n",
            "\u001b[32m[I 2021-06-02 07:39:15,835]\u001b[0m Trial 9 finished with value: 0.73343850844142 and parameters: {'learning_rate': 0.09031781761514157, 'reg_alpha': 2.6382296777272458e-05, 'reg_lambda': 0.048483523838500714, 'max_depth': 13, 'num_leaves': 102, 'colsample_bytree': 0.9035429971930361, 'subsample': 0.785331382724499, 'subsample_freq': 7, 'min_child_samples': 41, 'max_bin': 226}. Best is trial 5 with value: 0.7214998672988443.\u001b[0m\n",
            "\u001b[32m[I 2021-06-02 07:39:23,780]\u001b[0m Trial 10 finished with value: 0.7527521361257097 and parameters: {'learning_rate': 0.09114977609127364, 'reg_alpha': 2.9743961371751355e-05, 'reg_lambda': 0.013239142086288486, 'max_depth': 20, 'num_leaves': 247, 'colsample_bytree': 0.5953760877327205, 'subsample': 0.49764396985454795, 'subsample_freq': 10, 'min_child_samples': 73, 'max_bin': 491}. Best is trial 5 with value: 0.7214998672988443.\u001b[0m\n",
            "\u001b[32m[I 2021-06-02 07:40:04,762]\u001b[0m Trial 11 finished with value: 0.7362689830647297 and parameters: {'learning_rate': 0.021017129743014576, 'reg_alpha': 6.937218781671922e-07, 'reg_lambda': 0.024007383209426993, 'max_depth': 20, 'num_leaves': 21, 'colsample_bytree': 0.5036760471790057, 'subsample': 0.5292235650965971, 'subsample_freq': 10, 'min_child_samples': 6, 'max_bin': 208}. Best is trial 5 with value: 0.7214998672988443.\u001b[0m\n",
            "\u001b[32m[I 2021-06-02 07:41:40,317]\u001b[0m Trial 12 finished with value: 0.7318056053082108 and parameters: {'learning_rate': 0.011292365255214768, 'reg_alpha': 1.2891569973019887e-06, 'reg_lambda': 0.06265347160288581, 'max_depth': 17, 'num_leaves': 18, 'colsample_bytree': 0.6149286352873381, 'subsample': 0.9937871998470624, 'subsample_freq': 3, 'min_child_samples': 6, 'max_bin': 311}. Best is trial 5 with value: 0.7214998672988443.\u001b[0m\n",
            "\u001b[32m[I 2021-06-02 07:42:22,303]\u001b[0m Trial 13 finished with value: 0.7490921223142887 and parameters: {'learning_rate': 0.030483293884559122, 'reg_alpha': 3.946706175913589e-06, 'reg_lambda': 0.029556973237757724, 'max_depth': 18, 'num_leaves': 9, 'colsample_bytree': 0.4194981829093023, 'subsample': 0.5206135756757839, 'subsample_freq': 8, 'min_child_samples': 21, 'max_bin': 496}. Best is trial 5 with value: 0.7214998672988443.\u001b[0m\n",
            "\u001b[32m[I 2021-06-02 07:42:33,844]\u001b[0m Trial 14 finished with value: 0.771364507079257 and parameters: {'learning_rate': 0.05596417762425291, 'reg_alpha': 6.167449101715459e-06, 'reg_lambda': 0.06252922164277809, 'max_depth': 20, 'num_leaves': 60, 'colsample_bytree': 0.48416172658672146, 'subsample': 0.3115831283004312, 'subsample_freq': 4, 'min_child_samples': 91, 'max_bin': 261}. Best is trial 5 with value: 0.7214998672988443.\u001b[0m\n"
          ],
          "name": "stderr"
        },
        {
          "output_type": "stream",
          "text": [
            "Best Score: 0.7214998672988443\n",
            "Best trial: {'learning_rate': 0.07939028799292865, 'reg_alpha': 2.9200629582060786e-05, 'reg_lambda': 0.06003581663140305, 'max_depth': 20, 'num_leaves': 67, 'colsample_bytree': 0.41084931404123226, 'subsample': 0.5370709741397256, 'subsample_freq': 8, 'min_child_samples': 49, 'max_bin': 270}\n"
          ],
          "name": "stdout"
        }
      ]
    },
    {
      "cell_type": "code",
      "metadata": {
        "colab": {
          "base_uri": "https://localhost:8080/"
        },
        "id": "fyIhPUXS6_Re",
        "outputId": "6ae6be53-cbe3-4a32-8d4f-01c923d6607a"
      },
      "source": [
        "sampler = TPESampler()\n",
        "study_2 = optuna.create_study(\n",
        "    study_name=\"xgb_parameter_opt\",\n",
        "    direction=\"minimize\",\n",
        "    sampler=sampler,\n",
        ")\n",
        "study_2.optimize(xgb, n_trials=15)\n",
        "print(\"Best Score:\", study_2.best_value)\n",
        "print(\"Best trial:\", study_2.best_trial.params)"
      ],
      "execution_count": null,
      "outputs": [
        {
          "output_type": "stream",
          "text": [
            "\u001b[32m[I 2021-06-02 07:42:37,409]\u001b[0m A new study created in memory with name: xgb_parameter_opt\u001b[0m\n",
            "\u001b[32m[I 2021-06-02 07:43:36,209]\u001b[0m Trial 0 finished with value: 0.7205101747797183 and parameters: {'learning_rate': 0.04374862495735462, 'reg_alpha': 2.186194042962602e-05, 'reg_lambda': 0.048763850267112344, 'max_depth': 12, 'num_leaves': 7, 'colsample_bytree': 0.47284736400027677, 'subsample': 0.37377272959859725, 'subsample_freq': 3, 'min_child_samples': 62, 'max_bin': 350}. Best is trial 0 with value: 0.7205101747797183.\u001b[0m\n",
            "\u001b[32m[I 2021-06-02 07:44:55,814]\u001b[0m Trial 1 finished with value: 0.7415648854133664 and parameters: {'learning_rate': 0.05138860606110691, 'reg_alpha': 2.9005416875722704e-05, 'reg_lambda': 0.021060776946415494, 'max_depth': 11, 'num_leaves': 22, 'colsample_bytree': 0.8791076776516749, 'subsample': 0.3974528781509382, 'subsample_freq': 4, 'min_child_samples': 100, 'max_bin': 233}. Best is trial 0 with value: 0.7205101747797183.\u001b[0m\n",
            "\u001b[32m[I 2021-06-02 07:45:36,985]\u001b[0m Trial 2 finished with value: 0.7311890906568417 and parameters: {'learning_rate': 0.06408216192824633, 'reg_alpha': 3.748061835158952e-06, 'reg_lambda': 0.06232605705203141, 'max_depth': 12, 'num_leaves': 210, 'colsample_bytree': 0.46556365966428137, 'subsample': 0.7117930189135131, 'subsample_freq': 7, 'min_child_samples': 95, 'max_bin': 454}. Best is trial 0 with value: 0.7205101747797183.\u001b[0m\n",
            "\u001b[32m[I 2021-06-02 07:47:27,863]\u001b[0m Trial 3 finished with value: 0.7199759537859018 and parameters: {'learning_rate': 0.04589625872667359, 'reg_alpha': 2.159205669113833e-05, 'reg_lambda': 0.04238255734556831, 'max_depth': 8, 'num_leaves': 68, 'colsample_bytree': 0.8978384773756333, 'subsample': 0.6844594283790211, 'subsample_freq': 5, 'min_child_samples': 94, 'max_bin': 416}. Best is trial 3 with value: 0.7199759537859018.\u001b[0m\n",
            "\u001b[32m[I 2021-06-02 07:48:16,277]\u001b[0m Trial 4 finished with value: 0.7266458727986758 and parameters: {'learning_rate': 0.09820663840342772, 'reg_alpha': 2.273865366136656e-05, 'reg_lambda': 0.019910427112862374, 'max_depth': 19, 'num_leaves': 208, 'colsample_bytree': 0.8263401750766428, 'subsample': 0.4561570842799489, 'subsample_freq': 1, 'min_child_samples': 43, 'max_bin': 459}. Best is trial 3 with value: 0.7199759537859018.\u001b[0m\n",
            "\u001b[32m[I 2021-06-02 07:50:22,301]\u001b[0m Trial 5 finished with value: 0.7092735013901309 and parameters: {'learning_rate': 0.01013263382572705, 'reg_alpha': 1.5851033611154568e-05, 'reg_lambda': 0.0025230726228266547, 'max_depth': 20, 'num_leaves': 255, 'colsample_bytree': 0.4069287933034071, 'subsample': 0.5307811111890459, 'subsample_freq': 6, 'min_child_samples': 11, 'max_bin': 224}. Best is trial 5 with value: 0.7092735013901309.\u001b[0m\n",
            "\u001b[32m[I 2021-06-02 07:50:36,028]\u001b[0m Trial 6 finished with value: 0.976555296319142 and parameters: {'learning_rate': 0.01837633670949968, 'reg_alpha': 2.59320522103612e-05, 'reg_lambda': 0.04096445393681081, 'max_depth': 7, 'num_leaves': 82, 'colsample_bytree': 0.9502433724567506, 'subsample': 0.8787189984945099, 'subsample_freq': 3, 'min_child_samples': 6, 'max_bin': 446}. Best is trial 5 with value: 0.7092735013901309.\u001b[0m\n",
            "\u001b[32m[I 2021-06-02 07:51:23,210]\u001b[0m Trial 7 finished with value: 0.735681262265895 and parameters: {'learning_rate': 0.09088961337252405, 'reg_alpha': 5.997281962174178e-06, 'reg_lambda': 0.07689969206699536, 'max_depth': 11, 'num_leaves': 153, 'colsample_bytree': 0.5367847122741922, 'subsample': 0.38799328840619596, 'subsample_freq': 8, 'min_child_samples': 70, 'max_bin': 250}. Best is trial 5 with value: 0.7092735013901309.\u001b[0m\n",
            "\u001b[32m[I 2021-06-02 07:51:28,323]\u001b[0m Trial 8 finished with value: 1.051198942636056 and parameters: {'learning_rate': 0.06089323733248094, 'reg_alpha': 8.336910060222407e-07, 'reg_lambda': 0.04654430567034431, 'max_depth': 2, 'num_leaves': 179, 'colsample_bytree': 0.837480892871542, 'subsample': 0.5231821623352169, 'subsample_freq': 10, 'min_child_samples': 29, 'max_bin': 416}. Best is trial 5 with value: 0.7092735013901309.\u001b[0m\n",
            "\u001b[32m[I 2021-06-02 07:53:00,038]\u001b[0m Trial 9 finished with value: 0.7354952036433038 and parameters: {'learning_rate': 0.050023908835084126, 'reg_alpha': 2.7301137348467694e-05, 'reg_lambda': 0.00858382184716976, 'max_depth': 7, 'num_leaves': 101, 'colsample_bytree': 0.8640003002571164, 'subsample': 0.5549607816718964, 'subsample_freq': 10, 'min_child_samples': 71, 'max_bin': 383}. Best is trial 5 with value: 0.7092735013901309.\u001b[0m\n",
            "\u001b[32m[I 2021-06-02 07:53:49,707]\u001b[0m Trial 10 finished with value: 0.8996912564910549 and parameters: {'learning_rate': 0.010528423560832363, 'reg_alpha': 1.3185842703619056e-05, 'reg_lambda': 0.0015774981968467309, 'max_depth': 20, 'num_leaves': 248, 'colsample_bytree': 0.6390284756388764, 'subsample': 0.8732728860810043, 'subsample_freq': 7, 'min_child_samples': 6, 'max_bin': 290}. Best is trial 5 with value: 0.7092735013901309.\u001b[0m\n",
            "\u001b[32m[I 2021-06-02 07:55:04,276]\u001b[0m Trial 11 finished with value: 0.7196253587580508 and parameters: {'learning_rate': 0.030995909860576584, 'reg_alpha': 1.5616803877828854e-05, 'reg_lambda': 0.08710190596263928, 'max_depth': 16, 'num_leaves': 54, 'colsample_bytree': 0.7008154407450976, 'subsample': 0.6978293427238714, 'subsample_freq': 5, 'min_child_samples': 26, 'max_bin': 309}. Best is trial 5 with value: 0.7092735013901309.\u001b[0m\n",
            "\u001b[32m[I 2021-06-02 07:56:21,542]\u001b[0m Trial 12 finished with value: 0.7235331359289119 and parameters: {'learning_rate': 0.027128337117299953, 'reg_alpha': 1.416427992360195e-05, 'reg_lambda': 0.08250523198699232, 'max_depth': 17, 'num_leaves': 43, 'colsample_bytree': 0.6983601495338959, 'subsample': 0.789441689941154, 'subsample_freq': 6, 'min_child_samples': 24, 'max_bin': 297}. Best is trial 5 with value: 0.7092735013901309.\u001b[0m\n",
            "\u001b[32m[I 2021-06-02 07:57:51,548]\u001b[0m Trial 13 finished with value: 0.7373009416179166 and parameters: {'learning_rate': 0.03078979461153398, 'reg_alpha': 9.592207409463769e-06, 'reg_lambda': 0.08972720962453698, 'max_depth': 16, 'num_leaves': 125, 'colsample_bytree': 0.6092081722144329, 'subsample': 0.5771172908199201, 'subsample_freq': 5, 'min_child_samples': 23, 'max_bin': 209}. Best is trial 5 with value: 0.7092735013901309.\u001b[0m\n",
            "\u001b[32m[I 2021-06-02 07:58:23,903]\u001b[0m Trial 14 finished with value: 0.9474488085900304 and parameters: {'learning_rate': 0.011478374455407402, 'reg_alpha': 1.8100633758478527e-05, 'reg_lambda': 0.06675046482877928, 'max_depth': 15, 'num_leaves': 253, 'colsample_bytree': 0.7650473832510178, 'subsample': 0.9781377274944076, 'subsample_freq': 8, 'min_child_samples': 13, 'max_bin': 291}. Best is trial 5 with value: 0.7092735013901309.\u001b[0m\n"
          ],
          "name": "stderr"
        },
        {
          "output_type": "stream",
          "text": [
            "Best Score: 0.7092735013901309\n",
            "Best trial: {'learning_rate': 0.01013263382572705, 'reg_alpha': 1.5851033611154568e-05, 'reg_lambda': 0.0025230726228266547, 'max_depth': 20, 'num_leaves': 255, 'colsample_bytree': 0.4069287933034071, 'subsample': 0.5307811111890459, 'subsample_freq': 6, 'min_child_samples': 11, 'max_bin': 224}\n"
          ],
          "name": "stdout"
        }
      ]
    },
    {
      "cell_type": "code",
      "metadata": {
        "id": "aNVQwAHIBMfr"
      },
      "source": [
        "xgb_best = XGBClassifier(learning_rate=0.030995909860576584, reg_alpha=1.5616803877828854e-05, reg_lambda=0.08710190596263928, max_depth=16, num_leaves=54, colsample_bytree=0.7008154407450976, subsample=0.6978293427238714, subsample_freq=5, min_child_samples=26, max_bin=309)"
      ],
      "execution_count": null,
      "outputs": []
    },
    {
      "cell_type": "code",
      "metadata": {
        "colab": {
          "base_uri": "https://localhost:8080/"
        },
        "id": "owOTwhpZB4Iw",
        "outputId": "98ccb51d-9abb-4dca-bbaf-55ef1725f531"
      },
      "source": [
        "xgb_train_X = run_kfold(xgb_best, train_X, train_y, test_X)"
      ],
      "execution_count": null,
      "outputs": [
        {
          "output_type": "stream",
          "text": [
            "FOLD 0 : logloss:0.8492926519338776\n",
            "FOLD 1 : logloss:0.8451583220293282\n",
            "FOLD 2 : logloss:0.8474195238841411\n",
            "FOLD 3 : logloss:0.8442241887957495\n",
            "FOLD 4 : logloss:0.8467088676179386\n",
            "clf : XGBClassifier, Mean:0.846560710852207\n"
          ],
          "name": "stdout"
        }
      ]
    },
    {
      "cell_type": "code",
      "metadata": {
        "colab": {
          "base_uri": "https://localhost:8080/",
          "height": 198
        },
        "id": "u4SMBL5H2SMy",
        "outputId": "6c2124b1-70b3-4e1b-ceb1-cfd9a8c1748b"
      },
      "source": [
        "df1 = Submission(xgb_train_X)\n",
        "df1.drop('index', inplace=True, axis=1)\n",
        "df1.head()"
      ],
      "execution_count": null,
      "outputs": [
        {
          "output_type": "execute_result",
          "data": {
            "text/html": [
              "<div>\n",
              "<style scoped>\n",
              "    .dataframe tbody tr th:only-of-type {\n",
              "        vertical-align: middle;\n",
              "    }\n",
              "\n",
              "    .dataframe tbody tr th {\n",
              "        vertical-align: top;\n",
              "    }\n",
              "\n",
              "    .dataframe thead th {\n",
              "        text-align: right;\n",
              "    }\n",
              "</style>\n",
              "<table border=\"1\" class=\"dataframe\">\n",
              "  <thead>\n",
              "    <tr style=\"text-align: right;\">\n",
              "      <th></th>\n",
              "      <th>0</th>\n",
              "      <th>1</th>\n",
              "      <th>2</th>\n",
              "    </tr>\n",
              "  </thead>\n",
              "  <tbody>\n",
              "    <tr>\n",
              "      <th>0</th>\n",
              "      <td>0.208634</td>\n",
              "      <td>0.243048</td>\n",
              "      <td>0.548317</td>\n",
              "    </tr>\n",
              "    <tr>\n",
              "      <th>1</th>\n",
              "      <td>0.245325</td>\n",
              "      <td>0.278705</td>\n",
              "      <td>0.475971</td>\n",
              "    </tr>\n",
              "    <tr>\n",
              "      <th>2</th>\n",
              "      <td>0.194721</td>\n",
              "      <td>0.230953</td>\n",
              "      <td>0.574326</td>\n",
              "    </tr>\n",
              "    <tr>\n",
              "      <th>3</th>\n",
              "      <td>0.218141</td>\n",
              "      <td>0.248273</td>\n",
              "      <td>0.533586</td>\n",
              "    </tr>\n",
              "    <tr>\n",
              "      <th>4</th>\n",
              "      <td>0.199948</td>\n",
              "      <td>0.268445</td>\n",
              "      <td>0.531607</td>\n",
              "    </tr>\n",
              "  </tbody>\n",
              "</table>\n",
              "</div>"
            ],
            "text/plain": [
              "          0         1         2\n",
              "0  0.208634  0.243048  0.548317\n",
              "1  0.245325  0.278705  0.475971\n",
              "2  0.194721  0.230953  0.574326\n",
              "3  0.218141  0.248273  0.533586\n",
              "4  0.199948  0.268445  0.531607"
            ]
          },
          "metadata": {
            "tags": []
          },
          "execution_count": 148
        }
      ]
    },
    {
      "cell_type": "code",
      "metadata": {
        "id": "aWlX9woE5nUk"
      },
      "source": [
        "submission_file_1 = sample_submission.copy()\n",
        "submission_file_1.loc[:,1:] = xgb_train_X"
      ],
      "execution_count": null,
      "outputs": []
    },
    {
      "cell_type": "code",
      "metadata": {
        "colab": {
          "base_uri": "https://localhost:8080/"
        },
        "id": "LjUQUOyw5uwn",
        "outputId": "d3af413b-2e59-44ab-b483-8a564a1e5583"
      },
      "source": [
        "target_distrib(df1)"
      ],
      "execution_count": null,
      "outputs": [
        {
          "output_type": "stream",
          "text": [
            "target_0 :  0    0\n",
            "1    0\n",
            "2    0\n",
            "dtype: int64\n",
            "target_1 :  0    85\n",
            "1    85\n",
            "2    85\n",
            "dtype: int64\n",
            "target_2 :  0    6399\n",
            "1    6399\n",
            "2    6399\n",
            "dtype: int64\n"
          ],
          "name": "stdout"
        }
      ]
    },
    {
      "cell_type": "markdown",
      "metadata": {
        "id": "Z-wzeFd2jL6d"
      },
      "source": [
        "## train_scaled_new"
      ]
    },
    {
      "cell_type": "code",
      "metadata": {
        "id": "aOlgCy2JI1KV"
      },
      "source": [
        "X = pd.get_dummies(train_scaled_new)\n",
        "X_test = pd.get_dummies(test_scaled_new)\n",
        "y = train_y"
      ],
      "execution_count": null,
      "outputs": []
    },
    {
      "cell_type": "code",
      "metadata": {
        "colab": {
          "base_uri": "https://localhost:8080/"
        },
        "id": "RmG5YgoOfH1M",
        "outputId": "5dc31bbc-88b9-413a-a97f-d03f488f291f"
      },
      "source": [
        "sampler = TPESampler()\n",
        "study_3 = optuna.create_study(\n",
        "    study_name=\"xgb_parameter_opt\",\n",
        "    direction=\"minimize\",\n",
        "    sampler=sampler,\n",
        ")\n",
        "study_3.optimize(xgb, n_trials=15)\n",
        "print(\"Best Score:\", study_3.best_value)\n",
        "print(\"Best trial:\", study_3.best_trial.params)"
      ],
      "execution_count": null,
      "outputs": [
        {
          "output_type": "stream",
          "text": [
            "\u001b[32m[I 2021-06-02 08:01:24,296]\u001b[0m A new study created in memory with name: xgb_parameter_opt\u001b[0m\n",
            "\u001b[32m[I 2021-06-02 08:02:25,029]\u001b[0m Trial 0 finished with value: 0.7532758972858686 and parameters: {'learning_rate': 0.03676763520005479, 'reg_alpha': 1.4252252809520492e-05, 'reg_lambda': 0.06159719540197559, 'max_depth': 17, 'num_leaves': 63, 'colsample_bytree': 0.9055482356305177, 'subsample': 0.8213156231970986, 'subsample_freq': 10, 'min_child_samples': 76, 'max_bin': 494}. Best is trial 0 with value: 0.7532758972858686.\u001b[0m\n",
            "\u001b[32m[I 2021-06-02 08:02:30,288]\u001b[0m Trial 1 finished with value: 1.0906161046442622 and parameters: {'learning_rate': 0.017918683625471138, 'reg_alpha': 2.3002937957342357e-05, 'reg_lambda': 0.07030260527916578, 'max_depth': 5, 'num_leaves': 67, 'colsample_bytree': 0.6127712959886203, 'subsample': 0.4766472485215716, 'subsample_freq': 4, 'min_child_samples': 85, 'max_bin': 467}. Best is trial 0 with value: 0.7532758972858686.\u001b[0m\n",
            "\u001b[32m[I 2021-06-02 08:03:45,160]\u001b[0m Trial 2 finished with value: 0.7312330066100416 and parameters: {'learning_rate': 0.023028048468421457, 'reg_alpha': 1.3513712230219544e-05, 'reg_lambda': 0.04052342341931766, 'max_depth': 18, 'num_leaves': 47, 'colsample_bytree': 0.9900149331695497, 'subsample': 0.6521801611460134, 'subsample_freq': 5, 'min_child_samples': 42, 'max_bin': 428}. Best is trial 2 with value: 0.7312330066100416.\u001b[0m\n",
            "\u001b[32m[I 2021-06-02 08:04:30,401]\u001b[0m Trial 3 finished with value: 0.7422006785579572 and parameters: {'learning_rate': 0.04418081278836225, 'reg_alpha': 5.9046663849541e-06, 'reg_lambda': 0.04001926775603426, 'max_depth': 19, 'num_leaves': 155, 'colsample_bytree': 0.8708800105868235, 'subsample': 0.47184291332923567, 'subsample_freq': 1, 'min_child_samples': 58, 'max_bin': 447}. Best is trial 2 with value: 0.7312330066100416.\u001b[0m\n",
            "\u001b[32m[I 2021-06-02 08:04:32,824]\u001b[0m Trial 4 finished with value: 1.0590222579281345 and parameters: {'learning_rate': 0.09216977278672936, 'reg_alpha': 1.7405001797001553e-05, 'reg_lambda': 0.08658889077125476, 'max_depth': 1, 'num_leaves': 169, 'colsample_bytree': 0.8971746928445758, 'subsample': 0.801556591623388, 'subsample_freq': 1, 'min_child_samples': 38, 'max_bin': 340}. Best is trial 2 with value: 0.7312330066100416.\u001b[0m\n",
            "\u001b[32m[I 2021-06-02 08:04:41,206]\u001b[0m Trial 5 finished with value: 1.0629947665777517 and parameters: {'learning_rate': 0.014147868144822072, 'reg_alpha': 1.835818526616307e-05, 'reg_lambda': 0.033435422532570765, 'max_depth': 8, 'num_leaves': 208, 'colsample_bytree': 0.7998760483896865, 'subsample': 0.9045454364789824, 'subsample_freq': 1, 'min_child_samples': 38, 'max_bin': 324}. Best is trial 2 with value: 0.7312330066100416.\u001b[0m\n",
            "\u001b[32m[I 2021-06-02 08:05:11,014]\u001b[0m Trial 6 finished with value: 0.7557498492296638 and parameters: {'learning_rate': 0.0996107479406596, 'reg_alpha': 5.710917536819835e-07, 'reg_lambda': 0.08649846307739835, 'max_depth': 12, 'num_leaves': 14, 'colsample_bytree': 0.42977077136934433, 'subsample': 0.7975166376291617, 'subsample_freq': 4, 'min_child_samples': 67, 'max_bin': 381}. Best is trial 2 with value: 0.7312330066100416.\u001b[0m\n",
            "\u001b[32m[I 2021-06-02 08:05:50,235]\u001b[0m Trial 7 finished with value: 0.7453800344662649 and parameters: {'learning_rate': 0.059692091305536765, 'reg_alpha': 1.9389248232770802e-05, 'reg_lambda': 0.052449615352631165, 'max_depth': 8, 'num_leaves': 56, 'colsample_bytree': 0.5028482082402549, 'subsample': 0.3541489287543418, 'subsample_freq': 10, 'min_child_samples': 81, 'max_bin': 314}. Best is trial 2 with value: 0.7312330066100416.\u001b[0m\n",
            "\u001b[32m[I 2021-06-02 08:06:16,575]\u001b[0m Trial 8 finished with value: 0.77006310762349 and parameters: {'learning_rate': 0.08298477397621702, 'reg_alpha': 2.8738620116935288e-05, 'reg_lambda': 0.07358560799800809, 'max_depth': 20, 'num_leaves': 248, 'colsample_bytree': 0.951862067205915, 'subsample': 0.9734354503778075, 'subsample_freq': 7, 'min_child_samples': 60, 'max_bin': 226}. Best is trial 2 with value: 0.7312330066100416.\u001b[0m\n",
            "\u001b[32m[I 2021-06-02 08:06:21,300]\u001b[0m Trial 9 finished with value: 1.0291151685734545 and parameters: {'learning_rate': 0.044077380351211136, 'reg_alpha': 5.143704457406825e-06, 'reg_lambda': 0.07452874883209595, 'max_depth': 4, 'num_leaves': 232, 'colsample_bytree': 0.8758914661684057, 'subsample': 0.822781103143774, 'subsample_freq': 3, 'min_child_samples': 62, 'max_bin': 272}. Best is trial 2 with value: 0.7312330066100416.\u001b[0m\n",
            "\u001b[32m[I 2021-06-02 08:07:11,365]\u001b[0m Trial 10 finished with value: 0.7368036470796916 and parameters: {'learning_rate': 0.0258850102189905, 'reg_alpha': 9.696471478613478e-06, 'reg_lambda': 0.005316120165511348, 'max_depth': 15, 'num_leaves': 14, 'colsample_bytree': 0.7246146699608947, 'subsample': 0.6441863403544463, 'subsample_freq': 8, 'min_child_samples': 10, 'max_bin': 411}. Best is trial 2 with value: 0.7312330066100416.\u001b[0m\n",
            "\u001b[32m[I 2021-06-02 08:08:20,991]\u001b[0m Trial 11 finished with value: 0.7195535879958779 and parameters: {'learning_rate': 0.026104360527297324, 'reg_alpha': 1.01957516695902e-05, 'reg_lambda': 0.002825831728232066, 'max_depth': 15, 'num_leaves': 29, 'colsample_bytree': 0.70801603070394, 'subsample': 0.6441399169535188, 'subsample_freq': 7, 'min_child_samples': 8, 'max_bin': 412}. Best is trial 11 with value: 0.7195535879958779.\u001b[0m\n",
            "\u001b[32m[I 2021-06-02 08:08:57,411]\u001b[0m Trial 12 finished with value: 0.7241471244051464 and parameters: {'learning_rate': 0.05954674303752249, 'reg_alpha': 1.1761718825316585e-05, 'reg_lambda': 0.004001997122639945, 'max_depth': 14, 'num_leaves': 105, 'colsample_bytree': 0.6155888211062737, 'subsample': 0.6461449314918513, 'subsample_freq': 6, 'min_child_samples': 13, 'max_bin': 426}. Best is trial 11 with value: 0.7195535879958779.\u001b[0m\n",
            "\u001b[32m[I 2021-06-02 08:09:47,427]\u001b[0m Trial 13 finished with value: 0.7782067676178284 and parameters: {'learning_rate': 0.06682602353045837, 'reg_alpha': 1.065335907414286e-05, 'reg_lambda': 0.0055259044528008176, 'max_depth': 12, 'num_leaves': 109, 'colsample_bytree': 0.6152040497785459, 'subsample': 0.6577776484111711, 'subsample_freq': 7, 'min_child_samples': 7, 'max_bin': 387}. Best is trial 11 with value: 0.7195535879958779.\u001b[0m\n",
            "\u001b[32m[I 2021-06-02 08:10:19,920]\u001b[0m Trial 14 finished with value: 0.7367324945135872 and parameters: {'learning_rate': 0.07226939990458273, 'reg_alpha': 5.56761603882041e-06, 'reg_lambda': 0.01997727393602423, 'max_depth': 15, 'num_leaves': 123, 'colsample_bytree': 0.6215758720541731, 'subsample': 0.549390787677507, 'subsample_freq': 8, 'min_child_samples': 22, 'max_bin': 500}. Best is trial 11 with value: 0.7195535879958779.\u001b[0m\n"
          ],
          "name": "stderr"
        },
        {
          "output_type": "stream",
          "text": [
            "Best Score: 0.7195535879958779\n",
            "Best trial: {'learning_rate': 0.026104360527297324, 'reg_alpha': 1.01957516695902e-05, 'reg_lambda': 0.002825831728232066, 'max_depth': 15, 'num_leaves': 29, 'colsample_bytree': 0.70801603070394, 'subsample': 0.6441399169535188, 'subsample_freq': 7, 'min_child_samples': 8, 'max_bin': 412}\n"
          ],
          "name": "stdout"
        }
      ]
    },
    {
      "cell_type": "code",
      "metadata": {
        "id": "wv5TCqtjjV6M"
      },
      "source": [
        "xgb_best = XGBClassifier(learning_rate=0.07810518718309338, reg_alpha=3.354866414052101e-07, reg_lambda=0.0014253533265836831, max_depth=20, num_leaves=70, colsample_bytree=0.4151204522198854, subsample=0.994820481180758, subsample_freq=1, min_child_samples=36, max_bin=386)"
      ],
      "execution_count": null,
      "outputs": []
    },
    {
      "cell_type": "code",
      "metadata": {
        "colab": {
          "base_uri": "https://localhost:8080/"
        },
        "id": "BvscExzWjv8m",
        "outputId": "1b7366cc-07d2-48d6-ed4a-de3ab03767fc"
      },
      "source": [
        "xgb_scaled_new = run_kfold(xgb_best, train_scaled_new, train_y, test_scaled_new)"
      ],
      "execution_count": null,
      "outputs": [
        {
          "output_type": "stream",
          "text": [
            "FOLD 0 : logloss:0.7258526587504006\n",
            "FOLD 1 : logloss:0.726220282441947\n",
            "FOLD 2 : logloss:0.719066387049092\n",
            "FOLD 3 : logloss:0.7061956804833618\n",
            "FOLD 4 : logloss:0.7119846745034913\n",
            "clf : XGBClassifier, Mean:0.7178639366456585\n"
          ],
          "name": "stdout"
        }
      ]
    },
    {
      "cell_type": "code",
      "metadata": {
        "colab": {
          "base_uri": "https://localhost:8080/",
          "height": 198
        },
        "id": "4DZ5FltN4pdA",
        "outputId": "29c81620-e936-4e52-f4d5-5f1139c7ba44"
      },
      "source": [
        "df2 = Submission(xgb_scaled_new)\n",
        "df2.drop('index', inplace=True, axis=1)\n",
        "df2.head()"
      ],
      "execution_count": null,
      "outputs": [
        {
          "output_type": "execute_result",
          "data": {
            "text/html": [
              "<div>\n",
              "<style scoped>\n",
              "    .dataframe tbody tr th:only-of-type {\n",
              "        vertical-align: middle;\n",
              "    }\n",
              "\n",
              "    .dataframe tbody tr th {\n",
              "        vertical-align: top;\n",
              "    }\n",
              "\n",
              "    .dataframe thead th {\n",
              "        text-align: right;\n",
              "    }\n",
              "</style>\n",
              "<table border=\"1\" class=\"dataframe\">\n",
              "  <thead>\n",
              "    <tr style=\"text-align: right;\">\n",
              "      <th></th>\n",
              "      <th>0</th>\n",
              "      <th>1</th>\n",
              "      <th>2</th>\n",
              "    </tr>\n",
              "  </thead>\n",
              "  <tbody>\n",
              "    <tr>\n",
              "      <th>0</th>\n",
              "      <td>0.062835</td>\n",
              "      <td>0.116351</td>\n",
              "      <td>0.820814</td>\n",
              "    </tr>\n",
              "    <tr>\n",
              "      <th>1</th>\n",
              "      <td>0.250906</td>\n",
              "      <td>0.185309</td>\n",
              "      <td>0.563785</td>\n",
              "    </tr>\n",
              "    <tr>\n",
              "      <th>2</th>\n",
              "      <td>0.038137</td>\n",
              "      <td>0.077904</td>\n",
              "      <td>0.883959</td>\n",
              "    </tr>\n",
              "    <tr>\n",
              "      <th>3</th>\n",
              "      <td>0.079263</td>\n",
              "      <td>0.246552</td>\n",
              "      <td>0.674185</td>\n",
              "    </tr>\n",
              "    <tr>\n",
              "      <th>4</th>\n",
              "      <td>0.157040</td>\n",
              "      <td>0.203321</td>\n",
              "      <td>0.639639</td>\n",
              "    </tr>\n",
              "  </tbody>\n",
              "</table>\n",
              "</div>"
            ],
            "text/plain": [
              "          0         1         2\n",
              "0  0.062835  0.116351  0.820814\n",
              "1  0.250906  0.185309  0.563785\n",
              "2  0.038137  0.077904  0.883959\n",
              "3  0.079263  0.246552  0.674185\n",
              "4  0.157040  0.203321  0.639639"
            ]
          },
          "metadata": {
            "tags": []
          },
          "execution_count": 150
        }
      ]
    },
    {
      "cell_type": "code",
      "metadata": {
        "colab": {
          "base_uri": "https://localhost:8080/"
        },
        "id": "i0JwnzyT510u",
        "outputId": "3a2d6b2b-7844-4e54-b261-4dc7db1c92cd"
      },
      "source": [
        "target_distrib(df2)"
      ],
      "execution_count": null,
      "outputs": [
        {
          "output_type": "stream",
          "text": [
            "target_0 :  0    214\n",
            "1    214\n",
            "2    214\n",
            "dtype: int64\n",
            "target_1 :  0    1021\n",
            "1    1021\n",
            "2    1021\n",
            "dtype: int64\n",
            "target_2 :  0    8082\n",
            "1    8082\n",
            "2    8082\n",
            "dtype: int64\n"
          ],
          "name": "stdout"
        }
      ]
    },
    {
      "cell_type": "code",
      "metadata": {
        "id": "zqkQAHo26FaC"
      },
      "source": [
        "submission_file_2 = sample_submission.copy()\n",
        "submission_file_2.loc[:,1:] = xgb_scaled"
      ],
      "execution_count": null,
      "outputs": []
    },
    {
      "cell_type": "markdown",
      "metadata": {
        "id": "ui2JU2wojPme"
      },
      "source": [
        "## train_scaled"
      ]
    },
    {
      "cell_type": "code",
      "metadata": {
        "id": "-6NoL2gDgn_p"
      },
      "source": [
        "X = pd.get_dummies(train_scaled)\n",
        "X_test = pd.get_dummies(test_scaled)\n",
        "y = train_y"
      ],
      "execution_count": null,
      "outputs": []
    },
    {
      "cell_type": "code",
      "metadata": {
        "colab": {
          "base_uri": "https://localhost:8080/"
        },
        "id": "ROKXXNXWhUd9",
        "outputId": "3ce39e63-5de0-421c-9f17-676727aaeb26"
      },
      "source": [
        "sampler = TPESampler()\n",
        "study_4 = optuna.create_study(\n",
        "    study_name=\"xgb_parameter_opt\",\n",
        "    direction=\"minimize\",\n",
        "    sampler=sampler,\n",
        ")\n",
        "study_4.optimize(xgb, n_trials=15)\n",
        "print(\"Best Score:\", study_4.best_value)\n",
        "print(\"Best trial:\", study_4.best_trial.params)"
      ],
      "execution_count": null,
      "outputs": [
        {
          "output_type": "stream",
          "text": [
            "\u001b[32m[I 2021-06-02 08:11:37,994]\u001b[0m A new study created in memory with name: xgb_parameter_opt\u001b[0m\n",
            "\u001b[32m[I 2021-06-02 08:12:13,538]\u001b[0m Trial 0 finished with value: 0.7366490407839125 and parameters: {'learning_rate': 0.07721203722150373, 'reg_alpha': 2.390092302933226e-05, 'reg_lambda': 0.08332388857790253, 'max_depth': 19, 'num_leaves': 213, 'colsample_bytree': 0.544229678400236, 'subsample': 0.5361670069181099, 'subsample_freq': 7, 'min_child_samples': 90, 'max_bin': 361}. Best is trial 0 with value: 0.7366490407839125.\u001b[0m\n",
            "\u001b[32m[I 2021-06-02 08:12:19,471]\u001b[0m Trial 1 finished with value: 1.042224514229858 and parameters: {'learning_rate': 0.031246886332328014, 'reg_alpha': 1.318092133136011e-05, 'reg_lambda': 0.013106143624815162, 'max_depth': 5, 'num_leaves': 138, 'colsample_bytree': 0.4120735275828496, 'subsample': 0.7206462176594437, 'subsample_freq': 7, 'min_child_samples': 68, 'max_bin': 484}. Best is trial 0 with value: 0.7366490407839125.\u001b[0m\n",
            "\u001b[32m[I 2021-06-02 08:13:15,741]\u001b[0m Trial 2 finished with value: 0.7244127242461984 and parameters: {'learning_rate': 0.02973932680456816, 'reg_alpha': 2.6252066602084642e-05, 'reg_lambda': 0.08926946994459121, 'max_depth': 13, 'num_leaves': 45, 'colsample_bytree': 0.49393156473336436, 'subsample': 0.9150241582229013, 'subsample_freq': 8, 'min_child_samples': 88, 'max_bin': 322}. Best is trial 2 with value: 0.7244127242461984.\u001b[0m\n",
            "\u001b[32m[I 2021-06-02 08:14:19,176]\u001b[0m Trial 3 finished with value: 0.7972114198679775 and parameters: {'learning_rate': 0.07499349616927577, 'reg_alpha': 1.5623794063901868e-05, 'reg_lambda': 0.06676788280477765, 'max_depth': 14, 'num_leaves': 153, 'colsample_bytree': 0.6949840653021462, 'subsample': 0.7226983594816097, 'subsample_freq': 10, 'min_child_samples': 61, 'max_bin': 364}. Best is trial 2 with value: 0.7244127242461984.\u001b[0m\n",
            "\u001b[32m[I 2021-06-02 08:14:30,633]\u001b[0m Trial 4 finished with value: 0.9922061032944346 and parameters: {'learning_rate': 0.025756555011991783, 'reg_alpha': 2.5752836656754013e-05, 'reg_lambda': 0.07439429685267633, 'max_depth': 7, 'num_leaves': 129, 'colsample_bytree': 0.8305821509989528, 'subsample': 0.38316633539756895, 'subsample_freq': 6, 'min_child_samples': 71, 'max_bin': 307}. Best is trial 2 with value: 0.7244127242461984.\u001b[0m\n",
            "\u001b[32m[I 2021-06-02 08:15:17,925]\u001b[0m Trial 5 finished with value: 0.7559041939732124 and parameters: {'learning_rate': 0.051394370665354856, 'reg_alpha': 1.2967591980126107e-05, 'reg_lambda': 0.08549262279621034, 'max_depth': 20, 'num_leaves': 29, 'colsample_bytree': 0.913936488550565, 'subsample': 0.575570501244719, 'subsample_freq': 6, 'min_child_samples': 99, 'max_bin': 355}. Best is trial 2 with value: 0.7244127242461984.\u001b[0m\n",
            "\u001b[32m[I 2021-06-02 08:15:52,430]\u001b[0m Trial 6 finished with value: 0.7358988199047941 and parameters: {'learning_rate': 0.03730806441733972, 'reg_alpha': 1.473112843342408e-05, 'reg_lambda': 0.042918503535176525, 'max_depth': 20, 'num_leaves': 39, 'colsample_bytree': 0.5223634044336634, 'subsample': 0.8644716488173436, 'subsample_freq': 6, 'min_child_samples': 49, 'max_bin': 391}. Best is trial 2 with value: 0.7244127242461984.\u001b[0m\n",
            "\u001b[32m[I 2021-06-02 08:16:38,908]\u001b[0m Trial 7 finished with value: 0.7391331517535318 and parameters: {'learning_rate': 0.06813377326164188, 'reg_alpha': 1.5316056503466985e-05, 'reg_lambda': 0.012103005285938908, 'max_depth': 19, 'num_leaves': 142, 'colsample_bytree': 0.9337185086758141, 'subsample': 0.5210615379992853, 'subsample_freq': 9, 'min_child_samples': 47, 'max_bin': 341}. Best is trial 2 with value: 0.7244127242461984.\u001b[0m\n",
            "\u001b[32m[I 2021-06-02 08:17:18,375]\u001b[0m Trial 8 finished with value: 0.7613073912130117 and parameters: {'learning_rate': 0.08936505100275327, 'reg_alpha': 2.0246360445629513e-05, 'reg_lambda': 0.05764699927096766, 'max_depth': 11, 'num_leaves': 208, 'colsample_bytree': 0.9454677724187978, 'subsample': 0.3978731735116514, 'subsample_freq': 2, 'min_child_samples': 100, 'max_bin': 249}. Best is trial 2 with value: 0.7244127242461984.\u001b[0m\n",
            "\u001b[32m[I 2021-06-02 08:17:51,363]\u001b[0m Trial 9 finished with value: 0.7026527696887478 and parameters: {'learning_rate': 0.07307446912614166, 'reg_alpha': 1.68408710647427e-06, 'reg_lambda': 0.04509940116671604, 'max_depth': 10, 'num_leaves': 2, 'colsample_bytree': 0.4698601666903272, 'subsample': 0.607577990017349, 'subsample_freq': 3, 'min_child_samples': 73, 'max_bin': 225}. Best is trial 9 with value: 0.7026527696887478.\u001b[0m\n",
            "\u001b[32m[I 2021-06-02 08:17:58,626]\u001b[0m Trial 10 finished with value: 0.8017903308715679 and parameters: {'learning_rate': 0.09757795690483499, 'reg_alpha': 1.952704006279984e-06, 'reg_lambda': 0.034545822547215346, 'max_depth': 1, 'num_leaves': 82, 'colsample_bytree': 0.6816806951597288, 'subsample': 0.7971259226975133, 'subsample_freq': 2, 'min_child_samples': 16, 'max_bin': 212}. Best is trial 9 with value: 0.7026527696887478.\u001b[0m\n",
            "\u001b[32m[I 2021-06-02 08:18:35,567]\u001b[0m Trial 11 finished with value: 0.7155649908117877 and parameters: {'learning_rate': 0.05172642073584301, 'reg_alpha': 5.990524441908636e-07, 'reg_lambda': 0.05490114238252203, 'max_depth': 14, 'num_leaves': 5, 'colsample_bytree': 0.40705854888453363, 'subsample': 0.9984973133584278, 'subsample_freq': 4, 'min_child_samples': 82, 'max_bin': 264}. Best is trial 9 with value: 0.7026527696887478.\u001b[0m\n",
            "\u001b[32m[I 2021-06-02 08:19:04,459]\u001b[0m Trial 12 finished with value: 0.7186441135019745 and parameters: {'learning_rate': 0.053844807762393546, 'reg_alpha': 1.641530599556282e-08, 'reg_lambda': 0.034146991637150945, 'max_depth': 15, 'num_leaves': 10, 'colsample_bytree': 0.4122209362064111, 'subsample': 0.9751179223413166, 'subsample_freq': 4, 'min_child_samples': 79, 'max_bin': 248}. Best is trial 9 with value: 0.7026527696887478.\u001b[0m\n",
            "\u001b[32m[I 2021-06-02 08:20:22,621]\u001b[0m Trial 13 finished with value: 0.7597071912212865 and parameters: {'learning_rate': 0.012251433791106117, 'reg_alpha': 5.478991759796045e-06, 'reg_lambda': 0.05427132051685422, 'max_depth': 8, 'num_leaves': 77, 'colsample_bytree': 0.5850324037696275, 'subsample': 0.6260452737447288, 'subsample_freq': 4, 'min_child_samples': 32, 'max_bin': 212}. Best is trial 9 with value: 0.7026527696887478.\u001b[0m\n",
            "\u001b[32m[I 2021-06-02 08:21:00,055]\u001b[0m Trial 14 finished with value: 0.721407129400419 and parameters: {'learning_rate': 0.0601844841460802, 'reg_alpha': 6.612122141499013e-06, 'reg_lambda': 0.026545601972276664, 'max_depth': 16, 'num_leaves': 3, 'colsample_bytree': 0.41227819499288176, 'subsample': 0.48350416199272034, 'subsample_freq': 4, 'min_child_samples': 79, 'max_bin': 276}. Best is trial 9 with value: 0.7026527696887478.\u001b[0m\n"
          ],
          "name": "stderr"
        },
        {
          "output_type": "stream",
          "text": [
            "Best Score: 0.7026527696887478\n",
            "Best trial: {'learning_rate': 0.07307446912614166, 'reg_alpha': 1.68408710647427e-06, 'reg_lambda': 0.04509940116671604, 'max_depth': 10, 'num_leaves': 2, 'colsample_bytree': 0.4698601666903272, 'subsample': 0.607577990017349, 'subsample_freq': 3, 'min_child_samples': 73, 'max_bin': 225}\n"
          ],
          "name": "stdout"
        }
      ]
    },
    {
      "cell_type": "code",
      "metadata": {
        "id": "QKnaJApxl0E2"
      },
      "source": [
        "xgb_best = XGBClassifier(learning_rate=0.05172642073584301, reg_alpha=5.990524441908636e-07, reg_lambda=0.05490114238252203, max_depth=14, num_leaves=5, colsample_bytree=0.40705854888453363, subsample=0.9984973133584278, subsample_freq=4, min_child_samples=82, max_bin=264)"
      ],
      "execution_count": null,
      "outputs": []
    },
    {
      "cell_type": "code",
      "metadata": {
        "colab": {
          "base_uri": "https://localhost:8080/"
        },
        "id": "7gsLu8PUmRki",
        "outputId": "bdbc8807-9e98-496d-ece8-aaba0404000e"
      },
      "source": [
        "xgb_scaled = run_kfold(xgb_best, train_scaled, train_y, test_scaled)"
      ],
      "execution_count": null,
      "outputs": [
        {
          "output_type": "stream",
          "text": [
            "FOLD 0 : logloss:0.7289346110755726\n",
            "FOLD 1 : logloss:0.7326592487893373\n",
            "FOLD 2 : logloss:0.7293951585100292\n",
            "FOLD 3 : logloss:0.7275143417207117\n",
            "FOLD 4 : logloss:0.7388594739492529\n",
            "clf : XGBClassifier, Mean:0.7314725668089807\n"
          ],
          "name": "stdout"
        }
      ]
    },
    {
      "cell_type": "code",
      "metadata": {
        "colab": {
          "base_uri": "https://localhost:8080/",
          "height": 198
        },
        "id": "6QbGWyuI5EbN",
        "outputId": "3af33754-7451-42bb-9b41-a8340bf06ecf"
      },
      "source": [
        "df3 = Submission(xgb_scaled)\n",
        "df3.drop('index', inplace=True, axis=1)\n",
        "df3.head()"
      ],
      "execution_count": null,
      "outputs": [
        {
          "output_type": "execute_result",
          "data": {
            "text/html": [
              "<div>\n",
              "<style scoped>\n",
              "    .dataframe tbody tr th:only-of-type {\n",
              "        vertical-align: middle;\n",
              "    }\n",
              "\n",
              "    .dataframe tbody tr th {\n",
              "        vertical-align: top;\n",
              "    }\n",
              "\n",
              "    .dataframe thead th {\n",
              "        text-align: right;\n",
              "    }\n",
              "</style>\n",
              "<table border=\"1\" class=\"dataframe\">\n",
              "  <thead>\n",
              "    <tr style=\"text-align: right;\">\n",
              "      <th></th>\n",
              "      <th>0</th>\n",
              "      <th>1</th>\n",
              "      <th>2</th>\n",
              "    </tr>\n",
              "  </thead>\n",
              "  <tbody>\n",
              "    <tr>\n",
              "      <th>0</th>\n",
              "      <td>0.087157</td>\n",
              "      <td>0.131196</td>\n",
              "      <td>0.781648</td>\n",
              "    </tr>\n",
              "    <tr>\n",
              "      <th>1</th>\n",
              "      <td>0.164866</td>\n",
              "      <td>0.198213</td>\n",
              "      <td>0.636921</td>\n",
              "    </tr>\n",
              "    <tr>\n",
              "      <th>2</th>\n",
              "      <td>0.075986</td>\n",
              "      <td>0.130231</td>\n",
              "      <td>0.793784</td>\n",
              "    </tr>\n",
              "    <tr>\n",
              "      <th>3</th>\n",
              "      <td>0.132422</td>\n",
              "      <td>0.229643</td>\n",
              "      <td>0.637934</td>\n",
              "    </tr>\n",
              "    <tr>\n",
              "      <th>4</th>\n",
              "      <td>0.121330</td>\n",
              "      <td>0.217961</td>\n",
              "      <td>0.660709</td>\n",
              "    </tr>\n",
              "  </tbody>\n",
              "</table>\n",
              "</div>"
            ],
            "text/plain": [
              "          0         1         2\n",
              "0  0.087157  0.131196  0.781648\n",
              "1  0.164866  0.198213  0.636921\n",
              "2  0.075986  0.130231  0.793784\n",
              "3  0.132422  0.229643  0.637934\n",
              "4  0.121330  0.217961  0.660709"
            ]
          },
          "metadata": {
            "tags": []
          },
          "execution_count": 147
        }
      ]
    },
    {
      "cell_type": "code",
      "metadata": {
        "colab": {
          "base_uri": "https://localhost:8080/"
        },
        "id": "RQJlGmlGhyWE",
        "outputId": "6eb59923-8960-48ac-e5ef-a5c82956d811"
      },
      "source": [
        "target_distrib(df3)"
      ],
      "execution_count": null,
      "outputs": [
        {
          "output_type": "stream",
          "text": [
            "target_0 :  0    78\n",
            "1    78\n",
            "2    78\n",
            "dtype: int64\n",
            "target_1 :  0    734\n",
            "1    734\n",
            "2    734\n",
            "dtype: int64\n",
            "target_2 :  0    8622\n",
            "1    8622\n",
            "2    8622\n",
            "dtype: int64\n"
          ],
          "name": "stdout"
        }
      ]
    },
    {
      "cell_type": "code",
      "metadata": {
        "id": "mmf8rJosqcy8"
      },
      "source": [
        "submission_file_3 = sample_submission.copy()\n",
        "submission_file_3.loc[:,1:] = xgb_scaled_new"
      ],
      "execution_count": null,
      "outputs": []
    },
    {
      "cell_type": "markdown",
      "metadata": {
        "id": "Tn5iKlt7iPB6"
      },
      "source": [
        "# 오버샘플링"
      ]
    },
    {
      "cell_type": "markdown",
      "metadata": {
        "id": "oBA0cdYKiTGG"
      },
      "source": [
        "## SMOTETomek"
      ]
    },
    {
      "cell_type": "code",
      "metadata": {
        "id": "S-yYwIPNiQUW"
      },
      "source": [
        "from imblearn.combine import SMOTETomek\n",
        "smk = SMOTETomek()\n",
        "\n",
        "def SMOTETomek(clf):\n",
        "  # fit and apply the transform\n",
        "  X_train_SMOTE, y_train_SMOTE = smk.fit_resample(train_scaled_new, train_y)\n",
        "\n",
        "  sub=np.zeros((test_scaled_new.shape[0], 3))  \n",
        "\n",
        "  warnings.filterwarnings('ignore')\n",
        "\n",
        "  X_train_SMOTE = pd.DataFrame(X_train_SMOTE)\n",
        "  y_train_SMOTE = pd.DataFrame(y_train_SMOTE)\n",
        "  \n",
        "  X_train, X_test, y_train, y_test = train_test_split(X_train_SMOTE, y_train_SMOTE,\n",
        "                                   test_size = 0.2)\n",
        "  \n",
        "  clf.fit(X_train, y_train)\n",
        "  predictions = clf.predict_proba(X_test)\n",
        "  y_test_onehot = pd.get_dummies(y_test)\n",
        "  print('classifier : ', clf.__class__.__name__)\n",
        "  print('logloss : ',log_loss(y_test_onehot, predictions))\n",
        "  sub+=clf.predict_proba(test_scaled_new)\n",
        "\n",
        "  return sub"
      ],
      "execution_count": null,
      "outputs": []
    },
    {
      "cell_type": "code",
      "metadata": {
        "colab": {
          "base_uri": "https://localhost:8080/",
          "height": 505
        },
        "id": "PAF5qxBWibMJ",
        "outputId": "78d73119-84e7-48b1-844f-5aaf9ece3bb4"
      },
      "source": [
        "# xgb  - xgb 오류 발생\n",
        "# smk_xgb = SMOTETomek(xgb_clf)\n",
        "# smk_xgb = pd.DataFrame(smk_xgb, columns=['0', '1', '2'])\n",
        "# smk_xgb.head()"
      ],
      "execution_count": null,
      "outputs": [
        {
          "output_type": "stream",
          "text": [
            "classifier :  XGBClassifier\n",
            "logloss :  0.9570822302087121\n"
          ],
          "name": "stdout"
        },
        {
          "output_type": "error",
          "ename": "ValueError",
          "evalue": "ignored",
          "traceback": [
            "\u001b[0;31m---------------------------------------------------------------------------\u001b[0m",
            "\u001b[0;31mValueError\u001b[0m                                Traceback (most recent call last)",
            "\u001b[0;32m<ipython-input-203-86b2bcd82cc8>\u001b[0m in \u001b[0;36m<module>\u001b[0;34m()\u001b[0m\n\u001b[1;32m      1\u001b[0m \u001b[0;31m# xgb\u001b[0m\u001b[0;34m\u001b[0m\u001b[0;34m\u001b[0m\u001b[0;34m\u001b[0m\u001b[0m\n\u001b[0;32m----> 2\u001b[0;31m \u001b[0msmk_xgb\u001b[0m \u001b[0;34m=\u001b[0m \u001b[0mSMOTETomek\u001b[0m\u001b[0;34m(\u001b[0m\u001b[0mxgb_clf\u001b[0m\u001b[0;34m)\u001b[0m\u001b[0;34m\u001b[0m\u001b[0;34m\u001b[0m\u001b[0m\n\u001b[0m\u001b[1;32m      3\u001b[0m \u001b[0msmk_xgb\u001b[0m \u001b[0;34m=\u001b[0m \u001b[0mpd\u001b[0m\u001b[0;34m.\u001b[0m\u001b[0mDataFrame\u001b[0m\u001b[0;34m(\u001b[0m\u001b[0msmk_xgb\u001b[0m\u001b[0;34m,\u001b[0m \u001b[0mcolumns\u001b[0m\u001b[0;34m=\u001b[0m\u001b[0;34m[\u001b[0m\u001b[0;34m'0'\u001b[0m\u001b[0;34m,\u001b[0m \u001b[0;34m'1'\u001b[0m\u001b[0;34m,\u001b[0m \u001b[0;34m'2'\u001b[0m\u001b[0;34m]\u001b[0m\u001b[0;34m)\u001b[0m\u001b[0;34m\u001b[0m\u001b[0;34m\u001b[0m\u001b[0m\n\u001b[1;32m      4\u001b[0m \u001b[0msmk_xgb\u001b[0m\u001b[0;34m.\u001b[0m\u001b[0mhead\u001b[0m\u001b[0;34m(\u001b[0m\u001b[0;34m)\u001b[0m\u001b[0;34m\u001b[0m\u001b[0;34m\u001b[0m\u001b[0m\n",
            "\u001b[0;32m<ipython-input-158-3ceee5cf8e8d>\u001b[0m in \u001b[0;36mSMOTETomek\u001b[0;34m(clf)\u001b[0m\n\u001b[1;32m     21\u001b[0m   \u001b[0mprint\u001b[0m\u001b[0;34m(\u001b[0m\u001b[0;34m'classifier : '\u001b[0m\u001b[0;34m,\u001b[0m \u001b[0mclf\u001b[0m\u001b[0;34m.\u001b[0m\u001b[0m__class__\u001b[0m\u001b[0;34m.\u001b[0m\u001b[0m__name__\u001b[0m\u001b[0;34m)\u001b[0m\u001b[0;34m\u001b[0m\u001b[0;34m\u001b[0m\u001b[0m\n\u001b[1;32m     22\u001b[0m   \u001b[0mprint\u001b[0m\u001b[0;34m(\u001b[0m\u001b[0;34m'logloss : '\u001b[0m\u001b[0;34m,\u001b[0m\u001b[0mlog_loss\u001b[0m\u001b[0;34m(\u001b[0m\u001b[0my_test_onehot\u001b[0m\u001b[0;34m,\u001b[0m \u001b[0mpredictions\u001b[0m\u001b[0;34m)\u001b[0m\u001b[0;34m)\u001b[0m\u001b[0;34m\u001b[0m\u001b[0;34m\u001b[0m\u001b[0m\n\u001b[0;32m---> 23\u001b[0;31m   \u001b[0msub\u001b[0m\u001b[0;34m+=\u001b[0m\u001b[0mclf\u001b[0m\u001b[0;34m.\u001b[0m\u001b[0mpredict_proba\u001b[0m\u001b[0;34m(\u001b[0m\u001b[0mtest_scaled_new\u001b[0m\u001b[0;34m)\u001b[0m\u001b[0;34m\u001b[0m\u001b[0;34m\u001b[0m\u001b[0m\n\u001b[0m\u001b[1;32m     24\u001b[0m \u001b[0;34m\u001b[0m\u001b[0m\n\u001b[1;32m     25\u001b[0m   \u001b[0;32mreturn\u001b[0m \u001b[0msub\u001b[0m\u001b[0;34m\u001b[0m\u001b[0;34m\u001b[0m\u001b[0m\n",
            "\u001b[0;32m/usr/local/lib/python3.7/dist-packages/xgboost/sklearn.py\u001b[0m in \u001b[0;36mpredict_proba\u001b[0;34m(self, data, ntree_limit, validate_features)\u001b[0m\n\u001b[1;32m    832\u001b[0m         class_probs = self.get_booster().predict(test_dmatrix,\n\u001b[1;32m    833\u001b[0m                                                  \u001b[0mntree_limit\u001b[0m\u001b[0;34m=\u001b[0m\u001b[0mntree_limit\u001b[0m\u001b[0;34m,\u001b[0m\u001b[0;34m\u001b[0m\u001b[0;34m\u001b[0m\u001b[0m\n\u001b[0;32m--> 834\u001b[0;31m                                                  validate_features=validate_features)\n\u001b[0m\u001b[1;32m    835\u001b[0m         \u001b[0;32mif\u001b[0m \u001b[0mself\u001b[0m\u001b[0;34m.\u001b[0m\u001b[0mobjective\u001b[0m \u001b[0;34m==\u001b[0m \u001b[0;34m\"multi:softprob\"\u001b[0m\u001b[0;34m:\u001b[0m\u001b[0;34m\u001b[0m\u001b[0;34m\u001b[0m\u001b[0m\n\u001b[1;32m    836\u001b[0m             \u001b[0;32mreturn\u001b[0m \u001b[0mclass_probs\u001b[0m\u001b[0;34m\u001b[0m\u001b[0;34m\u001b[0m\u001b[0m\n",
            "\u001b[0;32m/usr/local/lib/python3.7/dist-packages/xgboost/core.py\u001b[0m in \u001b[0;36mpredict\u001b[0;34m(self, data, output_margin, ntree_limit, pred_leaf, pred_contribs, approx_contribs, pred_interactions, validate_features)\u001b[0m\n\u001b[1;32m   1282\u001b[0m \u001b[0;34m\u001b[0m\u001b[0m\n\u001b[1;32m   1283\u001b[0m         \u001b[0;32mif\u001b[0m \u001b[0mvalidate_features\u001b[0m\u001b[0;34m:\u001b[0m\u001b[0;34m\u001b[0m\u001b[0;34m\u001b[0m\u001b[0m\n\u001b[0;32m-> 1284\u001b[0;31m             \u001b[0mself\u001b[0m\u001b[0;34m.\u001b[0m\u001b[0m_validate_features\u001b[0m\u001b[0;34m(\u001b[0m\u001b[0mdata\u001b[0m\u001b[0;34m)\u001b[0m\u001b[0;34m\u001b[0m\u001b[0;34m\u001b[0m\u001b[0m\n\u001b[0m\u001b[1;32m   1285\u001b[0m \u001b[0;34m\u001b[0m\u001b[0m\n\u001b[1;32m   1286\u001b[0m         \u001b[0mlength\u001b[0m \u001b[0;34m=\u001b[0m \u001b[0mc_bst_ulong\u001b[0m\u001b[0;34m(\u001b[0m\u001b[0;34m)\u001b[0m\u001b[0;34m\u001b[0m\u001b[0;34m\u001b[0m\u001b[0m\n",
            "\u001b[0;32m/usr/local/lib/python3.7/dist-packages/xgboost/core.py\u001b[0m in \u001b[0;36m_validate_features\u001b[0;34m(self, data)\u001b[0m\n\u001b[1;32m   1688\u001b[0m \u001b[0;34m\u001b[0m\u001b[0m\n\u001b[1;32m   1689\u001b[0m                 raise ValueError(msg.format(self.feature_names,\n\u001b[0;32m-> 1690\u001b[0;31m                                             data.feature_names))\n\u001b[0m\u001b[1;32m   1691\u001b[0m \u001b[0;34m\u001b[0m\u001b[0m\n\u001b[1;32m   1692\u001b[0m     \u001b[0;32mdef\u001b[0m \u001b[0mget_split_value_histogram\u001b[0m\u001b[0;34m(\u001b[0m\u001b[0mself\u001b[0m\u001b[0;34m,\u001b[0m \u001b[0mfeature\u001b[0m\u001b[0;34m,\u001b[0m \u001b[0mfmap\u001b[0m\u001b[0;34m=\u001b[0m\u001b[0;34m''\u001b[0m\u001b[0;34m,\u001b[0m \u001b[0mbins\u001b[0m\u001b[0;34m=\u001b[0m\u001b[0;32mNone\u001b[0m\u001b[0;34m,\u001b[0m \u001b[0mas_pandas\u001b[0m\u001b[0;34m=\u001b[0m\u001b[0;32mTrue\u001b[0m\u001b[0;34m)\u001b[0m\u001b[0;34m:\u001b[0m\u001b[0;34m\u001b[0m\u001b[0;34m\u001b[0m\u001b[0m\n",
            "\u001b[0;31mValueError\u001b[0m: feature_names mismatch: ['0 ', '1 ', '2 ', '3 ', '4 ', '5 ', '6 ', '7 ', '8 ', '9 ', '10'] ['DAYS_BIRTH', 'begin_month', 'income_total', 'Pensioner', 'family_size', 'email', 'reality', 'Civil marriage', 'Commercial associate', 'edu_type_num', 'DAYS_EMPLOYED']\nexpected 3 , 6 , 7 , 2 , 8 , 0 , 4 , 1 , 10, 9 , 5  in input data\ntraining data did not have the following fields: Civil marriage, DAYS_BIRTH, email, begin_month, reality, DAYS_EMPLOYED, family_size, Commercial associate, Pensioner, edu_type_num, income_total"
          ]
        }
      ]
    },
    {
      "cell_type": "code",
      "metadata": {
        "colab": {
          "base_uri": "https://localhost:8080/",
          "height": 235
        },
        "id": "27Suv-EAigkW",
        "outputId": "516114cf-a207-4fb3-cf1f-6c68e3e3f09d"
      },
      "source": [
        "# lgbm\n",
        "smk_lgbm = SMOTETomek(lgbm_clf)\n",
        "smk_lgbm = pd.DataFrame(smk_lgbm, columns=['0', '1', '2'])\n",
        "smk_lgbm.head()"
      ],
      "execution_count": null,
      "outputs": [
        {
          "output_type": "stream",
          "text": [
            "classifier :  LGBMClassifier\n",
            "logloss :  0.7833293641516025\n"
          ],
          "name": "stdout"
        },
        {
          "output_type": "execute_result",
          "data": {
            "text/html": [
              "<div>\n",
              "<style scoped>\n",
              "    .dataframe tbody tr th:only-of-type {\n",
              "        vertical-align: middle;\n",
              "    }\n",
              "\n",
              "    .dataframe tbody tr th {\n",
              "        vertical-align: top;\n",
              "    }\n",
              "\n",
              "    .dataframe thead th {\n",
              "        text-align: right;\n",
              "    }\n",
              "</style>\n",
              "<table border=\"1\" class=\"dataframe\">\n",
              "  <thead>\n",
              "    <tr style=\"text-align: right;\">\n",
              "      <th></th>\n",
              "      <th>0</th>\n",
              "      <th>1</th>\n",
              "      <th>2</th>\n",
              "    </tr>\n",
              "  </thead>\n",
              "  <tbody>\n",
              "    <tr>\n",
              "      <th>0</th>\n",
              "      <td>0.075790</td>\n",
              "      <td>0.120164</td>\n",
              "      <td>0.804047</td>\n",
              "    </tr>\n",
              "    <tr>\n",
              "      <th>1</th>\n",
              "      <td>0.244205</td>\n",
              "      <td>0.163778</td>\n",
              "      <td>0.592017</td>\n",
              "    </tr>\n",
              "    <tr>\n",
              "      <th>2</th>\n",
              "      <td>0.361592</td>\n",
              "      <td>0.261685</td>\n",
              "      <td>0.376723</td>\n",
              "    </tr>\n",
              "    <tr>\n",
              "      <th>3</th>\n",
              "      <td>0.220234</td>\n",
              "      <td>0.156025</td>\n",
              "      <td>0.623741</td>\n",
              "    </tr>\n",
              "    <tr>\n",
              "      <th>4</th>\n",
              "      <td>0.187953</td>\n",
              "      <td>0.211741</td>\n",
              "      <td>0.600305</td>\n",
              "    </tr>\n",
              "  </tbody>\n",
              "</table>\n",
              "</div>"
            ],
            "text/plain": [
              "          0         1         2\n",
              "0  0.075790  0.120164  0.804047\n",
              "1  0.244205  0.163778  0.592017\n",
              "2  0.361592  0.261685  0.376723\n",
              "3  0.220234  0.156025  0.623741\n",
              "4  0.187953  0.211741  0.600305"
            ]
          },
          "metadata": {
            "tags": []
          },
          "execution_count": 204
        }
      ]
    },
    {
      "cell_type": "markdown",
      "metadata": {
        "id": "VcbGuHJ7iieq"
      },
      "source": [
        "## SMOTEENN"
      ]
    },
    {
      "cell_type": "code",
      "metadata": {
        "id": "zYfMx3HI9q9I"
      },
      "source": [
        "xgb_clf = XGBClassifier(n_jobs=-1)\n",
        "lgbm_clf = LGBMClassifier(n_jobs=-1)"
      ],
      "execution_count": null,
      "outputs": []
    },
    {
      "cell_type": "code",
      "metadata": {
        "id": "n0TWBp8M_9dc"
      },
      "source": [
        "from imblearn.combine import SMOTEENN\n",
        "sme = SMOTEENN()"
      ],
      "execution_count": null,
      "outputs": []
    },
    {
      "cell_type": "code",
      "metadata": {
        "id": "0Eil_TrGij1c"
      },
      "source": [
        "def SMOTETEENN(clf):\n",
        "  # fit and apply the transform\n",
        "  X_train_SMOTE, y_train_SMOTE = sme.fit_resample(train_scaled_new, train_y)\n",
        "\n",
        "  sub=np.zeros((test_scaled_new.shape[0], 3))\n",
        "\n",
        "  warnings.filterwarnings('ignore')\n",
        "\n",
        "  X_train_SMOTE = pd.DataFrame(X_train_SMOTE)\n",
        "  y_train_SMOTE = pd.DataFrame(y_train_SMOTE)\n",
        "\n",
        "  X_train, X_val, y_train, y_val = train_test_split(X_train_SMOTE, y_train_SMOTE,\n",
        "                                   test_size = 0.2)\n",
        "  clf.fit(X_train, y_train)\n",
        "  predictions = clf.predict_proba(X_val)\n",
        "  y_test_onehot = pd.get_dummies(y_val)\n",
        "\n",
        "  print('logloss : ',log_loss(y_test_onehot, predictions))\n",
        "  sub += clf.predict_proba(test_scaled_new)\n",
        "\n",
        "  return sub"
      ],
      "execution_count": null,
      "outputs": []
    },
    {
      "cell_type": "code",
      "metadata": {
        "colab": {
          "base_uri": "https://localhost:8080/",
          "height": 615
        },
        "id": "vu-aBuOa7wqi",
        "outputId": "60fca0d9-7f4b-4544-bd1c-d4dff570cbbd"
      },
      "source": [
        "# xgb - xgb 오류 발생\n",
        "# sme_xgb = SMOTETEENN(xgb_clf)\n",
        "# sme_xgb = pd.DataFrame(sme_xgb, columns=[\"0\", \"1\", \"2\"])\n",
        "# sme_xgb.head()"
      ],
      "execution_count": null,
      "outputs": [
        {
          "output_type": "stream",
          "text": [
            "[[0. 0. 0.]\n",
            " [0. 0. 0.]\n",
            " [0. 0. 0.]\n",
            " ...\n",
            " [0. 0. 0.]\n",
            " [0. 0. 0.]\n",
            " [0. 0. 0.]]\n",
            "logloss :  0.8909902334762199\n"
          ],
          "name": "stdout"
        },
        {
          "output_type": "error",
          "ename": "ValueError",
          "evalue": "ignored",
          "traceback": [
            "\u001b[0;31m---------------------------------------------------------------------------\u001b[0m",
            "\u001b[0;31mValueError\u001b[0m                                Traceback (most recent call last)",
            "\u001b[0;32m<ipython-input-196-e7229a12eb3a>\u001b[0m in \u001b[0;36m<module>\u001b[0;34m()\u001b[0m\n\u001b[1;32m      1\u001b[0m \u001b[0;31m# xgb\u001b[0m\u001b[0;34m\u001b[0m\u001b[0;34m\u001b[0m\u001b[0;34m\u001b[0m\u001b[0m\n\u001b[0;32m----> 2\u001b[0;31m \u001b[0msme_xgb\u001b[0m \u001b[0;34m=\u001b[0m \u001b[0mSMOTETEENN\u001b[0m\u001b[0;34m(\u001b[0m\u001b[0mxgb_clf\u001b[0m\u001b[0;34m)\u001b[0m\u001b[0;34m\u001b[0m\u001b[0;34m\u001b[0m\u001b[0m\n\u001b[0m\u001b[1;32m      3\u001b[0m \u001b[0msme_xgb\u001b[0m \u001b[0;34m=\u001b[0m \u001b[0mpd\u001b[0m\u001b[0;34m.\u001b[0m\u001b[0mDataFrame\u001b[0m\u001b[0;34m(\u001b[0m\u001b[0msme_xgb\u001b[0m\u001b[0;34m,\u001b[0m \u001b[0mcolumns\u001b[0m\u001b[0;34m=\u001b[0m\u001b[0;34m[\u001b[0m\u001b[0;34m\"0\"\u001b[0m\u001b[0;34m,\u001b[0m \u001b[0;34m\"1\"\u001b[0m\u001b[0;34m,\u001b[0m \u001b[0;34m\"2\"\u001b[0m\u001b[0;34m]\u001b[0m\u001b[0;34m)\u001b[0m\u001b[0;34m\u001b[0m\u001b[0;34m\u001b[0m\u001b[0m\n\u001b[1;32m      4\u001b[0m \u001b[0msme_xgb\u001b[0m\u001b[0;34m.\u001b[0m\u001b[0mhead\u001b[0m\u001b[0;34m(\u001b[0m\u001b[0;34m)\u001b[0m\u001b[0;34m\u001b[0m\u001b[0;34m\u001b[0m\u001b[0m\n",
            "\u001b[0;32m<ipython-input-195-66ac94f153b3>\u001b[0m in \u001b[0;36mSMOTETEENN\u001b[0;34m(clf)\u001b[0m\n\u001b[1;32m     21\u001b[0m \u001b[0;34m\u001b[0m\u001b[0m\n\u001b[1;32m     22\u001b[0m   \u001b[0mprint\u001b[0m\u001b[0;34m(\u001b[0m\u001b[0;34m'logloss : '\u001b[0m\u001b[0;34m,\u001b[0m\u001b[0mlog_loss\u001b[0m\u001b[0;34m(\u001b[0m\u001b[0my_test_onehot\u001b[0m\u001b[0;34m,\u001b[0m \u001b[0mpredictions\u001b[0m\u001b[0;34m)\u001b[0m\u001b[0;34m)\u001b[0m\u001b[0;34m\u001b[0m\u001b[0;34m\u001b[0m\u001b[0m\n\u001b[0;32m---> 23\u001b[0;31m   \u001b[0mprint\u001b[0m\u001b[0;34m(\u001b[0m\u001b[0mclf\u001b[0m\u001b[0;34m.\u001b[0m\u001b[0mpredict_proba\u001b[0m\u001b[0;34m(\u001b[0m\u001b[0mtest_scaled_new\u001b[0m\u001b[0;34m)\u001b[0m\u001b[0;34m)\u001b[0m\u001b[0;34m\u001b[0m\u001b[0;34m\u001b[0m\u001b[0m\n\u001b[0m\u001b[1;32m     24\u001b[0m   \u001b[0msub\u001b[0m \u001b[0;34m+=\u001b[0m \u001b[0mclf\u001b[0m\u001b[0;34m.\u001b[0m\u001b[0mpredict_proba\u001b[0m\u001b[0;34m(\u001b[0m\u001b[0mtest_scaled_new\u001b[0m\u001b[0;34m)\u001b[0m\u001b[0;34m\u001b[0m\u001b[0;34m\u001b[0m\u001b[0m\n\u001b[1;32m     25\u001b[0m \u001b[0;34m\u001b[0m\u001b[0m\n",
            "\u001b[0;32m/usr/local/lib/python3.7/dist-packages/xgboost/sklearn.py\u001b[0m in \u001b[0;36mpredict_proba\u001b[0;34m(self, data, ntree_limit, validate_features)\u001b[0m\n\u001b[1;32m    832\u001b[0m         class_probs = self.get_booster().predict(test_dmatrix,\n\u001b[1;32m    833\u001b[0m                                                  \u001b[0mntree_limit\u001b[0m\u001b[0;34m=\u001b[0m\u001b[0mntree_limit\u001b[0m\u001b[0;34m,\u001b[0m\u001b[0;34m\u001b[0m\u001b[0;34m\u001b[0m\u001b[0m\n\u001b[0;32m--> 834\u001b[0;31m                                                  validate_features=validate_features)\n\u001b[0m\u001b[1;32m    835\u001b[0m         \u001b[0;32mif\u001b[0m \u001b[0mself\u001b[0m\u001b[0;34m.\u001b[0m\u001b[0mobjective\u001b[0m \u001b[0;34m==\u001b[0m \u001b[0;34m\"multi:softprob\"\u001b[0m\u001b[0;34m:\u001b[0m\u001b[0;34m\u001b[0m\u001b[0;34m\u001b[0m\u001b[0m\n\u001b[1;32m    836\u001b[0m             \u001b[0;32mreturn\u001b[0m \u001b[0mclass_probs\u001b[0m\u001b[0;34m\u001b[0m\u001b[0;34m\u001b[0m\u001b[0m\n",
            "\u001b[0;32m/usr/local/lib/python3.7/dist-packages/xgboost/core.py\u001b[0m in \u001b[0;36mpredict\u001b[0;34m(self, data, output_margin, ntree_limit, pred_leaf, pred_contribs, approx_contribs, pred_interactions, validate_features)\u001b[0m\n\u001b[1;32m   1282\u001b[0m \u001b[0;34m\u001b[0m\u001b[0m\n\u001b[1;32m   1283\u001b[0m         \u001b[0;32mif\u001b[0m \u001b[0mvalidate_features\u001b[0m\u001b[0;34m:\u001b[0m\u001b[0;34m\u001b[0m\u001b[0;34m\u001b[0m\u001b[0m\n\u001b[0;32m-> 1284\u001b[0;31m             \u001b[0mself\u001b[0m\u001b[0;34m.\u001b[0m\u001b[0m_validate_features\u001b[0m\u001b[0;34m(\u001b[0m\u001b[0mdata\u001b[0m\u001b[0;34m)\u001b[0m\u001b[0;34m\u001b[0m\u001b[0;34m\u001b[0m\u001b[0m\n\u001b[0m\u001b[1;32m   1285\u001b[0m \u001b[0;34m\u001b[0m\u001b[0m\n\u001b[1;32m   1286\u001b[0m         \u001b[0mlength\u001b[0m \u001b[0;34m=\u001b[0m \u001b[0mc_bst_ulong\u001b[0m\u001b[0;34m(\u001b[0m\u001b[0;34m)\u001b[0m\u001b[0;34m\u001b[0m\u001b[0;34m\u001b[0m\u001b[0m\n",
            "\u001b[0;32m/usr/local/lib/python3.7/dist-packages/xgboost/core.py\u001b[0m in \u001b[0;36m_validate_features\u001b[0;34m(self, data)\u001b[0m\n\u001b[1;32m   1688\u001b[0m \u001b[0;34m\u001b[0m\u001b[0m\n\u001b[1;32m   1689\u001b[0m                 raise ValueError(msg.format(self.feature_names,\n\u001b[0;32m-> 1690\u001b[0;31m                                             data.feature_names))\n\u001b[0m\u001b[1;32m   1691\u001b[0m \u001b[0;34m\u001b[0m\u001b[0m\n\u001b[1;32m   1692\u001b[0m     \u001b[0;32mdef\u001b[0m \u001b[0mget_split_value_histogram\u001b[0m\u001b[0;34m(\u001b[0m\u001b[0mself\u001b[0m\u001b[0;34m,\u001b[0m \u001b[0mfeature\u001b[0m\u001b[0;34m,\u001b[0m \u001b[0mfmap\u001b[0m\u001b[0;34m=\u001b[0m\u001b[0;34m''\u001b[0m\u001b[0;34m,\u001b[0m \u001b[0mbins\u001b[0m\u001b[0;34m=\u001b[0m\u001b[0;32mNone\u001b[0m\u001b[0;34m,\u001b[0m \u001b[0mas_pandas\u001b[0m\u001b[0;34m=\u001b[0m\u001b[0;32mTrue\u001b[0m\u001b[0;34m)\u001b[0m\u001b[0;34m:\u001b[0m\u001b[0;34m\u001b[0m\u001b[0;34m\u001b[0m\u001b[0m\n",
            "\u001b[0;31mValueError\u001b[0m: feature_names mismatch: ['0 ', '1 ', '2 ', '3 ', '4 ', '5 ', '6 ', '7 ', '8 ', '9 ', '10'] ['DAYS_BIRTH', 'begin_month', 'income_total', 'Pensioner', 'family_size', 'email', 'reality', 'Civil marriage', 'Commercial associate', 'edu_type_num', 'DAYS_EMPLOYED']\nexpected 3 , 6 , 7 , 2 , 8 , 0 , 4 , 1 , 10, 9 , 5  in input data\ntraining data did not have the following fields: Civil marriage, DAYS_BIRTH, email, begin_month, reality, DAYS_EMPLOYED, family_size, Commercial associate, Pensioner, edu_type_num, income_total"
          ]
        }
      ]
    },
    {
      "cell_type": "code",
      "metadata": {
        "colab": {
          "base_uri": "https://localhost:8080/",
          "height": 216
        },
        "id": "qvbKfjpWinGG",
        "outputId": "40cfce10-a59e-440c-9ee0-d2c6d402a6ea"
      },
      "source": [
        "# lgbm\n",
        "sme_lgbm = SMOTETEENN(lgbm_clf)\n",
        "sme_lgbm = pd.DataFrame(sme_lgbm, columns=['0', '1', '2'])\n",
        "sme_lgbm.head()"
      ],
      "execution_count": null,
      "outputs": [
        {
          "output_type": "stream",
          "text": [
            "logloss :  0.6821157638180141\n"
          ],
          "name": "stdout"
        },
        {
          "output_type": "execute_result",
          "data": {
            "text/html": [
              "<div>\n",
              "<style scoped>\n",
              "    .dataframe tbody tr th:only-of-type {\n",
              "        vertical-align: middle;\n",
              "    }\n",
              "\n",
              "    .dataframe tbody tr th {\n",
              "        vertical-align: top;\n",
              "    }\n",
              "\n",
              "    .dataframe thead th {\n",
              "        text-align: right;\n",
              "    }\n",
              "</style>\n",
              "<table border=\"1\" class=\"dataframe\">\n",
              "  <thead>\n",
              "    <tr style=\"text-align: right;\">\n",
              "      <th></th>\n",
              "      <th>0</th>\n",
              "      <th>1</th>\n",
              "      <th>2</th>\n",
              "    </tr>\n",
              "  </thead>\n",
              "  <tbody>\n",
              "    <tr>\n",
              "      <th>0</th>\n",
              "      <td>0.061379</td>\n",
              "      <td>0.063965</td>\n",
              "      <td>0.874656</td>\n",
              "    </tr>\n",
              "    <tr>\n",
              "      <th>1</th>\n",
              "      <td>0.336694</td>\n",
              "      <td>0.198514</td>\n",
              "      <td>0.464792</td>\n",
              "    </tr>\n",
              "    <tr>\n",
              "      <th>2</th>\n",
              "      <td>0.491706</td>\n",
              "      <td>0.207333</td>\n",
              "      <td>0.300961</td>\n",
              "    </tr>\n",
              "    <tr>\n",
              "      <th>3</th>\n",
              "      <td>0.310650</td>\n",
              "      <td>0.211396</td>\n",
              "      <td>0.477954</td>\n",
              "    </tr>\n",
              "    <tr>\n",
              "      <th>4</th>\n",
              "      <td>0.511114</td>\n",
              "      <td>0.182770</td>\n",
              "      <td>0.306116</td>\n",
              "    </tr>\n",
              "  </tbody>\n",
              "</table>\n",
              "</div>"
            ],
            "text/plain": [
              "          0         1         2\n",
              "0  0.061379  0.063965  0.874656\n",
              "1  0.336694  0.198514  0.464792\n",
              "2  0.491706  0.207333  0.300961\n",
              "3  0.310650  0.211396  0.477954\n",
              "4  0.511114  0.182770  0.306116"
            ]
          },
          "metadata": {
            "tags": []
          },
          "execution_count": 207
        }
      ]
    },
    {
      "cell_type": "markdown",
      "metadata": {
        "id": "Oc7UgL37ioRc"
      },
      "source": [
        "## SMOTE"
      ]
    },
    {
      "cell_type": "code",
      "metadata": {
        "id": "ioQ3HpixipTs"
      },
      "source": [
        "  # define oversampling strategy\n",
        "  SMOTE = SMOTE()"
      ],
      "execution_count": null,
      "outputs": []
    },
    {
      "cell_type": "code",
      "metadata": {
        "id": "S-ecBHM0iraK"
      },
      "source": [
        "def SMOTE_func(model_name):\n",
        "  # fit and apply the transform\n",
        "  X_train_SMOTE, y_train_SMOTE = SMOTE.fit_resample(train_X, train_y)\n",
        "\n",
        "  warnings.filterwarnings('ignore')\n",
        "\n",
        "  X_train_SMOTE = pd.DataFrame(X_train_SMOTE)\n",
        "  y_train_SMOTE = pd.DataFrame(y_train_SMOTE)\n",
        "\n",
        "  folds = StratifiedKFold(n_splits=5, shuffle=True)\n",
        "  outcomes = []\n",
        "  for n_fold, (train_index, val_index)  in enumerate(folds.split(X_train_SMOTE, y_train_SMOTE)):\n",
        "      X_train, X_val = X_train_SMOTE.iloc[train_index], X_train_SMOTE.iloc[val_index]\n",
        "      y_train, y_val = y_train_SMOTE.iloc[train_index], y_train_SMOTE.iloc[val_index]\n",
        "      \n",
        "      if model_name == 'rf':\n",
        "        clf = RandomForestClassifier()\n",
        "      elif model_name == 'lr':\n",
        "        clf = LogisticRegression()\n",
        "      elif model_name == 'lgbm':\n",
        "        clf = LGBMClassifier(n_jobs=-1)\n",
        "      elif model_name == 'xgb':\n",
        "        clf = XGBClassifier(n_jobs=-1)\n",
        "      \n",
        "      clf.fit(X_train, y_train)\n",
        "      predictions = clf.predict_proba(X_val)\n",
        "      y_val_onehot = pd.get_dummies(y_val)\n",
        "      logloss = log_loss(y_val_onehot, predictions)\n",
        "      outcomes.append(logloss)\n",
        "\n",
        "  print(np.mean(outcomes))"
      ],
      "execution_count": null,
      "outputs": []
    },
    {
      "cell_type": "code",
      "metadata": {
        "colab": {
          "base_uri": "https://localhost:8080/"
        },
        "id": "x6qS3wDyitOC",
        "outputId": "c5ae046e-62fb-4341-98f7-fb48572395a5"
      },
      "source": [
        "print('rf : ')\n",
        "SMOTE_func('rf')\n",
        "print('lr : ')\n",
        "SMOTE_func('lr')\n",
        "print('lgbm : ')\n",
        "SMOTE_func('lgbm')\n",
        "print('xgb : ')\n",
        "SMOTE_func('xgb')"
      ],
      "execution_count": null,
      "outputs": [
        {
          "output_type": "stream",
          "text": [
            "rf : \n",
            "0.7124812004354107\n",
            "lr : \n",
            "1.0887862231044683\n",
            "lgbm : \n",
            "0.7191749598299975\n",
            "xgb : \n",
            "0.8846194788564906\n"
          ],
          "name": "stdout"
        }
      ]
    }
  ]
}